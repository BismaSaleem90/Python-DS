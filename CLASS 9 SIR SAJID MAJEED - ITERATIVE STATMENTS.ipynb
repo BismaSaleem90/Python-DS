{
 "cells": [
  {
   "cell_type": "code",
   "execution_count": 3,
   "id": "0c96f5c4-3ee4-4bec-8b94-3d7bd9ddc7fc",
   "metadata": {},
   "outputs": [],
   "source": [
    "import random"
   ]
  },
  {
   "cell_type": "code",
   "execution_count": 4,
   "id": "c739a8d9-1ab3-475a-a68d-26b75b3ee351",
   "metadata": {},
   "outputs": [
    {
     "name": "stdout",
     "output_type": "stream",
     "text": [
      "57\n"
     ]
    },
    {
     "name": "stdin",
     "output_type": "stream",
     "text": [
      "Guesss the Num 57\n"
     ]
    },
    {
     "name": "stdout",
     "output_type": "stream",
     "text": [
      "Correct Guess\n"
     ]
    }
   ],
   "source": [
    "jackpot = random.randint(1,100)\n",
    "print(jackpot)\n",
    "guess_num= int(input('Guesss the Num'))\n",
    "while guess_num!=jackpot:\n",
    "    if guess_num< jackpot:\n",
    "        print('Guess Higher')\n",
    "    else: \n",
    "        print('Guess Lower')\n",
    "    guess_num= int(input('Guesss the Num'))\n",
    "    counter=counter+1\n",
    "else:\n",
    "    print('Correct Guess')"
   ]
  },
  {
   "cell_type": "code",
   "execution_count": 7,
   "id": "a08a444d-844e-4e7a-a74c-8cf7278930f1",
   "metadata": {},
   "outputs": [
    {
     "name": "stdout",
     "output_type": "stream",
     "text": [
      "1\n",
      "2\n",
      "3\n",
      "4\n",
      "5\n",
      "6\n",
      "7\n",
      "8\n",
      "9\n"
     ]
    }
   ],
   "source": [
    "#FOR LOOP:\n",
    "\n",
    "for num in range(1,10):\n",
    "    print(num)"
   ]
  },
  {
   "cell_type": "code",
   "execution_count": null,
   "id": "10cc7ea7-757c-49d1-a335-30b0de5ea519",
   "metadata": {},
   "outputs": [],
   "source": [
    "# for k bad iterator\n",
    "# in k bad iterable "
   ]
  },
  {
   "cell_type": "code",
   "execution_count": 9,
   "id": "990b0d94-96ce-45eb-ae90-c6a7462fef08",
   "metadata": {},
   "outputs": [
    {
     "name": "stdout",
     "output_type": "stream",
     "text": [
      "apple\n",
      "berry\n",
      "cherry\n"
     ]
    }
   ],
   "source": [
    "fruits=['apple','berry','cherry']\n",
    "for x in fruits:\n",
    "    print(x)"
   ]
  },
  {
   "cell_type": "code",
   "execution_count": 11,
   "id": "981f74a4-bce0-47d4-b420-26dcc6db893d",
   "metadata": {},
   "outputs": [
    {
     "name": "stdout",
     "output_type": "stream",
     "text": [
      "A\n",
      "h\n",
      "m\n",
      "e\n",
      "d\n"
     ]
    }
   ],
   "source": [
    "fruits=['apple','berry','cherry']\n",
    "name= 'Ahmed'\n",
    "for x in name:\n",
    "    print(x)"
   ]
  },
  {
   "cell_type": "code",
   "execution_count": 21,
   "id": "17d3a50b-7b9b-45bb-84ec-a9266845bc99",
   "metadata": {},
   "outputs": [
    {
     "name": "stdout",
     "output_type": "stream",
     "text": [
      "('abc', 45)\n",
      "('nft', 34)\n",
      "('tyv', 45)\n"
     ]
    }
   ],
   "source": [
    "thisdict={'abc':45,'nft':34,'tyv':45}\n",
    "for key in thisdict.items():\n",
    "  print(key)"
   ]
  },
  {
   "cell_type": "code",
   "execution_count": 23,
   "id": "3acdd0d5-5c14-49c2-bb36-e2e6865a23da",
   "metadata": {},
   "outputs": [
    {
     "name": "stdout",
     "output_type": "stream",
     "text": [
      "abc 45\n",
      "nft 34\n",
      "tyv 45\n"
     ]
    }
   ],
   "source": [
    "thisdict={'abc':45,'nft':34,'tyv':45}\n",
    "for key in thisdict:\n",
    "  print(key,thisdict[key])"
   ]
  },
  {
   "cell_type": "code",
   "execution_count": 29,
   "id": "44288699-1e1b-4681-b9d9-3998c7307c3e",
   "metadata": {},
   "outputs": [
    {
     "name": "stdout",
     "output_type": "stream",
     "text": [
      "[1100.0, 1210.0, 1331.0, 1464.1000000000001, 1610.5100000000002, 1771.5610000000004, 1948.7171000000005, 2143.5888100000006, 2357.9476910000008, 2593.742460100001]\n"
     ]
    }
   ],
   "source": [
    "# Current population =1000\n",
    "# rate of increase = 10%\n",
    "# find out population at the end of each of last 10 years\n",
    "\n",
    "population = 1000\n",
    "rate_of_increase = 0.10\n",
    "\n",
    "populations = []\n",
    "for year in range(1, 11):\n",
    "    population *= (1 + rate_of_increase)\n",
    "    populations.append(population)\n",
    "\n",
    "print(populations)\n"
   ]
  },
  {
   "cell_type": "code",
   "execution_count": 43,
   "id": "71672e08-bdb7-4e39-93d3-507453a80aa0",
   "metadata": {},
   "outputs": [
    {
     "name": "stdout",
     "output_type": "stream",
     "text": [
      "10 Years ago 10000\n",
      "9 Years ago 9091\n",
      "8 Years ago 8265\n",
      "7 Years ago 7514\n",
      "6 Years ago 6831\n",
      "5 Years ago 6210\n",
      "4 Years ago 5645\n",
      "3 Years ago 5132\n",
      "2 Years ago 4665\n",
      "1 Years ago 4241\n"
     ]
    }
   ],
   "source": [
    "current_population= 10000\n",
    "for year in range(10,0,-1):\n",
    "    print(year,'Years ago',current_population)\n",
    "    current_population=round(current_population/1.1)"
   ]
  },
  {
   "cell_type": "markdown",
   "id": "89fbb2c9-49f8-4ca9-908f-ae445207c3f2",
   "metadata": {},
   "source": [
    "### NESTED LOOPS:"
   ]
  },
  {
   "cell_type": "code",
   "execution_count": 58,
   "id": "9f060d0a-fb23-472a-bfae-1790a2719f70",
   "metadata": {},
   "outputs": [
    {
     "name": "stdout",
     "output_type": "stream",
     "text": [
      "1 1\n",
      "1 2\n",
      "1 3\n",
      "1 4\n",
      "2 1\n",
      "2 2\n",
      "2 3\n",
      "2 4\n",
      "3 1\n",
      "3 2\n",
      "3 3\n",
      "3 4\n",
      "4 1\n",
      "4 2\n",
      "4 3\n",
      "4 4\n"
     ]
    }
   ],
   "source": [
    "for loop in range(1,5):\n",
    "    for inner_loop in range(1,5):\n",
    "        print(loop, inner_loop)"
   ]
  },
  {
   "cell_type": "code",
   "execution_count": 60,
   "id": "23106836-a525-44e6-9b1c-d85dd7e9f150",
   "metadata": {},
   "outputs": [
    {
     "name": "stdout",
     "output_type": "stream",
     "text": [
      "1 1\n",
      "1 3\n",
      "3 1\n",
      "3 3\n"
     ]
    }
   ],
   "source": [
    "for loop in range(1,5,2):\n",
    "    for inner_loop in range(1,5,2):\n",
    "        print(loop, inner_loop)"
   ]
  },
  {
   "cell_type": "code",
   "execution_count": 62,
   "id": "948e593c-8ae8-46d9-898e-8a356e5700a9",
   "metadata": {},
   "outputs": [
    {
     "name": "stdin",
     "output_type": "stream",
     "text": [
      "enter no of  rows for pattern: 3\n"
     ]
    },
    {
     "name": "stdout",
     "output_type": "stream",
     "text": [
      "*\n",
      "*\n",
      "*\n"
     ]
    }
   ],
   "source": [
    "# #patterm:\n",
    "# ***\n",
    "# ****\n",
    "# ******\n",
    "\n",
    "rows=int(input('enter no of  rows for pattern:'))\n",
    "for i in range(1,rows+1): #cz woh 1 kam time chalta hai esliye+1 kiya hai\n",
    "    print('*')\n"
   ]
  },
  {
   "cell_type": "code",
   "execution_count": 64,
   "id": "2b8c289b-e29c-4373-aa40-25dc73d0a319",
   "metadata": {},
   "outputs": [
    {
     "name": "stdin",
     "output_type": "stream",
     "text": [
      "enter no of  rows for pattern: 2\n"
     ]
    },
    {
     "name": "stdout",
     "output_type": "stream",
     "text": [
      "*\n",
      "*\n"
     ]
    }
   ],
   "source": [
    "rows=int(input('enter no of  rows for pattern:'))\n",
    "for i in range(1,rows+1):\n",
    "    for j in range(1,i+1):\n",
    "        print('*')"
   ]
  },
  {
   "cell_type": "code",
   "execution_count": 66,
   "id": "3e664adf-b643-4165-9343-942287844b42",
   "metadata": {},
   "outputs": [
    {
     "name": "stdin",
     "output_type": "stream",
     "text": [
      "enter no of  rows for pattern: 2\n"
     ]
    },
    {
     "name": "stdout",
     "output_type": "stream",
     "text": [
      "*\n",
      "**\n"
     ]
    }
   ],
   "source": [
    "rows=int(input('enter no of  rows for pattern:'))\n",
    "for i in range(1,rows+1):\n",
    "    for j in range(1,i+1):\n",
    "        print('*',end='')\n",
    "    print()"
   ]
  },
  {
   "cell_type": "code",
   "execution_count": 68,
   "id": "64474496-e151-4442-820b-c18d02170023",
   "metadata": {},
   "outputs": [
    {
     "name": "stdout",
     "output_type": "stream",
     "text": [
      "*\n",
      "*\n"
     ]
    }
   ],
   "source": [
    "print('*')\n",
    "print('*')"
   ]
  },
  {
   "cell_type": "code",
   "execution_count": 72,
   "id": "1dac6426-aecd-4f42-93a3-df9479def769",
   "metadata": {},
   "outputs": [
    {
     "name": "stdout",
     "output_type": "stream",
     "text": [
      "*\n",
      "**\n"
     ]
    }
   ],
   "source": [
    "print('*')\n",
    "print('*',end='')\n",
    "print('*')"
   ]
  },
  {
   "cell_type": "code",
   "execution_count": 86,
   "id": "a143b895-6982-4c9d-9593-3dcf44c47e07",
   "metadata": {},
   "outputs": [
    {
     "name": "stdin",
     "output_type": "stream",
     "text": [
      "enter no of  rows for pattern: 4\n"
     ]
    },
    {
     "name": "stdout",
     "output_type": "stream",
     "text": [
      "****\n"
     ]
    }
   ],
   "source": [
    "rows=int(input('enter no of  rows for pattern:'))\n",
    "for i in range(4,rows+1):\n",
    "    for j in range(1,i+1):\n",
    "        print('*',end='')\n",
    "    print()"
   ]
  },
  {
   "cell_type": "code",
   "execution_count": null,
   "id": "9f34f00f-53c2-4db7-9641-f807959c397d",
   "metadata": {},
   "outputs": [],
   "source": []
  },
  {
   "cell_type": "code",
   "execution_count": null,
   "id": "ff22c1a6-4359-4b85-81af-f63b787129be",
   "metadata": {},
   "outputs": [],
   "source": []
  }
 ],
 "metadata": {
  "kernelspec": {
   "display_name": "Python 3 (ipykernel)",
   "language": "python",
   "name": "python3"
  },
  "language_info": {
   "codemirror_mode": {
    "name": "ipython",
    "version": 3
   },
   "file_extension": ".py",
   "mimetype": "text/x-python",
   "name": "python",
   "nbconvert_exporter": "python",
   "pygments_lexer": "ipython3",
   "version": "3.12.4"
  }
 },
 "nbformat": 4,
 "nbformat_minor": 5
}
