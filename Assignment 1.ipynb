{
 "cells": [
  {
   "cell_type": "markdown",
   "id": "9d66fe8d-fe19-43ac-9e38-82cce7a05ad6",
   "metadata": {},
   "source": [
    "#Question1:\n",
    "#Create the variable first name and your last name and Compare the\n",
    "length of your first name and your last name.\n",
    "#Using the len() built-in function, find the length of your first\n",
    "name"
   ]
  },
  {
   "cell_type": "code",
   "execution_count": 1,
   "id": "339468c2-e94a-4c16-974d-8ad5d8599573",
   "metadata": {},
   "outputs": [
    {
     "name": "stdout",
     "output_type": "stream",
     "text": [
      "5\n",
      "6\n",
      "the length of first_name is: 5\n"
     ]
    }
   ],
   "source": [
    "first_name = \"BISMA\"\n",
    "last_name = \"SALEEM\"\n",
    "print(len(first_name))\n",
    "print(len(last_name))\n",
    "print(\"the length of first_name is:\" ,5)"
   ]
  },
  {
   "cell_type": "markdown",
   "id": "dff33b43-4edd-4eaf-a448-d026ad76135d",
   "metadata": {},
   "source": [
    "#Question 2:\n",
    "Declare 5 as num_one and 4 as num_two\n",
    " Add num_one and num_two and assign the value to a variable total\n",
    " Subtract num_two from num_one and assign the value to a variable\n",
    "diff\n",
    " Multiply num_two and num_one and assign the value to a variable\n",
    "product\n",
    " Divide num_one by num_two and assign the value to a variable\n",
    "division\n",
    " Use modulus division to find num_two divided by num_one and assign\n",
    "the value to a variable remainder\n",
    " Calculate num_one to the power of num_two and assign the value to\n",
    "a variable exp\n",
    " Find floor division of num_one by num_two and assign the value to\n",
    "a variable floor_division"
   ]
  },
  {
   "cell_type": "code",
   "execution_count": 3,
   "id": "b939fa41-873c-47cc-a22a-e029033d150c",
   "metadata": {},
   "outputs": [
    {
     "name": "stdout",
     "output_type": "stream",
     "text": [
      "9\n"
     ]
    }
   ],
   "source": [
    "num_one = 5\n",
    "num_two = 4\n",
    "num_three=num_one+num_two\n",
    "print(num_three)"
   ]
  },
  {
   "cell_type": "code",
   "execution_count": 5,
   "id": "dd4d0051-fe7e-41ba-85ad-a0979c8d3ff2",
   "metadata": {},
   "outputs": [
    {
     "name": "stdout",
     "output_type": "stream",
     "text": [
      "1\n"
     ]
    }
   ],
   "source": [
    "num_four= num_one-num_two\n",
    "print(num_four)"
   ]
  },
  {
   "cell_type": "code",
   "execution_count": 7,
   "id": "7db95277-f2c6-48a5-a61f-511398721528",
   "metadata": {},
   "outputs": [
    {
     "name": "stdout",
     "output_type": "stream",
     "text": [
      "20\n"
     ]
    }
   ],
   "source": [
    "num_five=num_two*num_one\n",
    "print(num_five)"
   ]
  },
  {
   "cell_type": "code",
   "execution_count": 9,
   "id": "f5a27e38-d15a-4913-a33c-cecd1435a53a",
   "metadata": {},
   "outputs": [
    {
     "name": "stdout",
     "output_type": "stream",
     "text": [
      "1.25\n"
     ]
    }
   ],
   "source": [
    "num_six= num_one/num_two\n",
    "print(num_six)"
   ]
  },
  {
   "cell_type": "code",
   "execution_count": 11,
   "id": "b358b817-ca5a-4d90-a492-00c69206e183",
   "metadata": {},
   "outputs": [
    {
     "name": "stdout",
     "output_type": "stream",
     "text": [
      "4\n"
     ]
    }
   ],
   "source": [
    "num_seven= num_two%num_one\n",
    "print(num_seven)"
   ]
  },
  {
   "cell_type": "code",
   "execution_count": 13,
   "id": "ebce4601-8ffa-4ed3-b852-0f45dd3385eb",
   "metadata": {},
   "outputs": [
    {
     "name": "stdout",
     "output_type": "stream",
     "text": [
      "625\n"
     ]
    }
   ],
   "source": [
    "num_eight= num_one**num_two\n",
    "print(num_eight)"
   ]
  },
  {
   "cell_type": "code",
   "execution_count": 15,
   "id": "68d304f9-f2b4-4011-b05a-52dc6d3cc9b7",
   "metadata": {},
   "outputs": [
    {
     "name": "stdout",
     "output_type": "stream",
     "text": [
      "1\n"
     ]
    }
   ],
   "source": [
    "num_nine=num_one//num_two\n",
    "print(num_nine)"
   ]
  },
  {
   "cell_type": "markdown",
   "id": "674780e9-9076-47c0-a27d-bacb4bef4999",
   "metadata": {},
   "source": [
    "#Question 3:  The radius of a circle is 30 meters.  Calculate the area of a circle and assign the value to a variable name of area_of_circe  Calculate the circumference of a circle and assign the value to a variable name of circum_of_cicle  Take radius as user input and calculate the area."
   ]
  },
  {
   "cell_type": "code",
   "execution_count": 17,
   "id": "c6213b8e-27d9-414c-8398-0004090b1833",
   "metadata": {},
   "outputs": [
    {
     "name": "stdout",
     "output_type": "stream",
     "text": [
      "2826.0\n"
     ]
    }
   ],
   "source": [
    "radius= 30\n",
    "pie= 3.14\n",
    "area_of_circle=pie*radius**2\n",
    "print(area_of_circle)"
   ]
  },
  {
   "cell_type": "code",
   "execution_count": 19,
   "id": "ca3f3e2a-f7fe-4c69-92ca-0c25bdcafa3c",
   "metadata": {},
   "outputs": [
    {
     "name": "stdout",
     "output_type": "stream",
     "text": [
      "188.51999999999998\n"
     ]
    }
   ],
   "source": [
    "circum_of_circle=2*3.142*30\n",
    "print(circum_of_circle)"
   ]
  },
  {
   "cell_type": "code",
   "execution_count": 26,
   "id": "6e516bd6-c355-48f5-a77b-9b91f254d467",
   "metadata": {},
   "outputs": [
    {
     "name": "stdin",
     "output_type": "stream",
     "text": [
      "Enter your number1: 20\n",
      "Enter your number2: 3.14\n"
     ]
    },
    {
     "name": "stdout",
     "output_type": "stream",
     "text": [
      "1256.0\n",
      "the Area of Circle is 1256.0\n"
     ]
    }
   ],
   "source": [
    "radius_1 = float(input(\"Enter your number1:\"))\n",
    "pie_1 = float(input(\"Enter your number2:\"))\n",
    "area_of_circle=pie_1*radius_1**2\n",
    "print(area_of_circle)\n",
    "print(\"the Area of Circle is\", area_of_circle)"
   ]
  },
  {
   "cell_type": "markdown",
   "id": "fce84063-d4c1-49e4-9e3f-a34cd060ae98",
   "metadata": {},
   "source": [
    "#Question 4:\n",
    "A grocery store sells a bag of ice for $1.25 and makes a 20% profit. If\n",
    "it sells 500 bags of ice, how much total profit does it make?"
   ]
  },
  {
   "cell_type": "code",
   "execution_count": 32,
   "id": "2c26d9aa-2d49-4ab7-918b-695b4f7c7b3b",
   "metadata": {},
   "outputs": [
    {
     "name": "stdout",
     "output_type": "stream",
     "text": [
      "125.0\n"
     ]
    }
   ],
   "source": [
    "cost_of_ice_bag= 1.25\n",
    "Profit_margin= 0.2\n",
    "Total_no_of_bags= 500\n",
    "total_profit= (Profit_margin*cost_of_ice_bag)*Total_no_of_bags\n",
    "print(total_profit)"
   ]
  },
  {
   "cell_type": "markdown",
   "id": "db75bad5-55cd-4f9c-bd9d-dbd3597f1247",
   "metadata": {},
   "source": [
    "Question 5:\n",
    "A travel company wants to fly a plane to the Bahamas. Flying the plane\n",
    "costs 5000 dollars. So far, 29 people have signed up for the trip. If\n",
    "the company charges 200 dollars per ticket, what is the profit made by\n",
    "the company? Create variables for each numeric quantity and use\n",
    "appropriate arithmetic operations."
   ]
  },
  {
   "cell_type": "code",
   "execution_count": 43,
   "id": "d662b05a-5f28-4af9-ad74-e24afbac61ab",
   "metadata": {},
   "outputs": [
    {
     "name": "stdout",
     "output_type": "stream",
     "text": [
      "total profit earned: 800\n"
     ]
    }
   ],
   "source": [
    "cost_of_flying = 5000\n",
    "no_of_passengers = 29\n",
    "charges = 200\n",
    "\n",
    "total_earning = no_of_passengers*charges\n",
    "Profit= total_earning-cost_of_flying\n",
    "print(\"total profit earned:\" ,Profit)"
   ]
  },
  {
   "cell_type": "code",
   "execution_count": null,
   "id": "4ed8c475-9aa4-4620-8daf-ad21b9f6b62c",
   "metadata": {},
   "outputs": [],
   "source": []
  }
 ],
 "metadata": {
  "kernelspec": {
   "display_name": "Python 3 (ipykernel)",
   "language": "python",
   "name": "python3"
  },
  "language_info": {
   "codemirror_mode": {
    "name": "ipython",
    "version": 3
   },
   "file_extension": ".py",
   "mimetype": "text/x-python",
   "name": "python",
   "nbconvert_exporter": "python",
   "pygments_lexer": "ipython3",
   "version": "3.12.4"
  }
 },
 "nbformat": 4,
 "nbformat_minor": 5
}
