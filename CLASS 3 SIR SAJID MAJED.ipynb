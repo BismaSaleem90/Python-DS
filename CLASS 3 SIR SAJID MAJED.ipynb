{
 "cells": [
  {
   "cell_type": "code",
   "execution_count": 3,
   "id": "d0e4eeed-a9f3-4a94-b5f2-08d4fdf96866",
   "metadata": {},
   "outputs": [
    {
     "name": "stdin",
     "output_type": "stream",
     "text": [
      "Enter num_1: 13\n",
      "Enter num_2: 1\n",
      "Enter num_3: 4\n"
     ]
    },
    {
     "name": "stdout",
     "output_type": "stream",
     "text": [
      "False\n"
     ]
    }
   ],
   "source": [
    "num_1= float(input('Enter num_1:'))\n",
    "num_2= float(input('Enter num_2:'))\n",
    "num_3= float(input('Enter num_3:'))\n",
    "print(num_1>num_2>num_3)"
   ]
  },
  {
   "cell_type": "markdown",
   "id": "978d924e-80ee-4346-8c7d-df1b28bde3db",
   "metadata": {},
   "source": [
    "#use python tutor for better understanding of code\n",
    "comparison operators by giving inputs\n",
    "red cursor indicates which line is executing"
   ]
  },
  {
   "cell_type": "code",
   "execution_count": null,
   "id": "e7cd9078-5af7-4022-b42c-a84bf13e3301",
   "metadata": {},
   "outputs": [],
   "source": [
    "# #LOGIC_GATES:\n",
    "# AND_LOGIC: Mltiplication 2 high honge tab he high milega warna high nahi milega\n",
    "# right side and left side both are not true tab tak result me true nahi aeaga both should be true to get a true\n",
    "# AND:\n",
    "# 0 0 =0 not high\n",
    "# 1 1 =1 only both high\n",
    "# OR: koe ek bhi true ho tou true miljaega\n",
    "# not: "
   ]
  },
  {
   "cell_type": "code",
   "execution_count": 6,
   "id": "6b059883-ea21-4c05-ab34-d832c8b7e741",
   "metadata": {},
   "outputs": [
    {
     "ename": "NameError",
     "evalue": "name 'true' is not defined",
     "output_type": "error",
     "traceback": [
      "\u001b[1;31m---------------------------------------------------------------------------\u001b[0m",
      "\u001b[1;31mNameError\u001b[0m                                 Traceback (most recent call last)",
      "Cell \u001b[1;32mIn[6], line 1\u001b[0m\n\u001b[1;32m----> 1\u001b[0m number1\u001b[38;5;241m=\u001b[39mtrue\n\u001b[0;32m      2\u001b[0m number2\u001b[38;5;241m=\u001b[39m \u001b[38;5;28;01mFalse\u001b[39;00m\n\u001b[0;32m      3\u001b[0m number2 \u001b[38;5;129;01mand\u001b[39;00m number1\n",
      "\u001b[1;31mNameError\u001b[0m: name 'true' is not defined"
     ]
    }
   ],
   "source": [
    "number1=true\n",
    "number2= False\n",
    "number2 and number1"
   ]
  },
  {
   "cell_type": "code",
   "execution_count": null,
   "id": "3d9de175-8772-45a4-8618-48fb177d3d8d",
   "metadata": {},
   "outputs": [],
   "source": [
    "#true is not in its format error in a code debugging ya tou es true ko string bana do ya esko proper format me karo"
   ]
  },
  {
   "cell_type": "code",
   "execution_count": 8,
   "id": "ed2881d4-74ae-4867-a39b-11931cd26eba",
   "metadata": {},
   "outputs": [
    {
     "data": {
      "text/plain": [
       "False"
      ]
     },
     "execution_count": 8,
     "metadata": {},
     "output_type": "execute_result"
    }
   ],
   "source": [
    "number1= True\n",
    "number2= False\n",
    "number2 and number1"
   ]
  },
  {
   "cell_type": "code",
   "execution_count": null,
   "id": "d706d090-636a-40eb-8df5-42093b0d31e9",
   "metadata": {},
   "outputs": [],
   "source": [
    "#right and left side of operant both should be considered in and operator"
   ]
  },
  {
   "cell_type": "code",
   "execution_count": 10,
   "id": "3a5a8e72-e1c4-436e-8439-1f75e3f72f71",
   "metadata": {},
   "outputs": [
    {
     "data": {
      "text/plain": [
       "False"
      ]
     },
     "execution_count": 10,
     "metadata": {},
     "output_type": "execute_result"
    }
   ],
   "source": [
    "number1= False\n",
    "number2= False\n",
    "number2 or number1"
   ]
  },
  {
   "cell_type": "code",
   "execution_count": null,
   "id": "8c2f2c4d-267d-4a05-996d-047455dcf57b",
   "metadata": {},
   "outputs": [],
   "source": [
    "#only condition to get false in or operator"
   ]
  },
  {
   "cell_type": "code",
   "execution_count": 12,
   "id": "a6f11346-dbbd-4c72-bf2f-fd4a8e3b139c",
   "metadata": {},
   "outputs": [
    {
     "data": {
      "text/plain": [
       "True"
      ]
     },
     "execution_count": 12,
     "metadata": {},
     "output_type": "execute_result"
    }
   ],
   "source": [
    "not number2"
   ]
  },
  {
   "cell_type": "code",
   "execution_count": 30,
   "id": "463b7e9f-8033-4d4d-a5d7-05c3531339ea",
   "metadata": {},
   "outputs": [
    {
     "name": "stdin",
     "output_type": "stream",
     "text": [
      "Enter num_1: true\n",
      "Enter num_2: true\n",
      "Enter num_3: true\n"
     ]
    },
    {
     "name": "stdout",
     "output_type": "stream",
     "text": [
      "The result of AND gate is True\n",
      "The result of OR gate is True\n",
      "The result of NOT gate is False\n"
     ]
    }
   ],
   "source": [
    "num_1= bool(input('Enter num_1:'))\n",
    "num_2= bool(input('Enter num_2:'))\n",
    "num_3= bool(input('Enter num_3:'))\n",
    "num_1 and num_2\n",
    "num_1 or num_2\n",
    "not num_2\n",
    "print(\"The result of AND gate is\", num_1 and num_2)\n",
    "print(\"The result of OR gate is\", num_1 or num_2)\n",
    "print(\"The result of NOT gate is\", not num_1)"
   ]
  },
  {
   "cell_type": "code",
   "execution_count": 34,
   "id": "7b34b0d7-e987-48af-90cb-0f3c018572ba",
   "metadata": {},
   "outputs": [
    {
     "data": {
      "text/plain": [
       "True"
      ]
     },
     "execution_count": 34,
     "metadata": {},
     "output_type": "execute_result"
    }
   ],
   "source": [
    "4==4 # equals is consider with double == sign"
   ]
  },
  {
   "cell_type": "code",
   "execution_count": 36,
   "id": "5105462a-39cf-497a-87cc-f725cd0a3059",
   "metadata": {},
   "outputs": [],
   "source": [
    "# = is always a assignment operator and == is always equals to"
   ]
  },
  {
   "cell_type": "markdown",
   "id": "e9357b9f-76e3-493f-9b5d-5df3ec8bedbf",
   "metadata": {},
   "source": [
    "#ASSIGNMENT OPERATOR"
   ]
  },
  {
   "cell_type": "code",
   "execution_count": 40,
   "id": "1369724a-be26-4dc7-99a0-70606b1f1d0f",
   "metadata": {},
   "outputs": [
    {
     "name": "stdout",
     "output_type": "stream",
     "text": [
      "20\n"
     ]
    }
   ],
   "source": [
    "number = 10\n",
    "result = number+10\n",
    "print(result)"
   ]
  },
  {
   "cell_type": "code",
   "execution_count": 48,
   "id": "f38c9ea1-557c-404b-b892-c1cd18eedfd5",
   "metadata": {},
   "outputs": [
    {
     "data": {
      "text/plain": [
       "True"
      ]
     },
     "execution_count": 48,
     "metadata": {},
     "output_type": "execute_result"
    }
   ],
   "source": [
    "a = \"World Environment Day (WED) is celebrated annually on 5 June and encourages awareness and action for the protection of the environment. It is supported by many non-governmental organizations, businesses, government entities, and represents the primary United Nations outreach day supporting the environment.\"\n",
    "b = \"World Environment Day (WED) is celebrated annually on 5 June and encourages awareness and action for the protection of the environment. It is supported by many non-governmental organizations, businesses, government entities, and represents the primary United Nations outreach day supporting the environment.\"\n",
    "a is not b"
   ]
  },
  {
   "cell_type": "code",
   "execution_count": 50,
   "id": "9be39e73-1cc0-4865-aa6d-a7ceb335ff8d",
   "metadata": {},
   "outputs": [
    {
     "data": {
      "text/plain": [
       "False"
      ]
     },
     "execution_count": 50,
     "metadata": {},
     "output_type": "execute_result"
    }
   ],
   "source": [
    "a = \"World Environment Day (WED) is celebrated annually on 5 June and encourages awareness and action for the protection of the environment. It is supported by many non-governmental organizations, businesses, government entities, and represents the primary United Nations outreach day supporting the environment\"\n",
    "b = \"World Environment Day (WED) is celebrated annually on 5 June and encourages awareness and action for the protection of the environment. It is supported by many non-governmental organizations, businesses, government entities, and represents the primary United Nations outreach day supporting the environment\"\n",
    "a is b"
   ]
  },
  {
   "cell_type": "code",
   "execution_count": 52,
   "id": "4340634e-aab1-4938-a0df-75260973af44",
   "metadata": {},
   "outputs": [
    {
     "name": "stdout",
     "output_type": "stream",
     "text": [
      "1901277870576\n",
      "1901309788560\n"
     ]
    }
   ],
   "source": [
    "print(id(a))\n",
    "print(id(b))"
   ]
  },
  {
   "cell_type": "code",
   "execution_count": 54,
   "id": "dd668562-590b-4740-a18d-f940a4e1b47f",
   "metadata": {},
   "outputs": [],
   "source": [
    "#values are both same but both location ids are different ab jo bad me aya hai woh pehle wale k baraber kese hosakta hai\n",
    "#if we name both variables as a then we get true answer this case is in string only"
   ]
  },
  {
   "cell_type": "code",
   "execution_count": null,
   "id": "ceee66e8-7105-4971-bb73-a731b5382604",
   "metadata": {},
   "outputs": [],
   "source": []
  }
 ],
 "metadata": {
  "kernelspec": {
   "display_name": "Python 3 (ipykernel)",
   "language": "python",
   "name": "python3"
  },
  "language_info": {
   "codemirror_mode": {
    "name": "ipython",
    "version": 3
   },
   "file_extension": ".py",
   "mimetype": "text/x-python",
   "name": "python",
   "nbconvert_exporter": "python",
   "pygments_lexer": "ipython3",
   "version": "3.12.4"
  }
 },
 "nbformat": 4,
 "nbformat_minor": 5
}
