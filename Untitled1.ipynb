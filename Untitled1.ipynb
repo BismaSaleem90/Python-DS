{
 "cells": [
  {
   "cell_type": "code",
   "execution_count": 5,
   "id": "0055b54b-875d-4746-afab-be5c63256539",
   "metadata": {},
   "outputs": [],
   "source": [
    "num_list=[2,3,4,5]"
   ]
  },
  {
   "cell_type": "code",
   "execution_count": null,
   "id": "61d8e243-13fc-4ff6-96ed-e1cbdcb11c3a",
   "metadata": {},
   "outputs": [],
   "source": [
    "# TO PASS LIST IN A FUNCTION AS 'ARGUMENT'\n",
    "\n",
    "def list_square():\n",
    "\n",
    "num_list=[2,3,4,5]\n",
    "list_square(num_list)   #argument into list"
   ]
  },
  {
   "cell_type": "code",
   "execution_count": 11,
   "id": "0b41a88f-ac61-4f24-8467-2e9316002da3",
   "metadata": {},
   "outputs": [
    {
     "name": "stdout",
     "output_type": "stream",
     "text": [
      "[4, 3, 4, 5]\n"
     ]
    },
    {
     "data": {
      "text/plain": [
       "[4, 3, 4, 5]"
      ]
     },
     "execution_count": 11,
     "metadata": {},
     "output_type": "execute_result"
    }
   ],
   "source": [
    "def list_square(num_list):\n",
    "    for i in range(len(num_list)):\n",
    "        num_list[i]=num_list[i]**2\n",
    "        print(num_list)\n",
    "        return num_list\n",
    "\n",
    "num_list=[2,3,4,5]\n",
    "list_square(num_list)"
   ]
  },
  {
   "cell_type": "code",
   "execution_count": null,
   "id": "b766875a-a463-4fe1-96ce-2d4e347dd4c5",
   "metadata": {},
   "outputs": [],
   "source": [
    "def list_square(num_list):\n",
    "    "
   ]
  }
 ],
 "metadata": {
  "kernelspec": {
   "display_name": "Python 3 (ipykernel)",
   "language": "python",
   "name": "python3"
  },
  "language_info": {
   "codemirror_mode": {
    "name": "ipython",
    "version": 3
   },
   "file_extension": ".py",
   "mimetype": "text/x-python",
   "name": "python",
   "nbconvert_exporter": "python",
   "pygments_lexer": "ipython3",
   "version": "3.12.4"
  }
 },
 "nbformat": 4,
 "nbformat_minor": 5
}
