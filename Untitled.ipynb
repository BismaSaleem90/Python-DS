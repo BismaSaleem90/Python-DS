{
 "cells": [
  {
   "cell_type": "markdown",
   "id": "9e760a46-a137-452c-bd23-bb778734461e",
   "metadata": {},
   "source": [
    "##   FUNCTIONS:"
   ]
  },
  {
   "cell_type": "code",
   "execution_count": null,
   "id": "90b0cc53-7e81-4bb5-924c-39f8aacf8564",
   "metadata": {},
   "outputs": [],
   "source": [
    "# TO PASS LIST IN A FUNCTION AS 'ARGUMENT'\n",
    "\n",
    "def list_square():\n",
    "\n",
    "num_list=[2,3,4,5]\n",
    "list_square(num_list)   #argument into list"
   ]
  },
  {
   "cell_type": "code",
   "execution_count": 5,
   "id": "11f4dc60-f041-443c-80b5-e7971efcffc7",
   "metadata": {},
   "outputs": [],
   "source": [
    "num_list=[2,3,4,5]"
   ]
  },
  {
   "cell_type": "code",
   "execution_count": 7,
   "id": "5efb06fa-e4f8-4041-a5dd-f5fb4f5f159e",
   "metadata": {},
   "outputs": [],
   "source": [
    "def list_square(num_list):\n",
    "    for i in range(len(num_list)):\n",
    "        num_list[i]=num_list[i]**2\n",
    "        return num_list"
   ]
  },
  {
   "cell_type": "code",
   "execution_count": 13,
   "id": "10713649-20f5-45bc-b5c3-7252fe32b575",
   "metadata": {},
   "outputs": [
    {
     "name": "stdout",
     "output_type": "stream",
     "text": [
      "[2, 3, 4, 5, 6]\n",
      "[4, 9, 16, 25, 36]\n"
     ]
    }
   ],
   "source": [
    "def square_numbers(numbers_list):\n",
    "    list_squares = []\n",
    "    for x in numbers_list:\n",
    "        list_squares.append(x**2)\n",
    "    return list_squares\n",
    "\n",
    "numbers_list = [2,3,4,5,6]\n",
    "print(numbers_list)\n",
    "print(square_numbers(numbers_list))"
   ]
  },
  {
   "cell_type": "code",
   "execution_count": 21,
   "id": "0c61a097-2eac-4c3e-8d1d-d8fbe25dc121",
   "metadata": {},
   "outputs": [
    {
     "name": "stdout",
     "output_type": "stream",
     "text": [
      "1\n",
      "2\n",
      "3\n"
     ]
    }
   ],
   "source": [
    "list_of_integers = [1,2,3]\n",
    "for i in list_of_integers:\n",
    "    print(i)"
   ]
  },
  {
   "cell_type": "code",
   "execution_count": 23,
   "id": "6f88a913-a8d1-41f6-94b8-d553adc564cf",
   "metadata": {},
   "outputs": [
    {
     "name": "stdout",
     "output_type": "stream",
     "text": [
      "[1, 2, 3]\n",
      "6\n"
     ]
    }
   ],
   "source": [
    "#poori list ko add kardo\n",
    "#result = 0 \n",
    "#pori list ko esme add kardo\n",
    "\n",
    "def my_sum(my_integers):\n",
    "    result = 0\n",
    "    for x in my_integers:\n",
    "        result += x\n",
    "    return result\n",
    "\n",
    "list_of_integers = [1, 2, 3]\n",
    "print(list_of_integers)\n",
    "print(my_sum(list_of_integers))"
   ]
  },
  {
   "cell_type": "code",
   "execution_count": 27,
   "id": "99f746ce-6887-49a2-914e-d80233ad7280",
   "metadata": {},
   "outputs": [
    {
     "name": "stdout",
     "output_type": "stream",
     "text": [
      "[1, 2, 3]\n",
      "6\n"
     ]
    }
   ],
   "source": [
    "def my_product(my_integers):\n",
    "    result = 1\n",
    "    for x in my_integers:\n",
    "        result *= x\n",
    "    return result\n",
    "\n",
    "list_of_integers = [1, 2, 3]\n",
    "print(list_of_integers)\n",
    "print(my_product(list_of_integers))"
   ]
  },
  {
   "cell_type": "code",
   "execution_count": 43,
   "id": "c289cd60-2f78-41b4-913e-e6d78fce89e2",
   "metadata": {},
   "outputs": [
    {
     "name": "stdin",
     "output_type": "stream",
     "text": [
      "Enter your num: ht\n"
     ]
    },
    {
     "data": {
      "text/plain": [
       "'Enter valid Number'"
      ]
     },
     "execution_count": 43,
     "metadata": {},
     "output_type": "execute_result"
    }
   ],
   "source": [
    "#This function returns if a given number is odd or even\n",
    "  #input - any valid integer\n",
    "  #output - odd/even\n",
    "\n",
    "def is_even(num):\n",
    "  if type(num) == int:\n",
    "    if num % 2 == 0:\n",
    "      return 'even'\n",
    "    else:\n",
    "      return 'odd'\n",
    "  else:\n",
    "    return 'Enter valid Number'\n",
    "\n",
    "num=input('Enter your num:')\n",
    "is_even(num)"
   ]
  },
  {
   "cell_type": "code",
   "execution_count": 49,
   "id": "9472e670-c05c-4729-8d3a-91738a5b2f61",
   "metadata": {},
   "outputs": [
    {
     "name": "stdout",
     "output_type": "stream",
     "text": [
      "Number is 1 odd\n",
      "Number is 2 even\n",
      "Number is 3 odd\n",
      "Number is 4 even\n",
      "Number is 5 odd\n",
      "Number is 6 even\n",
      "Number is 7 odd\n",
      "Number is 8 even\n",
      "Number is 9 odd\n",
      "Number is 10 even\n"
     ]
    }
   ],
   "source": [
    "for i in range(1,11):\n",
    "  x = is_even(i)\n",
    "  print('Number is' ,i,x)"
   ]
  },
  {
   "cell_type": "markdown",
   "id": "c08eee1a-483c-4533-98a8-81910aac32bc",
   "metadata": {},
   "source": [
    "# Types of Arguments:\r",
    "- \n",
    "Default Argument- \r\n",
    "Positional Argumen- t\r\n",
    "Keyword Argument"
   ]
  },
  {
   "cell_type": "code",
   "execution_count": 51,
   "id": "15fadd7e-d55f-4e15-9762-d23f2917bfa8",
   "metadata": {},
   "outputs": [
    {
     "data": {
      "text/plain": [
       "8"
      ]
     },
     "execution_count": 51,
     "metadata": {},
     "output_type": "execute_result"
    }
   ],
   "source": [
    "def power(a=1,b=1):\n",
    "  return a**b\n",
    "\n",
    "power(2,3)"
   ]
  },
  {
   "cell_type": "code",
   "execution_count": 53,
   "id": "3f698deb-2ca6-40ad-a5ba-c27502e2a730",
   "metadata": {},
   "outputs": [
    {
     "name": "stdout",
     "output_type": "stream",
     "text": [
      "8\n",
      "16\n",
      "27\n"
     ]
    }
   ],
   "source": [
    "# positional argument\n",
    "print(power(2,3))\n",
    "print(power(2,4))\n",
    "print(power(3,3))"
   ]
  },
  {
   "cell_type": "code",
   "execution_count": 55,
   "id": "1018ff46-ee11-463c-ab4d-f69d24841de4",
   "metadata": {},
   "outputs": [
    {
     "data": {
      "text/plain": [
       "8"
      ]
     },
     "execution_count": 55,
     "metadata": {},
     "output_type": "execute_result"
    }
   ],
   "source": [
    "# keyword argument\n",
    "power(b=3,a=2)"
   ]
  },
  {
   "cell_type": "code",
   "execution_count": 57,
   "id": "277b1109-ee87-4a18-a65d-f5fc29756744",
   "metadata": {},
   "outputs": [
    {
     "name": "stdout",
     "output_type": "stream",
     "text": [
      "Bisma Saleem\n"
     ]
    }
   ],
   "source": [
    "\n",
    "def name(Fname='Talib', Lname='Hussain'):\n",
    "    return Fname+' '+Lname\n",
    "\n",
    "print('Bisma','Saleem')"
   ]
  },
  {
   "cell_type": "code",
   "execution_count": null,
   "id": "99807db7-3efa-4984-bdae-42ab2fa7bef0",
   "metadata": {},
   "outputs": [],
   "source": [
    "# ARGS ALLOW YOU TO PASS VALUES AS ARGUMENTS INTO YOUR FUNCTION WITHOUT ANY RESTRICTION"
   ]
  },
  {
   "cell_type": "code",
   "execution_count": 65,
   "id": "5add3e59-5778-4401-9837-7b2a1e440ee6",
   "metadata": {},
   "outputs": [
    {
     "name": "stdout",
     "output_type": "stream",
     "text": [
      "(1, 2, 3, 4, 5, 6, 7, 8, 9, 10)\n"
     ]
    },
    {
     "data": {
      "text/plain": [
       "3628800"
      ]
     },
     "execution_count": 65,
     "metadata": {},
     "output_type": "execute_result"
    }
   ],
   "source": [
    "def multiply(*args):\n",
    "  product = 1\n",
    "\n",
    "  for i in args:\n",
    "    product = product * i\n",
    "\n",
    "  print(args)\n",
    "  return product\n",
    "\n",
    "multiply(1,2,3,4,5,6,7,8,9,10)"
   ]
  },
  {
   "cell_type": "code",
   "execution_count": 67,
   "id": "1ce6072e-95d1-4cc9-9598-3060b030aeda",
   "metadata": {},
   "outputs": [
    {
     "name": "stdout",
     "output_type": "stream",
     "text": [
      "('Bisma', 'Data Scientist', 'Female', 25)\n"
     ]
    }
   ],
   "source": [
    "def UserDetails(*args):\n",
    "    print(args)  \n",
    "fullname = 'Bisma'\n",
    "profession = 'Data Scientist'\n",
    "gender = 'Female'\n",
    "Age = 25\n",
    "Specialization = 'Business Intelligence'\n",
    "UserDetails(fullname,profession,gender,Age)"
   ]
  },
  {
   "cell_type": "code",
   "execution_count": 69,
   "id": "f249e0df-a348-4d96-a482-5e602ed9c8ac",
   "metadata": {},
   "outputs": [
    {
     "name": "stdin",
     "output_type": "stream",
     "text": [
      "Enter your Name bisma\n",
      "Enter your profession data scientist\n",
      "Enter your gender female\n",
      "Enter your Age 25\n",
      "Enter your Specialization Business Intelligence\n"
     ]
    },
    {
     "name": "stdout",
     "output_type": "stream",
     "text": [
      "('bisma', 'data scientist', 'female', '25')\n"
     ]
    }
   ],
   "source": [
    "def UserDetails(*args):\n",
    "    print(args)  \n",
    "fullname = input(\"Enter your Name\")\n",
    "profession = input(\"Enter your profession\")\n",
    "gender = input(\"Enter your gender\")\n",
    "Age = input(\"Enter your Age\")\n",
    "Specialization = input(\"Enter your Specialization\")\n",
    "UserDetails(fullname,profession,gender,Age)"
   ]
  },
  {
   "cell_type": "code",
   "execution_count": 3,
   "id": "24f979d2-79d9-448e-85f1-504042148151",
   "metadata": {},
   "outputs": [
    {
     "name": "stdin",
     "output_type": "stream",
     "text": [
      "Enter your num1: 10\n",
      "Enter your num2: 20\n"
     ]
    },
    {
     "name": "stdout",
     "output_type": "stream",
     "text": [
      "30.0\n",
      "-10.0\n",
      "200.0\n",
      "0.5\n"
     ]
    }
   ],
   "source": [
    "def sum(num1,num2):\n",
    "    return num1+num2\n",
    "def sub(num1,num2):\n",
    "    return num1-num2\n",
    "def prodct(num1,num2):\n",
    "    return num1*num2\n",
    "def div(num1,num2):\n",
    "    return round(num1/num2,2)\n",
    "\n",
    "num1=float(input('Enter your num1:'))\n",
    "num2=float(input('Enter your num2:'))\n",
    "\n",
    "print(sum(num1,num2))\n",
    "print(sub(num1,num2))\n",
    "print(prodct(num1,num2))\n",
    "print(div(num1,num2))"
   ]
  },
  {
   "cell_type": "code",
   "execution_count": null,
   "id": "e65e5d1f-3859-4c63-9a03-79194cabe16e",
   "metadata": {},
   "outputs": [],
   "source": []
  }
 ],
 "metadata": {
  "kernelspec": {
   "display_name": "Python 3 (ipykernel)",
   "language": "python",
   "name": "python3"
  },
  "language_info": {
   "codemirror_mode": {
    "name": "ipython",
    "version": 3
   },
   "file_extension": ".py",
   "mimetype": "text/x-python",
   "name": "python",
   "nbconvert_exporter": "python",
   "pygments_lexer": "ipython3",
   "version": "3.12.4"
  }
 },
 "nbformat": 4,
 "nbformat_minor": 5
}
