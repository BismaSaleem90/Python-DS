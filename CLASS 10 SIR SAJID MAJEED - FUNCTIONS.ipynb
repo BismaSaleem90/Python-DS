{
 "cells": [
  {
   "cell_type": "markdown",
   "id": "656bfccf-5dde-48cd-809c-14d9cd515b96",
   "metadata": {},
   "source": [
    "## FUNCTION:\n",
    "- def - keyword associated hota hai\n",
    "- name of function - jo represent kare us function k kaam ko\n",
    "- () variable name k sath round brackets k sath laga ho tou function hota hai along with def\n",
    "- after : whatever there is written its is called body of function\n",
    "- call the function to work outside the body of function\n",
    "- arguments are written when calling the function\n",
    "- parameter are given when creating the function\n",
    "- used to create re use ablility"
   ]
  },
  {
   "cell_type": "code",
   "execution_count": 88,
   "id": "b7b52c4e-3a63-46f8-8885-701665ed5ff2",
   "metadata": {},
   "outputs": [
    {
     "name": "stdin",
     "output_type": "stream",
     "text": [
      "Enter no of rows 2\n"
     ]
    },
    {
     "name": "stdout",
     "output_type": "stream",
     "text": [
      "*\n",
      "*\n",
      "*\n"
     ]
    }
   ],
   "source": [
    "rows=int(input('Enter no of rows'))\n",
    "for i in range(1,rows+1):\n",
    "        for j in range(1,i+1):\n",
    "          print('*')"
   ]
  },
  {
   "cell_type": "code",
   "execution_count": 90,
   "id": "a554e2db-fe7b-44ac-bbd3-7f90320957ec",
   "metadata": {},
   "outputs": [
    {
     "name": "stdin",
     "output_type": "stream",
     "text": [
      "Enter your Name: bisma\n"
     ]
    },
    {
     "name": "stdout",
     "output_type": "stream",
     "text": [
      "Good Morning bisma Have a nice day\n"
     ]
    }
   ],
   "source": [
    "def welcome(name):\n",
    "    print('Good Morning',name,'Have a nice day')\n",
    "name=input('Enter your Name:')\n",
    "welcome(name)\n"
   ]
  },
  {
   "cell_type": "code",
   "execution_count": 104,
   "id": "fe047327-a4fb-4cd4-b2c3-94fbe2e78dbe",
   "metadata": {},
   "outputs": [
    {
     "name": "stdin",
     "output_type": "stream",
     "text": [
      "Enter your num1: 24\n",
      "Enter your num2: 34\n"
     ]
    },
    {
     "name": "stdout",
     "output_type": "stream",
     "text": [
      "Addition of 24 and 34 is\n"
     ]
    }
   ],
   "source": [
    "def add(num1,num2):\n",
    "    sum=num1+num2\n",
    "    print('Addition of' ,num1, 'and',num2, 'is' )\n",
    "num1=int(input('Enter your num1:'))\n",
    "num2= int(input('Enter your num2:'))\n",
    "add(num1,num2)"
   ]
  },
  {
   "cell_type": "code",
   "execution_count": 96,
   "id": "5e1b9fc2-53b5-44ad-a796-5d35cccc121a",
   "metadata": {},
   "outputs": [
    {
     "name": "stdin",
     "output_type": "stream",
     "text": [
      "Enter first number: 2\n",
      "Enter second number: 2\n"
     ]
    },
    {
     "name": "stdout",
     "output_type": "stream",
     "text": [
      "The sum of the given numbers 2 and 2 is 4\n"
     ]
    }
   ],
   "source": [
    "def add(num1,num2):\n",
    "    sum=num1+num2\n",
    "    print(\"The sum of the given numbers\",num1,\"and\",num2,\"is\",sum)\n",
    "num1=int(input(\"Enter first number:\"))\n",
    "num2=int(input(\"Enter second number:\"))\n",
    "add(num1,num2)"
   ]
  },
  {
   "cell_type": "code",
   "execution_count": 102,
   "id": "b72272d3-abfc-454d-9b0a-819241c8211c",
   "metadata": {},
   "outputs": [
    {
     "name": "stdin",
     "output_type": "stream",
     "text": [
      "Enter first number: 2\n",
      "Enter second number: 3\n"
     ]
    },
    {
     "name": "stdout",
     "output_type": "stream",
     "text": [
      "The sum of the given numbers 2 and 3 is 5\n"
     ]
    }
   ],
   "source": [
    "num1=int(input(\"Enter first number:\"))\n",
    "num2=int(input(\"Enter second number:\"))\n",
    "add(num1,num2)"
   ]
  },
  {
   "cell_type": "code",
   "execution_count": 110,
   "id": "0d7cb666-77a0-4c3b-82cf-1ed9431435f4",
   "metadata": {},
   "outputs": [
    {
     "data": {
      "text/plain": [
       "5"
      ]
     },
     "execution_count": 110,
     "metadata": {},
     "output_type": "execute_result"
    }
   ],
   "source": [
    "def add(num1,num2):\n",
    "    return(num1+num2)\n",
    "add(2,3)"
   ]
  },
  {
   "cell_type": "code",
   "execution_count": 12,
   "id": "3c030b79-b0c5-42e6-a341-d0865d5f0a17",
   "metadata": {},
   "outputs": [
    {
     "name": "stdin",
     "output_type": "stream",
     "text": [
      "Enter you num: 5\n"
     ]
    },
    {
     "data": {
      "text/plain": [
       "'odd'"
      ]
     },
     "execution_count": 12,
     "metadata": {},
     "output_type": "execute_result"
    }
   ],
   "source": [
    "def check_even(num):\n",
    "    if num%2==0:\n",
    "        return 'even'\n",
    "    else:\n",
    "        return 'odd'\n",
    "num=int(input('Enter you num:'))\n",
    "check_even(num)"
   ]
  },
  {
   "cell_type": "code",
   "execution_count": 14,
   "id": "e32ef9d9-5265-4efc-954f-50b9bae4d4e5",
   "metadata": {},
   "outputs": [
    {
     "name": "stdin",
     "output_type": "stream",
     "text": [
      "Enter your num 3\n",
      "Enter your num 5\n",
      "Enter your num 2\n"
     ]
    },
    {
     "name": "stdout",
     "output_type": "stream",
     "text": [
      "Num is odd 5\n"
     ]
    }
   ],
   "source": [
    "def num_even():\n",
    "    if num%2==0:\n",
    "        print('num is even',num)\n",
    "    else:\n",
    "        print('Num is odd',num)\n",
    "\n",
    "num1=int(input('Enter your num'))\n",
    "num2=int(input('Enter your num'))\n",
    "num3=int(input('Enter your num'))\n",
    "num_even()\n",
    "        \n"
   ]
  },
  {
   "cell_type": "code",
   "execution_count": null,
   "id": "a4235f55-4b68-422e-9f09-0973f68f5b44",
   "metadata": {},
   "outputs": [],
   "source": [
    "#eski memory me num kahin pe save hai esliye.\n",
    "#area and circumference of circle batain\n",
    "#function hardcoded nahi hota woh apna replica banata hai\n",
    "#jab woh apna replica banata hai tou jo last num tum input karoge woh usko consider karega only or usko bataega\n",
    "#either its even or odd\n",
    "#lekin agar memory me kahin num save hai tou woh usko consider karega"
   ]
  },
  {
   "cell_type": "code",
   "execution_count": 127,
   "id": "f55ee030-451e-4acc-90c6-df64c0d916c5",
   "metadata": {},
   "outputs": [
    {
     "name": "stdin",
     "output_type": "stream",
     "text": [
      "Enter your radius 4\n"
     ]
    },
    {
     "data": {
      "text/plain": [
       "(50.272, 25.136)"
      ]
     },
     "execution_count": 127,
     "metadata": {},
     "output_type": "execute_result"
    }
   ],
   "source": [
    "def area_and_circumference():\n",
    "    pi=3.142\n",
    "    \n",
    "    area=pi*radius**2\n",
    "    circumference=2*pi*radius\n",
    "    return area,circumference\n",
    "\n",
    "radius=float(input('Enter your radius'))\n",
    "area_and_circumference()\n",
    "    "
   ]
  },
  {
   "cell_type": "code",
   "execution_count": 129,
   "id": "64f23ba4-0b35-41d0-9544-3781f5eadf63",
   "metadata": {},
   "outputs": [
    {
     "name": "stdin",
     "output_type": "stream",
     "text": [
      "Enter your radius 4\n"
     ]
    },
    {
     "data": {
      "text/plain": [
       "(50.272, 25.136)"
      ]
     },
     "execution_count": 129,
     "metadata": {},
     "output_type": "execute_result"
    }
   ],
   "source": [
    "def area_and_circumference(r):\n",
    "    pi=3.142\n",
    "    \n",
    "    area=pi*radius**2\n",
    "    circumference=2*pi*radius\n",
    "    return area,circumference\n",
    "\n",
    "radius=float(input('Enter your radius'))\n",
    "area_and_circumference(radius)\n",
    "    "
   ]
  },
  {
   "cell_type": "code",
   "execution_count": null,
   "id": "eb6aa793-9246-47b3-b354-7232437a6d21",
   "metadata": {},
   "outputs": [],
   "source": [
    "#LOCAL KI VALLUE GLOBAL SE ZYADA HOTI HAI WOH GLOBAL WALY KO REPLACE KARSAKTI HAI."
   ]
  },
  {
   "cell_type": "code",
   "execution_count": null,
   "id": "b4a092af-87ed-49b0-8ca8-abc0d1d64342",
   "metadata": {},
   "outputs": [],
   "source": [
    "def is_even(num):\n",
    "  \"\"\"\n",
    "  This function returns if a given number is odd or even\n",
    "  input - any valid integer\n",
    "  output - odd/even\n",
    "\n",
    "  \"\"\"\n",
    "  if type(num) == int:\n",
    "    if num % 2 == 0:\n",
    "      return 'even'\n",
    "    else:\n",
    "      return 'odd'\n",
    "  else:\n",
    "    return 'Enter valid Number'"
   ]
  },
  {
   "cell_type": "code",
   "execution_count": null,
   "id": "ad0be57e-172a-4fc3-8f78-3dbea48e744f",
   "metadata": {},
   "outputs": [],
   "source": [
    "#LOCAL AND GLOBAL VARIABLE\n",
    "# RADIUS POORE program k liye hai (global)\n",
    "#r is only for that specific function (local)\n",
    "# in first line creating function you can write local varibale\n",
    "#in defining function and calling function always call global variable\n"
   ]
  },
  {
   "cell_type": "code",
   "execution_count": null,
   "id": "ba039c31-3430-42af-ab3e-0f695c32482f",
   "metadata": {},
   "outputs": [],
   "source": []
  }
 ],
 "metadata": {
  "kernelspec": {
   "display_name": "Python 3 (ipykernel)",
   "language": "python",
   "name": "python3"
  },
  "language_info": {
   "codemirror_mode": {
    "name": "ipython",
    "version": 3
   },
   "file_extension": ".py",
   "mimetype": "text/x-python",
   "name": "python",
   "nbconvert_exporter": "python",
   "pygments_lexer": "ipython3",
   "version": "3.12.4"
  }
 },
 "nbformat": 4,
 "nbformat_minor": 5
}
