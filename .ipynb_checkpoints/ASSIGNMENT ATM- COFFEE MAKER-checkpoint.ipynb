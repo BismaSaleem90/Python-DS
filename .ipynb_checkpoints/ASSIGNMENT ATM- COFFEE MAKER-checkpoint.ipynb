{
 "cells": [
  {
   "cell_type": "markdown",
   "id": "be937779-da43-439a-ad0e-db7089315f8c",
   "metadata": {},
   "source": [
    "### ATM :"
   ]
  },
  {
   "cell_type": "code",
   "execution_count": 17,
   "id": "77a81b47-bb77-4c82-a6c3-75b68104aad6",
   "metadata": {},
   "outputs": [
    {
     "name": "stdout",
     "output_type": "stream",
     "text": [
      "Welcome to ABC BANK Mr. Faiz\n"
     ]
    },
    {
     "name": "stdin",
     "output_type": "stream",
     "text": [
      "Enter your ATM pin Code 12345\n"
     ]
    },
    {
     "name": "stdout",
     "output_type": "stream",
     "text": [
      "Select from options\n"
     ]
    },
    {
     "name": "stdin",
     "output_type": "stream",
     "text": [
      "\n",
      "    1-Account Balance\n",
      "    2-Deposit in Account\n",
      "    3-Cash Withdrawl\n",
      "     3\n"
     ]
    },
    {
     "name": "stdout",
     "output_type": "stream",
     "text": [
      "Your Available balance is 10000 Rs\n"
     ]
    },
    {
     "name": "stdin",
     "output_type": "stream",
     "text": [
      "Enter your Amount 230\n"
     ]
    },
    {
     "name": "stdout",
     "output_type": "stream",
     "text": [
      "Receive your Cash 230.0\n",
      "Your Available balance is 9770.0 Rs\n"
     ]
    }
   ],
   "source": [
    "user_name='Mr. Faiz'\n",
    "pin_code=12345\n",
    "account_balance=10000\n",
    "\n",
    "print('Welcome to ABC BANK',user_name)\n",
    "input_pin=int(input('Enter your ATM pin Code'))\n",
    "\n",
    "if input_pin== pin_code:\n",
    "    print('Select from options')\n",
    "    option=input('''\n",
    "    1-Account Balance\n",
    "    2-Deposit in Account\n",
    "    3-Cash Withdrawl\n",
    "    ''')\n",
    "#The ATM starts with a default balance of .\n",
    "    if option=='1':\n",
    "        print('Your Available balance is', account_balance, 'Rs')\n",
    "    if option=='2':\n",
    "        deposit=int(input('Enter your Desired Amount'))\n",
    "        if deposit >0:\n",
    "            account_balance+=deposit\n",
    "            print('Account balance Upgraded',account_balance)\n",
    "        else:\n",
    "            print('Deposit Must be Positive')\n",
    "    print('Your Available balance is', account_balance, 'Rs')\n",
    "#When the user chooses to withdraw, they should be prompted to enter the amount to withdraw. \n",
    "#The program should check:\n",
    "#If the withdrawal amount is positive.\n",
    "#If the user has sufficient funds.\n",
    "#If the withdrawal amount is greater than the available balance, \n",
    "#the program should display an error message (\"Insufficient funds\").\n",
    "    if option=='3':\n",
    "        withdraw=float(input('Enter your Amount'))\n",
    "        if withdraw>0:\n",
    "           if withdraw<=account_balance:\n",
    "              account_balance-=withdraw\n",
    "              print('Receive your Cash',withdraw)\n",
    "           else:\n",
    "               print('Error Insufficient Funds')\n",
    "    else:\n",
    "        print('Please Enter Valid Amount')\n",
    "    print('Your Available balance is', account_balance, 'Rs')\n",
    "else:\n",
    "    print('Enter Correct Pin')\n",
    "    "
   ]
  },
  {
   "cell_type": "code",
   "execution_count": 20,
   "id": "6ef5a00a-30b9-47b1-8515-548a8b86995d",
   "metadata": {},
   "outputs": [
    {
     "name": "stdout",
     "output_type": "stream",
     "text": [
      "Welcome to ABC BANK Mr.Faiz\n"
     ]
    },
    {
     "name": "stdin",
     "output_type": "stream",
     "text": [
      "Enter your ATM pin Code 12345\n"
     ]
    },
    {
     "name": "stdout",
     "output_type": "stream",
     "text": [
      "Select from options\n"
     ]
    },
    {
     "name": "stdin",
     "output_type": "stream",
     "text": [
      "\n",
      "    1-Cash Withdawl\n",
      "    2-Cash Deposit\n",
      "    3-Amount Transfer\n",
      "    4-View Account Balance\n",
      "    5-Change Pin\n",
      "    6-Exit\n",
      "     6\n"
     ]
    },
    {
     "name": "stdout",
     "output_type": "stream",
     "text": [
      "Thankyou for using this ATM\n"
     ]
    }
   ],
   "source": [
    "user_name= 'Mr.Faiz'\n",
    "pin_code=12345\n",
    "account_balance=10000\n",
    "\n",
    "\n",
    "print('Welcome to ABC BANK',user_name)\n",
    "input_pin=int(input('Enter your ATM pin Code'))\n",
    "if input_pin== pin_code:\n",
    "    print('Select from options')\n",
    "    option=input('''\n",
    "    1-Cash Withdawl\n",
    "    2-Cash Deposit\n",
    "    3-Amount Transfer\n",
    "    4-View Account Balance\n",
    "    5-Change Pin\n",
    "    6-Exit\n",
    "    ''')\n",
    "    if option=='1':\n",
    "        amount=int(input('Enter your Desired Amount'))\n",
    "        if amount>account_balance:\n",
    "            print('Not Enough Balance')\n",
    "        elif amount<account_balance:\n",
    "            print('Recieve Your Cash',amount)\n",
    "        elif amount==account_balance:\n",
    "            print('Recieve Your Cash',amount)\n",
    "    if option=='2':\n",
    "        deposit=int(input('Enter your Desired Amount'))\n",
    "        print('Amount deposited Successfully',deposit)\n",
    "    if option=='3':\n",
    "       print(int(input('Enter Account Number')))\n",
    "       print(float(input('Enter Amount to Transfer')))\n",
    "       print('Amount has been transfered') \n",
    "    if option=='4':\n",
    "        print('Your Available balance is', account_balance, 'Rs')\n",
    "    if option=='5':\n",
    "        input_pin=int(input('Enter your ATM pin Code'))\n",
    "        if input_pin== pin_code:\n",
    "          new_pin=int(input('Enter new Pin Code'))\n",
    "          print('Pin Changed Successfully')\n",
    "        else:\n",
    "          print('Pin Changing Attempt Failed')\n",
    "    if option=='6':\n",
    "        print('Thankyou for using this ATM')\n",
    "        \n",
    "else:\n",
    "    print('Incorrect Pin Try Again')\n",
    "    print('Please Collect your Card')"
   ]
  },
  {
   "cell_type": "code",
   "execution_count": null,
   "id": "847a1a68-50b6-48b1-9c7b-9691947ef15b",
   "metadata": {},
   "outputs": [],
   "source": []
  }
 ],
 "metadata": {
  "kernelspec": {
   "display_name": "Python 3 (ipykernel)",
   "language": "python",
   "name": "python3"
  },
  "language_info": {
   "codemirror_mode": {
    "name": "ipython",
    "version": 3
   },
   "file_extension": ".py",
   "mimetype": "text/x-python",
   "name": "python",
   "nbconvert_exporter": "python",
   "pygments_lexer": "ipython3",
   "version": "3.12.4"
  }
 },
 "nbformat": 4,
 "nbformat_minor": 5
}
