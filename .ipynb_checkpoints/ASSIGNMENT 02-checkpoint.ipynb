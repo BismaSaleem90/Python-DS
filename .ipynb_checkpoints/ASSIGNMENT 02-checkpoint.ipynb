{
 "cells": [
  {
   "cell_type": "code",
   "execution_count": 47,
   "id": "a8aabea8-33a8-41a8-8ef2-f3fafa009ccf",
   "metadata": {},
   "outputs": [
    {
     "name": "stdout",
     "output_type": "stream",
     "text": [
      "[]\n"
     ]
    }
   ],
   "source": [
    "#1-Declare an empty list\n",
    "empty_list=[]\n",
    "print(empty_list)"
   ]
  },
  {
   "cell_type": "code",
   "execution_count": 49,
   "id": "8dbc7672-6da8-4604-98f9-51bbdd5dfd10",
   "metadata": {},
   "outputs": [
    {
     "data": {
      "text/plain": [
       "7"
      ]
     },
     "execution_count": 49,
     "metadata": {},
     "output_type": "execute_result"
    }
   ],
   "source": [
    "#2-Declare a list with more than 5 items\n",
    "abc=[0,1,2,3,4,5,6]\n",
    "#3-Find the length of your list\n",
    "len(abc)"
   ]
  },
  {
   "cell_type": "code",
   "execution_count": 51,
   "id": "7db578f3-7ade-4e93-ba97-ce228dbc9516",
   "metadata": {},
   "outputs": [
    {
     "data": {
      "text/plain": [
       "[0, 3, 6]"
      ]
     },
     "execution_count": 51,
     "metadata": {},
     "output_type": "execute_result"
    }
   ],
   "source": [
    "#4-Get the first item, the middle item and the last item of the list\n",
    "abc[0:7:3]"
   ]
  },
  {
   "cell_type": "code",
   "execution_count": 53,
   "id": "034d1327-6599-4188-a691-7b20b62c6c19",
   "metadata": {},
   "outputs": [],
   "source": [
    "#5-Declare a list called mixed_data_types, put your (name, age, height, marital status, address)\n",
    "mixed_data=['Bisma',25,\"5'1\",'Single','FB Area']"
   ]
  },
  {
   "cell_type": "code",
   "execution_count": 95,
   "id": "60a78807-1e6a-4e64-a14d-7e0c3bd9d7f0",
   "metadata": {},
   "outputs": [
    {
     "name": "stdout",
     "output_type": "stream",
     "text": [
      "['Facebook', 'Google', 'Microsoft', 'Apple', 'IBM', 'Oracle', 'Amazon']\n"
     ]
    }
   ],
   "source": [
    "# #6-Declare a list variable named IT_companies and assign initial values Facebook, Google,\n",
    "# Microsoft, Apple, IBM, Oracle and Amazon, Print the list using print() and Print the\n",
    "# number of companies in the list\n",
    "IT_companies=[\"Facebook\", \"Google\", \"Microsoft\", \"Apple\", \"IBM\", \"Oracle\", \"Amazon\"]\n",
    "print(IT_companies)"
   ]
  },
  {
   "cell_type": "code",
   "execution_count": 97,
   "id": "78a82475-fa23-446e-b980-a10f4591172a",
   "metadata": {},
   "outputs": [
    {
     "data": {
      "text/plain": [
       "['Facebook', 'Apple', 'Amazon']"
      ]
     },
     "execution_count": 97,
     "metadata": {},
     "output_type": "execute_result"
    }
   ],
   "source": [
    "#7-Print the first, middle and last company\n",
    "IT_companies[0:7:3]"
   ]
  },
  {
   "cell_type": "code",
   "execution_count": 99,
   "id": "7d56f5bf-97a9-415d-952d-1f1e5caf47f8",
   "metadata": {},
   "outputs": [
    {
     "name": "stdout",
     "output_type": "stream",
     "text": [
      "['Facebook', 'Google', 'Microsoft', 'Apple', 'IBM', 'Oracle', 'Amazon', 'Folio3']\n",
      "['Facebook', 'Google', 'Microsoft', 'Apple', 'IBM', 'Oracle', 'Amazon']\n"
     ]
    }
   ],
   "source": [
    "#8-Print the list after modifying one of the companies\n",
    "IT_companies.append(\"Folio3\")\n",
    "print(IT_companies)\n",
    "IT_companies.remove(\"Folio3\")\n",
    "print(IT_companies)"
   ]
  },
  {
   "cell_type": "code",
   "execution_count": 101,
   "id": "d681e59b-57e2-44b4-b8ef-7633a321d8fd",
   "metadata": {},
   "outputs": [
    {
     "name": "stdout",
     "output_type": "stream",
     "text": [
      "['Facebook', 'Google', 'Microsoft', 'Apple', 'IBM', 'Oracle', 'Amazon', 'Contour Software']\n"
     ]
    }
   ],
   "source": [
    "#9-Add an IT company to IT_companies\n",
    "IT_companies.append(\"Contour Software\")\n",
    "print(IT_companies)"
   ]
  },
  {
   "cell_type": "code",
   "execution_count": 103,
   "id": "c977c425-cbd6-4f03-b970-b4d09538619e",
   "metadata": {},
   "outputs": [
    {
     "name": "stdout",
     "output_type": "stream",
     "text": [
      "['Facebook', 'Google', 'Microsoft', 'Apple', 'Arpatech', 'IBM', 'Oracle', 'Amazon', 'Contour Software']\n"
     ]
    }
   ],
   "source": [
    "#10-Insert an IT company in the middle of the companies list\n",
    "IT_companies.insert(4,\"Arpatech\")\n",
    "print(IT_companies)"
   ]
  },
  {
   "cell_type": "code",
   "execution_count": 105,
   "id": "3dad3350-4863-4f0a-b4de-632b41d20256",
   "metadata": {},
   "outputs": [
    {
     "data": {
      "text/plain": [
       "'CONTOUR SOFTWARE'"
      ]
     },
     "execution_count": 105,
     "metadata": {},
     "output_type": "execute_result"
    }
   ],
   "source": [
    "#11-Change one of the IT_companies names to uppercase (IBM excluded!)\n",
    "'Contour Software'.upper()"
   ]
  },
  {
   "cell_type": "code",
   "execution_count": 107,
   "id": "e91e924e-0bd2-4e3e-b75f-7a3d8271c285",
   "metadata": {},
   "outputs": [
    {
     "name": "stdout",
     "output_type": "stream",
     "text": [
      "['Amazon', 'Apple', 'Arpatech', 'Contour Software', 'Facebook', 'Google', 'IBM', 'Microsoft', 'Oracle']\n"
     ]
    }
   ],
   "source": [
    "#12- Sort the list using sort () method\n",
    "IT_companies.sort()\n",
    "print(IT_companies)"
   ]
  },
  {
   "cell_type": "code",
   "execution_count": 109,
   "id": "e0b8c413-2b80-4db4-afd1-2637a603b899",
   "metadata": {},
   "outputs": [
    {
     "name": "stdout",
     "output_type": "stream",
     "text": [
      "['Oracle', 'Microsoft', 'IBM', 'Google', 'Facebook', 'Contour Software', 'Arpatech', 'Apple', 'Amazon']\n"
     ]
    }
   ],
   "source": [
    "#13- Reverse the list in descending order using reverse() method\n",
    "IT_companies.sort(reverse=True)\n",
    "print(IT_companies)"
   ]
  },
  {
   "cell_type": "code",
   "execution_count": 111,
   "id": "c292278d-97a2-4813-89b5-a5b4c650de8d",
   "metadata": {},
   "outputs": [
    {
     "name": "stdout",
     "output_type": "stream",
     "text": [
      "['Oracle', 'Microsoft', 'IBM']\n"
     ]
    }
   ],
   "source": [
    "#14-Slice out the first 3 companies from the list\n",
    "print(IT_companies[:3])"
   ]
  },
  {
   "cell_type": "code",
   "execution_count": 113,
   "id": "f12e70bf-2f85-4079-9041-83a33307e3dd",
   "metadata": {},
   "outputs": [
    {
     "name": "stdout",
     "output_type": "stream",
     "text": [
      "['Arpatech', 'Apple', 'Amazon']\n"
     ]
    }
   ],
   "source": [
    "#15- Slice out the last 3 companies from the list\n",
    "print(IT_companies[-3:])"
   ]
  },
  {
   "cell_type": "code",
   "execution_count": 115,
   "id": "64878e93-143c-44be-b62b-bd27bb7201ba",
   "metadata": {},
   "outputs": [
    {
     "name": "stdout",
     "output_type": "stream",
     "text": [
      "Facebook\n"
     ]
    }
   ],
   "source": [
    "#16-Slice out the middle IT company or companies from the list\n",
    "print(IT_companies[4])"
   ]
  },
  {
   "cell_type": "code",
   "execution_count": 117,
   "id": "c3ab7dfe-cfc4-4ee0-b7b1-514423853a63",
   "metadata": {},
   "outputs": [
    {
     "name": "stdout",
     "output_type": "stream",
     "text": [
      "['Microsoft', 'IBM', 'Google', 'Facebook', 'Contour Software', 'Arpatech', 'Apple', 'Amazon']\n"
     ]
    }
   ],
   "source": [
    "#17-Remove the first IT company from the list\n",
    "del IT_companies[0]\n",
    "print(IT_companies)"
   ]
  },
  {
   "cell_type": "code",
   "execution_count": 121,
   "id": "3f217ae7-a9bb-43d4-97d6-590417f2ed06",
   "metadata": {},
   "outputs": [
    {
     "name": "stdout",
     "output_type": "stream",
     "text": [
      "['Microsoft', 'IBM', 'Google', 'Contour Software', 'Arpatech', 'Apple', 'Amazon']\n"
     ]
    }
   ],
   "source": [
    "#18- Remove the middle IT company or companies from the list\n",
    "IT_companies.remove(\"Facebook\")\n",
    "print(IT_companies)"
   ]
  },
  {
   "cell_type": "code",
   "execution_count": 123,
   "id": "2bad76a2-3b50-45dc-9cfe-5a1949cf3fae",
   "metadata": {},
   "outputs": [
    {
     "name": "stdout",
     "output_type": "stream",
     "text": [
      "['Microsoft', 'IBM', 'Google', 'Contour Software', 'Arpatech', 'Apple']\n"
     ]
    }
   ],
   "source": [
    "#19-Remove the last IT company from the list\n",
    "IT_companies.pop()\n",
    "print(IT_companies)"
   ]
  },
  {
   "cell_type": "code",
   "execution_count": 125,
   "id": "99d77e69-e8b6-43a0-8dc4-d39e94143f00",
   "metadata": {},
   "outputs": [
    {
     "name": "stdout",
     "output_type": "stream",
     "text": [
      "[]\n"
     ]
    }
   ],
   "source": [
    "#21-Remove all IT companies from the list\n",
    "IT_companies.clear()\n",
    "print(IT_companies)"
   ]
  },
  {
   "cell_type": "code",
   "execution_count": 133,
   "id": "c5b6def3-a915-47f3-bd49-9715c50852ec",
   "metadata": {},
   "outputs": [
    {
     "ename": "SyntaxError",
     "evalue": "invalid syntax (2505028416.py, line 2)",
     "output_type": "error",
     "traceback": [
      "\u001b[1;36m  Cell \u001b[1;32mIn[133], line 2\u001b[1;36m\u001b[0m\n\u001b[1;33m    del IT_companies[]\u001b[0m\n\u001b[1;37m                     ^\u001b[0m\n\u001b[1;31mSyntaxError\u001b[0m\u001b[1;31m:\u001b[0m invalid syntax\n"
     ]
    }
   ],
   "source": [
    "#22-Destroy the IT companies list\n",
    "del IT_companies[]\n",
    "print(IT_companies)"
   ]
  },
  {
   "cell_type": "code",
   "execution_count": 141,
   "id": "d0c8b0dc-5bfc-4f8c-9a57-ac11e0045415",
   "metadata": {},
   "outputs": [
    {
     "name": "stdout",
     "output_type": "stream",
     "text": [
      "['HTML', 'CSS', 'JS', 'React', 'Redux', 'Node', 'Express', 'MongoDB']\n",
      "['HTML', 'CSS', 'JS', 'React', 'Redux', 'Python', 'SQL', 'Node', 'Express', 'MongoDB']\n"
     ]
    }
   ],
   "source": [
    "#23-Join the following lists:insert Python and SQL after Redux.\n",
    "front_end = ['HTML', 'CSS', 'JS', 'React', 'Redux']\n",
    "back_end = ['Node','Express', 'MongoDB']\n",
    "full_stack=front_end+back_end\n",
    "print(full_stack)\n",
    "full_stack.insert(5,'Python')\n",
    "full_stack.insert(6,'SQL')\n",
    "print(full_stack)"
   ]
  },
  {
   "cell_type": "code",
   "execution_count": 1,
   "id": "f9316d7c-fb37-4f6b-8c4e-176dba5014bd",
   "metadata": {},
   "outputs": [
    {
     "name": "stdout",
     "output_type": "stream",
     "text": [
      "[19, 19, 20, 22, 24, 24, 24, 25, 25, 26]\n",
      "19\n",
      "26\n"
     ]
    }
   ],
   "source": [
    "#27-Sort the list and find the min and max age\n",
    "ages = [19, 22, 19, 24, 20, 25, 26, 24, 25, 24]\n",
    "ages.sort()\n",
    "print(ages)\n",
    "print(min(ages))\n",
    "print(max(ages))"
   ]
  },
  {
   "cell_type": "code",
   "execution_count": 3,
   "id": "94942b91-a04d-45dd-9dc4-837288c05988",
   "metadata": {},
   "outputs": [
    {
     "name": "stdout",
     "output_type": "stream",
     "text": [
      "[19, 19, 20, 22, 24, 24, 24, 25, 25, 26, 19, 26]\n"
     ]
    }
   ],
   "source": [
    "#28- Add the min age and the max age again to the list\n",
    "ages.append(19)\n",
    "ages.append(26)\n",
    "print(ages)"
   ]
  },
  {
   "cell_type": "code",
   "execution_count": 5,
   "id": "0f5a8b70-1d07-4d81-ab64-0dd9e894c294",
   "metadata": {},
   "outputs": [
    {
     "name": "stdout",
     "output_type": "stream",
     "text": [
      "12\n"
     ]
    }
   ],
   "source": [
    "#29-Find the median age (one middle item or two middle items divided by two)\n",
    "ages.sort()\n",
    "print(len(ages))\n"
   ]
  },
  {
   "cell_type": "code",
   "execution_count": 7,
   "id": "7a30521b-a10b-49b1-a00e-3454474a4a8c",
   "metadata": {},
   "outputs": [
    {
     "data": {
      "text/plain": [
       "6"
      ]
     },
     "execution_count": 7,
     "metadata": {},
     "output_type": "execute_result"
    }
   ],
   "source": [
    "len(ages)//2"
   ]
  },
  {
   "cell_type": "code",
   "execution_count": 23,
   "id": "60c0fad9-3249-41ca-b8d6-d4affa05dcc1",
   "metadata": {},
   "outputs": [
    {
     "name": "stdout",
     "output_type": "stream",
     "text": [
      "22\n"
     ]
    }
   ],
   "source": [
    "#30-Find the average age (sum of all items divided by their number)\n",
    "average_age=sum(ages)//len(ages)\n",
    "print(average_age)"
   ]
  },
  {
   "cell_type": "code",
   "execution_count": 11,
   "id": "47847aa1-cec1-4fde-a2f2-d75635e4ec32",
   "metadata": {},
   "outputs": [
    {
     "data": {
      "text/plain": [
       "7"
      ]
     },
     "execution_count": 11,
     "metadata": {},
     "output_type": "execute_result"
    }
   ],
   "source": [
    "#31-Find the range of the ages (max minus min)\n",
    "max(ages)-min(ages)"
   ]
  },
  {
   "cell_type": "code",
   "execution_count": 29,
   "id": "cca8afb3-017b-4a2b-bdff-3e3b5e628311",
   "metadata": {},
   "outputs": [
    {
     "name": "stdout",
     "output_type": "stream",
     "text": [
      "Tha maximum age is greater than minimum age\n"
     ]
    }
   ],
   "source": [
    "#32-Compare the value of (min - average) and (max - average), use absolute difference() method\n",
    "min_age=min(ages)\n",
    "max_age=max(ages)\n",
    "\n",
    "min_difference=abs(min_age-average_age)\n",
    "max_difference=abs(max_age-average_age)\n",
    "\n",
    "if min_age>max_age:\n",
    "    print('The minimum age is greater than maximum age')\n",
    "\n",
    "elif min_age<max_age:\n",
    "    print('Tha maximum age is greater than minimum age')\n",
    "\n",
    "else:\n",
    "    print('ages are equal')"
   ]
  },
  {
   "cell_type": "code",
   "execution_count": 39,
   "id": "205226fd-95c5-470c-8020-093aa5abc9f6",
   "metadata": {},
   "outputs": [
    {
     "name": "stdout",
     "output_type": "stream",
     "text": [
      "7\n",
      "3\n"
     ]
    }
   ],
   "source": [
    "## 33. Find the middle country(ies) in the countries list\n",
    "countries=['China', 'Russia', 'USA', 'Finland', 'Sweden', 'Norway', 'Denmark']\n",
    "\n",
    "countries.sort()\n",
    "print(len(countries))\n",
    "\n",
    "middle_country=len(countries)//2\n",
    "print(middle_country)"
   ]
  },
  {
   "cell_type": "code",
   "execution_count": 51,
   "id": "4c3c650a-3f5e-4465-8b22-b3524915eb51",
   "metadata": {},
   "outputs": [
    {
     "name": "stdout",
     "output_type": "stream",
     "text": [
      "7\n",
      "['China', 'Denmark', 'Finland', 'Norway']\n",
      "['Russia', 'Sweden', 'USA']\n"
     ]
    }
   ],
   "source": [
    "#34-Divide the countries list into two equal lists if it is even if not one more country for the first\n",
    "#half.\n",
    "print(len(countries))\n",
    "\n",
    "middle_index=(len(countries)+1)//2\n",
    "\n",
    "first_half=countries[:middle_index]\n",
    "second_half=countries[middle_index:]\n",
    "\n",
    "print(first_half)\n",
    "print(second_half)"
   ]
  },
  {
   "cell_type": "code",
   "execution_count": 53,
   "id": "1117764e-157c-4c4f-a5ef-a0bfff3f1673",
   "metadata": {},
   "outputs": [
    {
     "name": "stdout",
     "output_type": "stream",
     "text": [
      "First country: China\n",
      "Second country: Denmark\n",
      "Third country: Finland\n",
      "Scandic countries: ['Norway', 'Russia', 'Sweden', 'USA']\n"
     ]
    }
   ],
   "source": [
    "#35-Unpack the first three countries and the rest as scandic countries.\n",
    "\n",
    "first_country, second_country, third_country, *scandic_countries = countries\n",
    "\n",
    "print(\"First country:\", first_country)\n",
    "print(\"Second country:\", second_country)\n",
    "print(\"Third country:\", third_country)\n",
    "print(\"Scandic countries:\", scandic_countries)"
   ]
  },
  {
   "cell_type": "markdown",
   "id": "88e16108-cc02-4065-bb23-28d22eb5f15e",
   "metadata": {},
   "source": [
    "### TUPLE:"
   ]
  },
  {
   "cell_type": "code",
   "execution_count": 4,
   "id": "d584d903-5a88-4e72-bb20-6846175e9c5e",
   "metadata": {},
   "outputs": [
    {
     "name": "stdout",
     "output_type": "stream",
     "text": [
      "<class 'tuple'>\n"
     ]
    }
   ],
   "source": [
    "#1-Create an empty tuple\n",
    "tuple_=()\n",
    "print(type(tuple_))"
   ]
  },
  {
   "cell_type": "code",
   "execution_count": 6,
   "id": "26ef0de3-fe49-49ec-b57d-545659c132fc",
   "metadata": {},
   "outputs": [
    {
     "name": "stdout",
     "output_type": "stream",
     "text": [
      "('Areeba', 'Bisma', 'Hoorain', 'Ali', 'Hamid', 'Hamza')\n"
     ]
    }
   ],
   "source": [
    "#2-Create a tuple containing names of your sisters and your brothers (imaginary siblings are fine)\n",
    "#3-Join brothers and sisters tuples and assign it to siblings\n",
    "sisters=('Areeba','Bisma','Hoorain')\n",
    "brothers=('Ali','Hamid','Hamza')\n",
    "siblings=sisters+brothers\n",
    "print(siblings)"
   ]
  },
  {
   "cell_type": "code",
   "execution_count": 8,
   "id": "d0690862-e2db-4070-b274-0658132518e9",
   "metadata": {},
   "outputs": [
    {
     "data": {
      "text/plain": [
       "6"
      ]
     },
     "execution_count": 8,
     "metadata": {},
     "output_type": "execute_result"
    }
   ],
   "source": [
    "#4-How many siblings do you have?\n",
    "len(siblings)"
   ]
  },
  {
   "cell_type": "code",
   "execution_count": 12,
   "id": "78cb1289-6b75-4af5-b670-6b7c59e71545",
   "metadata": {},
   "outputs": [
    {
     "name": "stdout",
     "output_type": "stream",
     "text": [
      "('Mother', 'Father', 'Areeba', 'Bisma', 'Hoorain', 'Ali', 'Hamid', 'Hamza')\n"
     ]
    }
   ],
   "source": [
    "#5-Modify the siblings tuple and add the name of your father and mother and assign it to family_members.\n",
    "family_members=('Mother','Father')+siblings\n",
    "print(family_members)"
   ]
  },
  {
   "cell_type": "code",
   "execution_count": 22,
   "id": "ffd57250-5b64-4029-8308-a28e39d22c0b",
   "metadata": {},
   "outputs": [
    {
     "name": "stdout",
     "output_type": "stream",
     "text": [
      "Parent1: Mother\n",
      "Parent2: Father\n",
      "Siblings: ['Areeba', 'Bisma', 'Hoorain', 'Ali', 'Hamid', 'Hamza']\n"
     ]
    }
   ],
   "source": [
    "#6-Unpack siblings and parents from family_members\n",
    "parent1, parent2,*siblings = family_members\n",
    "\n",
    "print(\"Parent1:\" ,parent1)\n",
    "print(\"Parent2:\" ,parent2)\n",
    "print(\"Siblings:\" ,siblings)"
   ]
  },
  {
   "cell_type": "code",
   "execution_count": 1,
   "id": "87b589a6-be17-474c-a8f0-6949c6fb46b6",
   "metadata": {},
   "outputs": [
    {
     "name": "stdout",
     "output_type": "stream",
     "text": [
      "('Mango', 'Strawberry', 'Peach', 'Bnanan', 'Carrot', 'Ginger', 'Garlic', 'Potato', 'meat', 'wool', 'milk')\n"
     ]
    }
   ],
   "source": [
    "#7-Create fruits, vegetables and animal products tuples. Join the three tuples and assign it to a\n",
    "#variable called food_stuff_tp.\n",
    "fruits=('Mango','Strawberry','Peach','Bnanan')\n",
    "vegetables=('Carrot','Ginger','Garlic','Potato')\n",
    "animal_products=('meat','wool','milk')\n",
    "food_stuff_tp= fruits+vegetables+animal_products\n",
    "print(food_stuff_tp)"
   ]
  },
  {
   "cell_type": "code",
   "execution_count": 4,
   "id": "60fe2fcf-234e-44d7-98eb-def05f46d4cb",
   "metadata": {},
   "outputs": [
    {
     "name": "stdout",
     "output_type": "stream",
     "text": [
      "<class 'list'>\n"
     ]
    }
   ],
   "source": [
    "#8- Change the about food_stuff_tp tuple to a food_stuff_lt list.\n",
    "food_stuff_lt=list(food_stuff_tp)\n",
    "print(type(food_stuff_lt))"
   ]
  },
  {
   "cell_type": "code",
   "execution_count": 28,
   "id": "9a1ba762-a09a-49b2-8a24-03d31cf0e854",
   "metadata": {},
   "outputs": [
    {
     "name": "stdout",
     "output_type": "stream",
     "text": [
      "11\n",
      "11\n",
      "Ginger\n",
      "Ginger\n"
     ]
    }
   ],
   "source": [
    "#9- Slice out the middle item or items from the food_stuff_tp tuple or food_stuff_lt list.\n",
    "print(len(food_stuff_lt))\n",
    "print(len(food_stuff_tp))\n",
    "\n",
    "print(food_stuff_lt[5])\n",
    "print(food_stuff_tp[5])\n"
   ]
  },
  {
   "cell_type": "code",
   "execution_count": 38,
   "id": "bfd4a043-0ae5-465b-9765-9e21b5efec1d",
   "metadata": {},
   "outputs": [
    {
     "name": "stdout",
     "output_type": "stream",
     "text": [
      "['Mango', 'Strawberry', 'Peach']\n",
      "('Mango', 'Strawberry', 'Peach')\n"
     ]
    }
   ],
   "source": [
    "#10-Slice out the first three items and the last three items from food_staff_lt list\n",
    "print(food_stuff_lt[:3])\n",
    "print(food_stuff_tp[:3])"
   ]
  },
  {
   "cell_type": "code",
   "execution_count": null,
   "id": "b430f890-a8c1-4b93-ab7d-35566bd7320c",
   "metadata": {},
   "outputs": [],
   "source": [
    "#11-Delete the food_staff_tp tuple completely."
   ]
  },
  {
   "cell_type": "markdown",
   "id": "3f6dc901-d87f-42e1-a1ff-98dc4c2a304b",
   "metadata": {},
   "source": [
    "### SETS"
   ]
  },
  {
   "cell_type": "code",
   "execution_count": 69,
   "id": "d72a9b72-0dfb-4234-9474-eb2aa362ee67",
   "metadata": {},
   "outputs": [],
   "source": [
    "it_companies = {'Facebook', 'Google', 'Microsoft', 'Apple', 'IBM', 'Oracle',\n",
    "'Amazon'}\n",
    "A = {19, 22, 24, 20, 25, 26}\n",
    "B = {19, 22, 20, 25, 26, 24, 28, 27}\n",
    "age = [22, 19, 24, 25, 26, 24, 25, 24]"
   ]
  },
  {
   "cell_type": "code",
   "execution_count": 71,
   "id": "49315a09-dc41-481b-adca-83fcbe2b4638",
   "metadata": {},
   "outputs": [
    {
     "data": {
      "text/plain": [
       "7"
      ]
     },
     "execution_count": 71,
     "metadata": {},
     "output_type": "execute_result"
    }
   ],
   "source": [
    "#1-Find the length of the set it_companies\n",
    "len(it_companies)"
   ]
  },
  {
   "cell_type": "code",
   "execution_count": 73,
   "id": "9c5a4724-2b55-4798-acf6-aed04f25e72f",
   "metadata": {},
   "outputs": [
    {
     "name": "stdout",
     "output_type": "stream",
     "text": [
      "{'Amazon', 'Apple', 'Oracle', 'IBM', 'twitter', 'Google', 'Facebook', 'Microsoft'}\n"
     ]
    }
   ],
   "source": [
    "#2-Add 'Twitter' to it_companies\n",
    "it_companies.add('twitter')\n",
    "print(it_companies)"
   ]
  },
  {
   "cell_type": "code",
   "execution_count": 75,
   "id": "9c1ad401-dee8-4e71-a1e5-7c2978e88c00",
   "metadata": {},
   "outputs": [
    {
     "name": "stdout",
     "output_type": "stream",
     "text": [
      "{'Google', 'Microsoft', 'Amazon', 'Apple', 'Oracle', 'IBM', 'twitter', 'Netsol', 'Facebook', 'Arpatech', 'Contour'}\n"
     ]
    }
   ],
   "source": [
    "#3-Insert multiple IT companies at once to the set it_companies\n",
    "other_it_companies={'Contour','Netsol','Arpatech'}\n",
    "it_companies.update(other_it_companies)\n",
    "print(it_companies)"
   ]
  },
  {
   "cell_type": "code",
   "execution_count": 77,
   "id": "a649080f-6b98-4bee-b7e9-6766a25b9581",
   "metadata": {},
   "outputs": [
    {
     "name": "stdout",
     "output_type": "stream",
     "text": [
      "{'Google', 'Microsoft', 'Apple', 'Oracle', 'IBM', 'twitter', 'Netsol', 'Facebook', 'Arpatech', 'Contour'}\n"
     ]
    }
   ],
   "source": [
    "#4-Remove one of the companies from the set it_companies\n",
    "it_companies.remove('Amazon')\n",
    "print(it_companies)"
   ]
  },
  {
   "cell_type": "code",
   "execution_count": null,
   "id": "9c1f8a8e-5826-41df-ad13-1ececf32f6cd",
   "metadata": {},
   "outputs": [],
   "source": [
    "#5-What is the difference between remove and discard?\n",
    "#Answer:  If the item to remove does not exist, remove() will raise an error.\n",
    "         #If the item to remove does not exist, discard() will NOT raise an error."
   ]
  },
  {
   "cell_type": "code",
   "execution_count": 79,
   "id": "b3513791-733a-4bd4-837a-6d9efb81fbea",
   "metadata": {},
   "outputs": [
    {
     "name": "stdout",
     "output_type": "stream",
     "text": [
      "{19, 20, 22, 24, 25, 26, 27, 28}\n"
     ]
    }
   ],
   "source": [
    "#6-Join A and B\n",
    "C=A.union(B)\n",
    "print(C)"
   ]
  },
  {
   "cell_type": "code",
   "execution_count": 81,
   "id": "027fbca9-94c5-46ca-aa49-238b463fa308",
   "metadata": {},
   "outputs": [
    {
     "name": "stdout",
     "output_type": "stream",
     "text": [
      "{19, 20, 22, 24, 25, 26}\n"
     ]
    }
   ],
   "source": [
    "#7- Find A intersection B\n",
    "D=A&B\n",
    "print(D)"
   ]
  },
  {
   "cell_type": "code",
   "execution_count": 92,
   "id": "20667870-b69b-4fe1-a143-45a1275dbaa6",
   "metadata": {},
   "outputs": [
    {
     "data": {
      "text/plain": [
       "True"
      ]
     },
     "execution_count": 92,
     "metadata": {},
     "output_type": "execute_result"
    }
   ],
   "source": [
    "#8-Is A subset of B\n",
    "A .issubset(B)"
   ]
  },
  {
   "cell_type": "code",
   "execution_count": 94,
   "id": "153de658-d931-495d-8063-e0e0d72d1faa",
   "metadata": {},
   "outputs": [
    {
     "data": {
      "text/plain": [
       "False"
      ]
     },
     "execution_count": 94,
     "metadata": {},
     "output_type": "execute_result"
    }
   ],
   "source": [
    "#9-Are A and B disjoint sets\n",
    "A .isdisjoint(B)"
   ]
  },
  {
   "cell_type": "code",
   "execution_count": 98,
   "id": "a68363a4-9cbd-49fd-b20c-4edfa101b223",
   "metadata": {},
   "outputs": [
    {
     "name": "stdout",
     "output_type": "stream",
     "text": [
      "{19, 20, 22, 24, 25, 26, 27, 28}\n",
      "{19, 20, 22, 24, 25, 26, 27, 28}\n"
     ]
    }
   ],
   "source": [
    "#10-Join A with B and B with A\n",
    "A_union_B = A|B\n",
    "B_union_A = B|A\n",
    "print(A_union_B)\n",
    "print(B_union_A)"
   ]
  },
  {
   "cell_type": "code",
   "execution_count": 100,
   "id": "a21822db-49f1-4d40-8e59-8b1f7fbe4f0f",
   "metadata": {},
   "outputs": [
    {
     "name": "stdout",
     "output_type": "stream",
     "text": [
      "{27, 28}\n"
     ]
    }
   ],
   "source": [
    "#11-What is the symmetric difference between A and B\n",
    "E=A.symmetric_difference(B)\n",
    "print(E)"
   ]
  },
  {
   "cell_type": "code",
   "execution_count": 102,
   "id": "6be6638b-df3a-476d-a857-9b2a6bd7dab2",
   "metadata": {},
   "outputs": [],
   "source": [
    "#12- Delete the sets completely\n",
    "del A\n",
    "del B"
   ]
  },
  {
   "cell_type": "code",
   "execution_count": 106,
   "id": "6b8daeee-c79d-4154-bbf1-ed55390426f7",
   "metadata": {},
   "outputs": [
    {
     "name": "stdout",
     "output_type": "stream",
     "text": [
      "<class 'set'>\n",
      "8\n",
      "5\n"
     ]
    }
   ],
   "source": [
    "#13- Convert the ages to a set and compare the length of the list and the set, which one is\n",
    "# bigger?\n",
    "A = {19, 22, 24, 20, 25, 26}\n",
    "B = {19, 22, 20, 25, 26, 24, 28, 27}\n",
    "age = [22, 19, 24, 25, 26, 24, 25, 24]\n",
    "\n",
    "lst_to_st=set(age)\n",
    "print(type(lst_to_st))\n",
    "print(len(age))\n",
    "print(len(lst_to_st))"
   ]
  },
  {
   "cell_type": "code",
   "execution_count": null,
   "id": "2a3c614d-3f5b-43b0-9f2b-43fc400434f1",
   "metadata": {},
   "outputs": [],
   "source": [
    "#14-Explain the difference between the following data types: string, list, tuple and set\n"
   ]
  },
  {
   "cell_type": "markdown",
   "id": "ba216861-8780-4f69-9426-a5ee7f379b54",
   "metadata": {},
   "source": [
    "#### STRING:\n",
    "- Strings in python are surrounded by either single quotation marks, or double quotation marks. "
   ]
  },
  {
   "cell_type": "markdown",
   "id": "3d234a07-71cb-46ca-8318-54b74307b898",
   "metadata": {},
   "source": [
    "### LIST:\n",
    "- Lists are used to store multiple items in a single variable.\n",
    "- Lists are created using square brackets\n",
    "- List items are ordered, changeable, and allow duplicate values"
   ]
  },
  {
   "cell_type": "markdown",
   "id": "a2ac6418-296d-4367-8208-2c383ff2a81b",
   "metadata": {},
   "source": [
    "### TUPLE:\n",
    "- Tuples are used to store multiple items in a single variable\n",
    "- A tuple is a collection which is ordered and unchangeable.\n",
    "- Tuples are written with round brackets.\n",
    "- Tuple items are ordered, unchangeable, and allow duplicate values."
   ]
  },
  {
   "cell_type": "markdown",
   "id": "d6c74c6c-bcb5-4f40-b146-c93d7c927f69",
   "metadata": {},
   "source": [
    "### SET:\n",
    "- Sets are used to store multiple items in a single variable.\n",
    "- A set is a collection which is unordered, unchangeable*, and unindexed.\n",
    "- Sets are written with curly brackets."
   ]
  }
 ],
 "metadata": {
  "kernelspec": {
   "display_name": "Python 3 (ipykernel)",
   "language": "python",
   "name": "python3"
  },
  "language_info": {
   "codemirror_mode": {
    "name": "ipython",
    "version": 3
   },
   "file_extension": ".py",
   "mimetype": "text/x-python",
   "name": "python",
   "nbconvert_exporter": "python",
   "pygments_lexer": "ipython3",
   "version": "3.12.4"
  }
 },
 "nbformat": 4,
 "nbformat_minor": 5
}
