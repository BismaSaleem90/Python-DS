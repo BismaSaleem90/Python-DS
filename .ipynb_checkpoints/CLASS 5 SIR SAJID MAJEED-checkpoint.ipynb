{
 "cells": [
  {
   "cell_type": "code",
   "execution_count": 49,
   "id": "7df16214-d1d0-4c6b-a07d-aa3260cc620a",
   "metadata": {},
   "outputs": [],
   "source": [
    "fruits_liked = ['BANANA','MANGO','STRAWBERRY']\n",
    "not_liked = ['APPLE','MELON','KIWI']\n",
    "occassionally_ = ['WATERMELON','PINEAPPLE','CHERRY']"
   ]
  },
  {
   "cell_type": "code",
   "execution_count": 51,
   "id": "8854adf5-4806-479a-ac46-75fada44eef6",
   "metadata": {},
   "outputs": [
    {
     "name": "stdout",
     "output_type": "stream",
     "text": [
      "['BANANA', 'MANGO', 'STRAWBERRY', ['APPLE', 'MELON', 'KIWI']]\n"
     ]
    }
   ],
   "source": [
    "fruits_liked.append(not_liked)\n",
    "print(fruits_liked)"
   ]
  },
  {
   "cell_type": "code",
   "execution_count": 53,
   "id": "ccf16899-eeab-4253-9478-60ba9be0bef6",
   "metadata": {},
   "outputs": [
    {
     "name": "stdout",
     "output_type": "stream",
     "text": [
      "[['WATERMELON', 'PINEAPPLE', 'CHERRY'], 'BANANA', 'MANGO', 'STRAWBERRY', ['APPLE', 'MELON', 'KIWI']]\n"
     ]
    }
   ],
   "source": [
    "fruits_liked.insert(0,occassionally_)\n",
    "print(fruits_liked)"
   ]
  },
  {
   "cell_type": "code",
   "execution_count": 9,
   "id": "be14cfb7-3cf5-4925-bcdd-913f20f041ee",
   "metadata": {},
   "outputs": [
    {
     "data": {
      "text/plain": [
       "['MELON', 'KIWI']"
      ]
     },
     "execution_count": 9,
     "metadata": {},
     "output_type": "execute_result"
    }
   ],
   "source": [
    "fruits_liked[4][1:3]"
   ]
  },
  {
   "cell_type": "code",
   "execution_count": 11,
   "id": "042bb8d1-c5ce-4b82-bf33-f1e02402ece8",
   "metadata": {},
   "outputs": [
    {
     "data": {
      "text/plain": [
       "5"
      ]
     },
     "execution_count": 11,
     "metadata": {},
     "output_type": "execute_result"
    }
   ],
   "source": [
    "len(fruits_liked)"
   ]
  },
  {
   "cell_type": "code",
   "execution_count": 17,
   "id": "f6236454-6eaa-4b82-9116-983d40e7a3e8",
   "metadata": {},
   "outputs": [
    {
     "data": {
      "text/plain": [
       "3"
      ]
     },
     "execution_count": 17,
     "metadata": {},
     "output_type": "execute_result"
    }
   ],
   "source": [
    "len(fruits_liked[4])"
   ]
  },
  {
   "cell_type": "code",
   "execution_count": 19,
   "id": "e7602e36-4168-4861-a864-ef3df79316da",
   "metadata": {},
   "outputs": [
    {
     "name": "stdout",
     "output_type": "stream",
     "text": [
      "[['APPLE', 'MELON', 'KIWI'], 'STRAWBERRY', 'MANGO', 'BANANA', ['WATERMELON', 'PINEAPPLE', 'CHERRY']]\n"
     ]
    }
   ],
   "source": [
    "fruits_liked.reverse()\n",
    "print(fruits_liked)"
   ]
  },
  {
   "cell_type": "code",
   "execution_count": 27,
   "id": "9f6464e1-40e6-4b9b-bd11-83bc2720af25",
   "metadata": {},
   "outputs": [
    {
     "ename": "ValueError",
     "evalue": "list.remove(x): x not in list",
     "output_type": "error",
     "traceback": [
      "\u001b[1;31m---------------------------------------------------------------------------\u001b[0m",
      "\u001b[1;31mValueError\u001b[0m                                Traceback (most recent call last)",
      "Cell \u001b[1;32mIn[27], line 1\u001b[0m\n\u001b[1;32m----> 1\u001b[0m fruits_liked\u001b[38;5;241m.\u001b[39mremove(\u001b[38;5;124m'\u001b[39m\u001b[38;5;124mPINEAPPLE\u001b[39m\u001b[38;5;124m'\u001b[39m)\n\u001b[0;32m      2\u001b[0m fruits_liked\u001b[38;5;241m.\u001b[39mremove(\u001b[38;5;124m'\u001b[39m\u001b[38;5;124mCHERRY\u001b[39m\u001b[38;5;124m'\u001b[39m)\n\u001b[0;32m      3\u001b[0m \u001b[38;5;28mprint\u001b[39m(fruits_liked)\n",
      "\u001b[1;31mValueError\u001b[0m: list.remove(x): x not in list"
     ]
    }
   ],
   "source": [
    "fruits_liked.remove('PINEAPPLE')\n",
    "fruits_liked.remove('CHERRY')\n",
    "print(fruits_liked)"
   ]
  },
  {
   "cell_type": "code",
   "execution_count": null,
   "id": "f3be916f-da5f-4dc1-b32c-58580dfeab7b",
   "metadata": {},
   "outputs": [],
   "source": [
    "#X IS INPUT GIVEN BY US\n",
    "# X IS NOT OART OF THIS LIST ITS IN SUBLIST\n",
    "#DIRECTLY AP SUB LIST K ELEMENTS KO ACCESS NAHI KARSAKTE\n"
   ]
  },
  {
   "cell_type": "code",
   "execution_count": 29,
   "id": "1d8243f0-0824-4e95-b431-2c5fb5486deb",
   "metadata": {},
   "outputs": [
    {
     "name": "stdout",
     "output_type": "stream",
     "text": [
      "[['APPLE', 'MELON', 'KIWI'], 'STRAWBERRY', 'MANGO', 'BANANA', ['WATERMELON', 'PINEAPPLE', 'CHERRY']]\n"
     ]
    }
   ],
   "source": [
    "print(fruits_liked)"
   ]
  },
  {
   "cell_type": "code",
   "execution_count": 31,
   "id": "bf33cf2a-a207-4c2d-b079-9895a3a195fd",
   "metadata": {},
   "outputs": [
    {
     "name": "stdout",
     "output_type": "stream",
     "text": [
      "[['APPLE', 'MELON', 'KIWI'], 'STRAWBERRY', 'MANGO', 'BANANA', ['WATERMELON']]\n"
     ]
    }
   ],
   "source": [
    "fruits_liked[4].remove('PINEAPPLE')\n",
    "fruits_liked[4].remove('CHERRY')\n",
    "print(fruits_liked)"
   ]
  },
  {
   "cell_type": "code",
   "execution_count": 33,
   "id": "99a1dd17-9be7-4188-9dc5-698dfe13bde5",
   "metadata": {},
   "outputs": [
    {
     "data": {
      "text/plain": [
       "['__add__',\n",
       " '__class__',\n",
       " '__class_getitem__',\n",
       " '__contains__',\n",
       " '__delattr__',\n",
       " '__delitem__',\n",
       " '__dir__',\n",
       " '__doc__',\n",
       " '__eq__',\n",
       " '__format__',\n",
       " '__ge__',\n",
       " '__getattribute__',\n",
       " '__getitem__',\n",
       " '__getstate__',\n",
       " '__gt__',\n",
       " '__hash__',\n",
       " '__iadd__',\n",
       " '__imul__',\n",
       " '__init__',\n",
       " '__init_subclass__',\n",
       " '__iter__',\n",
       " '__le__',\n",
       " '__len__',\n",
       " '__lt__',\n",
       " '__mul__',\n",
       " '__ne__',\n",
       " '__new__',\n",
       " '__reduce__',\n",
       " '__reduce_ex__',\n",
       " '__repr__',\n",
       " '__reversed__',\n",
       " '__rmul__',\n",
       " '__setattr__',\n",
       " '__setitem__',\n",
       " '__sizeof__',\n",
       " '__str__',\n",
       " '__subclasshook__',\n",
       " 'append',\n",
       " 'clear',\n",
       " 'copy',\n",
       " 'count',\n",
       " 'extend',\n",
       " 'index',\n",
       " 'insert',\n",
       " 'pop',\n",
       " 'remove',\n",
       " 'reverse',\n",
       " 'sort']"
      ]
     },
     "execution_count": 33,
     "metadata": {},
     "output_type": "execute_result"
    }
   ],
   "source": [
    "dir(list)"
   ]
  },
  {
   "cell_type": "code",
   "execution_count": 39,
   "id": "276cc08e-c072-41f6-bf7c-438d6e8d0ddf",
   "metadata": {},
   "outputs": [
    {
     "name": "stdout",
     "output_type": "stream",
     "text": [
      "[]\n"
     ]
    }
   ],
   "source": [
    "fruits_liked.clear() #saare elements 1 one k andar remove krne hain\n",
    "print(fruits_liked)"
   ]
  },
  {
   "cell_type": "code",
   "execution_count": 43,
   "id": "76488ffb-3e90-4f0d-902e-0f51e4efc06c",
   "metadata": {},
   "outputs": [
    {
     "name": "stdout",
     "output_type": "stream",
     "text": [
      "[]\n"
     ]
    }
   ],
   "source": [
    "print(fruits_liked)"
   ]
  },
  {
   "cell_type": "code",
   "execution_count": 45,
   "id": "702138b9-4abc-4e78-a3ef-366520fa51a4",
   "metadata": {},
   "outputs": [],
   "source": [
    "#delete ka method is a builtin method\n",
    "# to remove list completely along with its elements\n",
    "#clear is used when we want to delete elemnts of that list but list continues to exist empty.\n",
    "del(fruits_liked)"
   ]
  },
  {
   "cell_type": "code",
   "execution_count": 47,
   "id": "50a46ec7-021d-487e-9f47-b74366762aab",
   "metadata": {},
   "outputs": [
    {
     "ename": "NameError",
     "evalue": "name 'fruits_liked' is not defined",
     "output_type": "error",
     "traceback": [
      "\u001b[1;31m---------------------------------------------------------------------------\u001b[0m",
      "\u001b[1;31mNameError\u001b[0m                                 Traceback (most recent call last)",
      "Cell \u001b[1;32mIn[47], line 1\u001b[0m\n\u001b[1;32m----> 1\u001b[0m fruits_liked[\u001b[38;5;241m0\u001b[39m]\n",
      "\u001b[1;31mNameError\u001b[0m: name 'fruits_liked' is not defined"
     ]
    }
   ],
   "source": [
    "# list is deleted from its memory\n",
    "fruits_liked[0]"
   ]
  },
  {
   "cell_type": "code",
   "execution_count": null,
   "id": "183ef4e7-f34c-4891-8529-8beccb8eb784",
   "metadata": {},
   "outputs": [],
   "source": [
    "#uper jaake 1st 2nd 3rd wala cell run karo"
   ]
  },
  {
   "cell_type": "code",
   "execution_count": 55,
   "id": "97087533-b7cf-4ee7-9c1e-fa627748d027",
   "metadata": {},
   "outputs": [
    {
     "data": {
      "text/plain": [
       "[['WATERMELON', 'PINEAPPLE', 'CHERRY'],\n",
       " 'BANANA',\n",
       " 'MANGO',\n",
       " 'STRAWBERRY',\n",
       " ['APPLE', 'MELON', 'KIWI']]"
      ]
     },
     "execution_count": 55,
     "metadata": {},
     "output_type": "execute_result"
    }
   ],
   "source": [
    "fruits_liked"
   ]
  },
  {
   "cell_type": "code",
   "execution_count": 57,
   "id": "ed3ac528-01fc-4d94-bab6-7995b77b1387",
   "metadata": {},
   "outputs": [
    {
     "data": {
      "text/plain": [
       "False"
      ]
     },
     "execution_count": 57,
     "metadata": {},
     "output_type": "execute_result"
    }
   ],
   "source": [
    "#MEMBERSHIP OPERATOR\n",
    "#subscript wala element nahi milega esko\n",
    "'APPLE' in fruits_liked"
   ]
  },
  {
   "cell_type": "code",
   "execution_count": 59,
   "id": "7a6b2f92-e348-4e65-908c-6921e1601205",
   "metadata": {},
   "outputs": [
    {
     "data": {
      "text/plain": [
       "True"
      ]
     },
     "execution_count": 59,
     "metadata": {},
     "output_type": "execute_result"
    }
   ],
   "source": [
    "'Avocado' not in fruits_liked"
   ]
  },
  {
   "cell_type": "code",
   "execution_count": 61,
   "id": "b8921dae-d7ab-4ea2-977b-836c8f92ebc1",
   "metadata": {},
   "outputs": [
    {
     "data": {
      "text/plain": [
       "True"
      ]
     },
     "execution_count": 61,
     "metadata": {},
     "output_type": "execute_result"
    }
   ],
   "source": [
    "# index deni hoti hai to cal subscript element\n",
    "'APPLE' in fruits_liked[4]"
   ]
  },
  {
   "cell_type": "code",
   "execution_count": 63,
   "id": "5051844e-01c4-40e7-a780-d1e6e78593fb",
   "metadata": {},
   "outputs": [],
   "source": [
    "#MUTABLE: CHANGEABLE\n",
    "#ImMUTABLE: UNCHANGEABLE\n",
    "#LIST K ITEMS KO CHANGE KRSAKTE HAIN TOU YE MUTABLE HOTI\n",
    "#TUPLE() : eski pehchan hai round brackets dont confuse it with fuction"
   ]
  },
  {
   "cell_type": "code",
   "execution_count": 65,
   "id": "2b88f044-e61c-4c59-96be-d7a315f75296",
   "metadata": {},
   "outputs": [
    {
     "name": "stdout",
     "output_type": "stream",
     "text": [
      "(1, 2, 3, 4, 5, 6, 7, 8)\n"
     ]
    }
   ],
   "source": [
    "numbers = (1,2,3,4,5,6,7,8)\n",
    "print(numbers)"
   ]
  },
  {
   "cell_type": "code",
   "execution_count": 67,
   "id": "44eb773a-633e-4c7f-93a0-3800397e6b89",
   "metadata": {},
   "outputs": [
    {
     "name": "stdout",
     "output_type": "stream",
     "text": [
      "<class 'tuple'>\n"
     ]
    }
   ],
   "source": [
    "print(type(numbers))"
   ]
  },
  {
   "cell_type": "code",
   "execution_count": 71,
   "id": "09a46ee6-4254-4a22-8909-53f18460737a",
   "metadata": {},
   "outputs": [
    {
     "data": {
      "text/plain": [
       "tuple"
      ]
     },
     "execution_count": 71,
     "metadata": {},
     "output_type": "execute_result"
    }
   ],
   "source": [
    "number_ = (1,2,3,4,5,6,7,8)\n",
    "type(number_)"
   ]
  },
  {
   "cell_type": "code",
   "execution_count": 73,
   "id": "446c53d8-5cb5-4735-a8a1-0ed1de5a6f54",
   "metadata": {},
   "outputs": [
    {
     "data": {
      "text/plain": [
       "1"
      ]
     },
     "execution_count": 73,
     "metadata": {},
     "output_type": "execute_result"
    }
   ],
   "source": [
    "#jitni bhi data dtype hain unke indexing hamesha [] me ati hai\n",
    "number_[0]"
   ]
  },
  {
   "cell_type": "code",
   "execution_count": 75,
   "id": "c73f4e6a-024f-4d21-b7d9-76832ff3ccf7",
   "metadata": {},
   "outputs": [
    {
     "ename": "AttributeError",
     "evalue": "'tuple' object has no attribute 'append'",
     "output_type": "error",
     "traceback": [
      "\u001b[1;31m---------------------------------------------------------------------------\u001b[0m",
      "\u001b[1;31mAttributeError\u001b[0m                            Traceback (most recent call last)",
      "Cell \u001b[1;32mIn[75], line 1\u001b[0m\n\u001b[1;32m----> 1\u001b[0m number_\u001b[38;5;241m.\u001b[39mappend()\n",
      "\u001b[1;31mAttributeError\u001b[0m: 'tuple' object has no attribute 'append'"
     ]
    }
   ],
   "source": [
    "number_.append()"
   ]
  },
  {
   "cell_type": "code",
   "execution_count": null,
   "id": "1ca571fa-9790-4b81-a993-aa63580e95a0",
   "metadata": {},
   "outputs": [],
   "source": [
    "#tuple is a immutable data type (not changeable) eska koe bhi attribute pe append kaam nahi karega\n",
    "#means append eska method nahi hai.\n",
    "#LIST KA koe bhi method tuple pe kaam nahi karga"
   ]
  },
  {
   "cell_type": "code",
   "execution_count": 77,
   "id": "55d45d33-0ead-46ee-8978-ceb8cdf75c62",
   "metadata": {},
   "outputs": [
    {
     "data": {
      "text/plain": [
       "1"
      ]
     },
     "execution_count": 77,
     "metadata": {},
     "output_type": "execute_result"
    }
   ],
   "source": [
    "number_.count(2)"
   ]
  },
  {
   "cell_type": "code",
   "execution_count": 79,
   "id": "6cdf4e90-9ad0-4c41-9e7d-bf8a709cae53",
   "metadata": {},
   "outputs": [
    {
     "name": "stdout",
     "output_type": "stream",
     "text": [
      "(19, 12, 23, 11, 25, 26)\n"
     ]
    }
   ],
   "source": [
    "number1=(19,12,23,11,25,26)\n",
    "print(number1)"
   ]
  },
  {
   "cell_type": "code",
   "execution_count": 83,
   "id": "37cfc165-bf02-4d38-b129-105e2a32359a",
   "metadata": {},
   "outputs": [
    {
     "name": "stdout",
     "output_type": "stream",
     "text": [
      "(19, 12, 23, 11, 25, 26, 19, 12, 23, 11, 25, 26)\n"
     ]
    }
   ],
   "source": [
    "number_list=number_+number1\n",
    "print(number_list)"
   ]
  },
  {
   "cell_type": "code",
   "execution_count": null,
   "id": "c9abf852-0b53-4376-bbc9-f2a6e0bebe20",
   "metadata": {},
   "outputs": [],
   "source": [
    "#ye CONCATENATION HUA HAI CZ CHEEZ aggy ake juri hai to glue\n",
    "#ADDITION MEANS ADD HNA ES ME 1+19 20 HOJATA EK RESULT ATA"
   ]
  },
  {
   "cell_type": "code",
   "execution_count": 85,
   "id": "5eb8bb72-9a95-402e-aae9-45dcf4146dbe",
   "metadata": {},
   "outputs": [
    {
     "ename": "TypeError",
     "evalue": "unsupported operand type(s) for -: 'tuple' and 'tuple'",
     "output_type": "error",
     "traceback": [
      "\u001b[1;31m---------------------------------------------------------------------------\u001b[0m",
      "\u001b[1;31mTypeError\u001b[0m                                 Traceback (most recent call last)",
      "Cell \u001b[1;32mIn[85], line 1\u001b[0m\n\u001b[1;32m----> 1\u001b[0m number_\u001b[38;5;241m-\u001b[39mnumber1\n",
      "\u001b[1;31mTypeError\u001b[0m: unsupported operand type(s) for -: 'tuple' and 'tuple'"
     ]
    }
   ],
   "source": [
    "number_-number1"
   ]
  },
  {
   "cell_type": "code",
   "execution_count": 87,
   "id": "3ab8f961-ec1f-4380-8b35-7c42f7745075",
   "metadata": {},
   "outputs": [
    {
     "data": {
      "text/plain": [
       "(19, 12, 23, 11, 25, 26, 19, 12, 23, 11, 25, 26, 19, 12, 23, 11, 25, 26)"
      ]
     },
     "execution_count": 87,
     "metadata": {},
     "output_type": "execute_result"
    }
   ],
   "source": [
    "number_*3"
   ]
  },
  {
   "cell_type": "code",
   "execution_count": 89,
   "id": "f3b9c7a4-4aec-4ff5-8621-041ff5248bc6",
   "metadata": {},
   "outputs": [
    {
     "data": {
      "text/plain": [
       "15"
      ]
     },
     "execution_count": 89,
     "metadata": {},
     "output_type": "execute_result"
    }
   ],
   "source": [
    "5*3"
   ]
  },
  {
   "cell_type": "code",
   "execution_count": 91,
   "id": "4dc8ff7b-0e57-479b-bf25-65e030d1bd78",
   "metadata": {},
   "outputs": [
    {
     "data": {
      "text/plain": [
       "'555'"
      ]
     },
     "execution_count": 91,
     "metadata": {},
     "output_type": "execute_result"
    }
   ],
   "source": [
    "'5'*3"
   ]
  },
  {
   "cell_type": "code",
   "execution_count": 95,
   "id": "f2a44348-d371-49ad-bbb6-093ceeaf6a71",
   "metadata": {},
   "outputs": [
    {
     "data": {
      "text/plain": [
       "()"
      ]
     },
     "execution_count": 95,
     "metadata": {},
     "output_type": "execute_result"
    }
   ],
   "source": [
    "number_*-1"
   ]
  },
  {
   "cell_type": "code",
   "execution_count": 97,
   "id": "afea48ea-5934-4ede-a21c-6b202ff28e51",
   "metadata": {},
   "outputs": [
    {
     "ename": "TypeError",
     "evalue": "unsupported operand type(s) for /: 'tuple' and 'int'",
     "output_type": "error",
     "traceback": [
      "\u001b[1;31m---------------------------------------------------------------------------\u001b[0m",
      "\u001b[1;31mTypeError\u001b[0m                                 Traceback (most recent call last)",
      "Cell \u001b[1;32mIn[97], line 1\u001b[0m\n\u001b[1;32m----> 1\u001b[0m number_\u001b[38;5;241m/\u001b[39m\u001b[38;5;241m4\u001b[39m\n",
      "\u001b[1;31mTypeError\u001b[0m: unsupported operand type(s) for /: 'tuple' and 'int'"
     ]
    }
   ],
   "source": [
    "number_/4"
   ]
  },
  {
   "cell_type": "code",
   "execution_count": 101,
   "id": "e2bcd3cf-05d5-4682-9363-a8801b3c58d1",
   "metadata": {},
   "outputs": [
    {
     "data": {
      "text/plain": [
       "0"
      ]
     },
     "execution_count": 101,
     "metadata": {},
     "output_type": "execute_result"
    }
   ],
   "source": [
    "#ab tak hum index dete thy elemnt pochty thy\n",
    "#ab hum element deke index pochein gey\n",
    "#reverse uno\n",
    "#19 zero index pe tha\n",
    "\n",
    "number1.index(19)"
   ]
  },
  {
   "cell_type": "code",
   "execution_count": 103,
   "id": "4782edc2-7859-48e3-b140-b3ca667651f5",
   "metadata": {},
   "outputs": [
    {
     "data": {
      "text/plain": [
       "['__add__',\n",
       " '__class__',\n",
       " '__class_getitem__',\n",
       " '__contains__',\n",
       " '__delattr__',\n",
       " '__dir__',\n",
       " '__doc__',\n",
       " '__eq__',\n",
       " '__format__',\n",
       " '__ge__',\n",
       " '__getattribute__',\n",
       " '__getitem__',\n",
       " '__getnewargs__',\n",
       " '__getstate__',\n",
       " '__gt__',\n",
       " '__hash__',\n",
       " '__init__',\n",
       " '__init_subclass__',\n",
       " '__iter__',\n",
       " '__le__',\n",
       " '__len__',\n",
       " '__lt__',\n",
       " '__mul__',\n",
       " '__ne__',\n",
       " '__new__',\n",
       " '__reduce__',\n",
       " '__reduce_ex__',\n",
       " '__repr__',\n",
       " '__rmul__',\n",
       " '__setattr__',\n",
       " '__sizeof__',\n",
       " '__str__',\n",
       " '__subclasshook__',\n",
       " 'count',\n",
       " 'index']"
      ]
     },
     "execution_count": 103,
     "metadata": {},
     "output_type": "execute_result"
    }
   ],
   "source": [
    "dir(tuple)"
   ]
  },
  {
   "cell_type": "code",
   "execution_count": 105,
   "id": "6fd1e4ca-2035-4a1f-a5fd-dcd314413075",
   "metadata": {},
   "outputs": [
    {
     "data": {
      "text/plain": [
       "2"
      ]
     },
     "execution_count": 105,
     "metadata": {},
     "output_type": "execute_result"
    }
   ],
   "source": [
    "number1.index(23)"
   ]
  },
  {
   "cell_type": "code",
   "execution_count": 107,
   "id": "6dc328cf-9314-45d1-86a4-9e4a0df7b2ef",
   "metadata": {},
   "outputs": [],
   "source": [
    "#list me um .index nahi likhte thy hamesha [] me direct index batate hain\n",
    "#tuple me .index likhty hain or elemnt batate hain"
   ]
  },
  {
   "cell_type": "code",
   "execution_count": 109,
   "id": "47ebcfd1-f846-44c7-8e93-4c06f011e981",
   "metadata": {},
   "outputs": [],
   "source": [
    "fruits = ('Banana','Mango','Apple')\n"
   ]
  },
  {
   "cell_type": "code",
   "execution_count": 111,
   "id": "f61403a6-6598-4822-b052-ac60f5a8ac2f",
   "metadata": {},
   "outputs": [
    {
     "ename": "AttributeError",
     "evalue": "'tuple' object has no attribute 'append'",
     "output_type": "error",
     "traceback": [
      "\u001b[1;31m---------------------------------------------------------------------------\u001b[0m",
      "\u001b[1;31mAttributeError\u001b[0m                            Traceback (most recent call last)",
      "Cell \u001b[1;32mIn[111], line 1\u001b[0m\n\u001b[1;32m----> 1\u001b[0m fruits\u001b[38;5;241m.\u001b[39mappend(\u001b[38;5;124m'\u001b[39m\u001b[38;5;124mKiwi\u001b[39m\u001b[38;5;124m'\u001b[39m)\n",
      "\u001b[1;31mAttributeError\u001b[0m: 'tuple' object has no attribute 'append'"
     ]
    }
   ],
   "source": [
    "fruits.append('Kiwi')"
   ]
  },
  {
   "cell_type": "code",
   "execution_count": 113,
   "id": "38e4daee-aaab-4b21-978e-7dfa9722ae00",
   "metadata": {},
   "outputs": [],
   "source": [
    "fruits_liked.append(fruits)"
   ]
  },
  {
   "cell_type": "code",
   "execution_count": 115,
   "id": "b2ab3996-e713-4f5a-ba3d-15cb1304a42d",
   "metadata": {},
   "outputs": [
    {
     "name": "stdout",
     "output_type": "stream",
     "text": [
      "[['WATERMELON', 'PINEAPPLE', 'CHERRY'], 'BANANA', 'MANGO', 'STRAWBERRY', ['APPLE', 'MELON', 'KIWI'], ('Banana', 'Mango', 'Apple')]\n"
     ]
    }
   ],
   "source": [
    "print(fruits_liked)"
   ]
  },
  {
   "cell_type": "code",
   "execution_count": 117,
   "id": "1ada5559-d55b-463d-b81b-25fb1fc888b5",
   "metadata": {},
   "outputs": [
    {
     "ename": "AttributeError",
     "evalue": "'tuple' object has no attribute 'append'",
     "output_type": "error",
     "traceback": [
      "\u001b[1;31m---------------------------------------------------------------------------\u001b[0m",
      "\u001b[1;31mAttributeError\u001b[0m                            Traceback (most recent call last)",
      "Cell \u001b[1;32mIn[117], line 1\u001b[0m\n\u001b[1;32m----> 1\u001b[0m fruits\u001b[38;5;241m.\u001b[39mappend(fruits_liked)\n",
      "\u001b[1;31mAttributeError\u001b[0m: 'tuple' object has no attribute 'append'"
     ]
    }
   ],
   "source": [
    "fruits.append(fruits_liked)"
   ]
  },
  {
   "cell_type": "code",
   "execution_count": null,
   "id": "d3781a32-60e9-453b-ab11-8deba20d00d9",
   "metadata": {},
   "outputs": [],
   "source": [
    "# list me tuple append hojaega but tuple me list append nahi hogi"
   ]
  },
  {
   "cell_type": "code",
   "execution_count": 119,
   "id": "2302e771-dc96-48ff-8c92-4e363768c709",
   "metadata": {},
   "outputs": [
    {
     "ename": "TypeError",
     "evalue": "can only concatenate tuple (not \"list\") to tuple",
     "output_type": "error",
     "traceback": [
      "\u001b[1;31m---------------------------------------------------------------------------\u001b[0m",
      "\u001b[1;31mTypeError\u001b[0m                                 Traceback (most recent call last)",
      "Cell \u001b[1;32mIn[119], line 1\u001b[0m\n\u001b[1;32m----> 1\u001b[0m fruits \u001b[38;5;241m=\u001b[39m fruits \u001b[38;5;241m+\u001b[39m fruits_liked\n\u001b[0;32m      2\u001b[0m \u001b[38;5;28mprint\u001b[39m(fruits)\n",
      "\u001b[1;31mTypeError\u001b[0m: can only concatenate tuple (not \"list\") to tuple"
     ]
    }
   ],
   "source": [
    "fruits = fruits + fruits_liked\n",
    "print(fruits)"
   ]
  },
  {
   "cell_type": "code",
   "execution_count": null,
   "id": "097d9aa6-ace3-4a45-a09a-c447d1831141",
   "metadata": {},
   "outputs": [],
   "source": [
    "#can only concatenate tuple to tuple not tuple to list."
   ]
  },
  {
   "cell_type": "code",
   "execution_count": 121,
   "id": "61acab15-5fbc-49ea-95b3-7f1e8e459d66",
   "metadata": {},
   "outputs": [
    {
     "ename": "TypeError",
     "evalue": "can only concatenate tuple (not \"list\") to tuple",
     "output_type": "error",
     "traceback": [
      "\u001b[1;31m---------------------------------------------------------------------------\u001b[0m",
      "\u001b[1;31mTypeError\u001b[0m                                 Traceback (most recent call last)",
      "Cell \u001b[1;32mIn[121], line 1\u001b[0m\n\u001b[1;32m----> 1\u001b[0m fruits_liked \u001b[38;5;241m=\u001b[39m fruits\u001b[38;5;241m+\u001b[39mfruits_liked\n\u001b[0;32m      2\u001b[0m \u001b[38;5;28mprint\u001b[39m(fruits_liked)\n",
      "\u001b[1;31mTypeError\u001b[0m: can only concatenate tuple (not \"list\") to tuple"
     ]
    }
   ],
   "source": [
    "fruits_liked = fruits+fruits_liked\n",
    "print(fruits_liked)"
   ]
  },
  {
   "cell_type": "code",
   "execution_count": null,
   "id": "88d2abf7-8310-4b89-9757-30e14a439729",
   "metadata": {},
   "outputs": [],
   "source": [
    "# use insert or append to add tuple to list\n",
    "# if you use + tou tuple khud ko pehle se alag karleta hai ye uski property hai.\n",
    "\n"
   ]
  },
  {
   "cell_type": "code",
   "execution_count": 123,
   "id": "b6d8d897-d141-4d9a-8b8c-4c53d8472686",
   "metadata": {},
   "outputs": [
    {
     "data": {
      "text/plain": [
       "(19, 12, 23, 11, 25, 26)"
      ]
     },
     "execution_count": 123,
     "metadata": {},
     "output_type": "execute_result"
    }
   ],
   "source": [
    "number1"
   ]
  },
  {
   "cell_type": "code",
   "execution_count": 125,
   "id": "25455e0c-06e8-4330-848a-7ad89f3e18ba",
   "metadata": {},
   "outputs": [
    {
     "data": {
      "text/plain": [
       "26"
      ]
     },
     "execution_count": 125,
     "metadata": {},
     "output_type": "execute_result"
    }
   ],
   "source": [
    "max(number1)"
   ]
  },
  {
   "cell_type": "code",
   "execution_count": 127,
   "id": "3f81bddd-337e-4ce7-8a8a-ab7099bd68d5",
   "metadata": {},
   "outputs": [
    {
     "data": {
      "text/plain": [
       "[26, 25, 23, 19, 12, 11]"
      ]
     },
     "execution_count": 127,
     "metadata": {},
     "output_type": "execute_result"
    }
   ],
   "source": [
    "sorted(number1,reverse=True)"
   ]
  },
  {
   "cell_type": "code",
   "execution_count": 129,
   "id": "02a17843-ae11-423f-88fd-95c153984cbc",
   "metadata": {},
   "outputs": [
    {
     "data": {
      "text/plain": [
       "116"
      ]
     },
     "execution_count": 129,
     "metadata": {},
     "output_type": "execute_result"
    }
   ],
   "source": [
    "sum(number1)"
   ]
  },
  {
   "cell_type": "code",
   "execution_count": 131,
   "id": "3b3b9ea0-7254-4547-9e95-b5217d447f09",
   "metadata": {},
   "outputs": [
    {
     "data": {
      "text/plain": [
       "[11, 12, 19, 23, 25, 26]"
      ]
     },
     "execution_count": 131,
     "metadata": {},
     "output_type": "execute_result"
    }
   ],
   "source": [
    "sorted(number1,reverse=False)"
   ]
  },
  {
   "cell_type": "code",
   "execution_count": 139,
   "id": "1a8b7599-79e3-4e6a-b6a8-29c15011f34a",
   "metadata": {},
   "outputs": [
    {
     "data": {
      "text/plain": [
       "(19, 12, 23, 11, 25, 26)"
      ]
     },
     "execution_count": 139,
     "metadata": {},
     "output_type": "execute_result"
    }
   ],
   "source": [
    "number1"
   ]
  },
  {
   "cell_type": "code",
   "execution_count": 141,
   "id": "e988c27e-8aa6-4481-b32e-52fc81f81e44",
   "metadata": {},
   "outputs": [
    {
     "data": {
      "text/plain": [
       "1"
      ]
     },
     "execution_count": 141,
     "metadata": {},
     "output_type": "execute_result"
    }
   ],
   "source": [
    "number1.count(19)"
   ]
  },
  {
   "cell_type": "code",
   "execution_count": 143,
   "id": "d20b937a-a218-4619-b1dc-9428bcce8abe",
   "metadata": {},
   "outputs": [
    {
     "name": "stdout",
     "output_type": "stream",
     "text": [
      "6 67 45\n"
     ]
    }
   ],
   "source": [
    "num1,num2,num3=6,67,45\n",
    "print(num1,num2,num3)"
   ]
  },
  {
   "cell_type": "code",
   "execution_count": 147,
   "id": "58ed5316-ee6f-45b0-a4cd-b92c512e74ae",
   "metadata": {},
   "outputs": [
    {
     "ename": "TypeError",
     "evalue": "type.__new__() argument 1 must be str, not int",
     "output_type": "error",
     "traceback": [
      "\u001b[1;31m---------------------------------------------------------------------------\u001b[0m",
      "\u001b[1;31mTypeError\u001b[0m                                 Traceback (most recent call last)",
      "Cell \u001b[1;32mIn[147], line 2\u001b[0m\n\u001b[0;32m      1\u001b[0m num1,num2,num3\u001b[38;5;241m=\u001b[39m{\u001b[38;5;241m6\u001b[39m,\u001b[38;5;241m67\u001b[39m,\u001b[38;5;241m45\u001b[39m}\n\u001b[1;32m----> 2\u001b[0m \u001b[38;5;28mprint\u001b[39m(\u001b[38;5;28mtype\u001b[39m(num1,num2,num3))\n\u001b[0;32m      3\u001b[0m \u001b[38;5;28mprint\u001b[39m(num1,num2,num3)\n",
      "\u001b[1;31mTypeError\u001b[0m: type.__new__() argument 1 must be str, not int"
     ]
    }
   ],
   "source": [
    "num1,num2,num3={6,67,45}\n",
    "print(type(num1,num2,num3))\n",
    "print(num1,num2,num3)"
   ]
  },
  {
   "cell_type": "code",
   "execution_count": null,
   "id": "dfec0213-555e-481e-a3f1-3aa207e97181",
   "metadata": {},
   "outputs": [],
   "source": [
    "#type eka rgument leta hai woh bhhi str hona chahye"
   ]
  },
  {
   "cell_type": "code",
   "execution_count": 151,
   "id": "fb296858-0040-4497-83ad-0b618d2ee7fc",
   "metadata": {},
   "outputs": [
    {
     "name": "stdout",
     "output_type": "stream",
     "text": [
      "<class 'int'>\n",
      "6 67 45\n"
     ]
    }
   ],
   "source": [
    "num1,num2,num3=(6,67,45)\n",
    "print(type(num1))\n",
    "print(num1,num2,num3)"
   ]
  },
  {
   "cell_type": "code",
   "execution_count": 155,
   "id": "c8a434bb-17f5-4083-9358-9d6f622bed92",
   "metadata": {},
   "outputs": [
    {
     "name": "stdout",
     "output_type": "stream",
     "text": [
      "<class 'set'>\n",
      "{67, 45, 6}\n"
     ]
    }
   ],
   "source": [
    "num1={6,67,45}\n",
    "print(type(num1))\n",
    "print(num1)"
   ]
  },
  {
   "cell_type": "code",
   "execution_count": 157,
   "id": "6b250a12-df3d-47b1-a08f-a73d9712125e",
   "metadata": {},
   "outputs": [
    {
     "name": "stdout",
     "output_type": "stream",
     "text": [
      "<class 'int'>\n",
      "67\n"
     ]
    }
   ],
   "source": [
    "#unpacking k liye RHS = LHS\n",
    "num1,num2,num3={6,67,45}\n",
    "print(type(num1))\n",
    "print(num1)"
   ]
  },
  {
   "cell_type": "code",
   "execution_count": 159,
   "id": "af827e4d-9317-4ec9-b42d-7ee200548232",
   "metadata": {},
   "outputs": [
    {
     "name": "stdout",
     "output_type": "stream",
     "text": [
      "<class 'int'>\n",
      "67\n"
     ]
    }
   ],
   "source": [
    "num1,*others={6,67,45}\n",
    "print(type(num1))\n",
    "print(num1)"
   ]
  },
  {
   "cell_type": "code",
   "execution_count": 161,
   "id": "16550814-6e80-4e91-a92f-4116c4cd7f32",
   "metadata": {},
   "outputs": [
    {
     "name": "stdout",
     "output_type": "stream",
     "text": [
      "<class 'list'>\n",
      "[45, 6]\n"
     ]
    }
   ],
   "source": [
    "num1,*others={6,67,45}\n",
    "print(type(others))\n",
    "print(others)"
   ]
  },
  {
   "cell_type": "code",
   "execution_count": null,
   "id": "af71388b-a686-43e6-9f81-f67b1613bb45",
   "metadata": {},
   "outputs": [],
   "source": []
  }
 ],
 "metadata": {
  "kernelspec": {
   "display_name": "Python 3 (ipykernel)",
   "language": "python",
   "name": "python3"
  },
  "language_info": {
   "codemirror_mode": {
    "name": "ipython",
    "version": 3
   },
   "file_extension": ".py",
   "mimetype": "text/x-python",
   "name": "python",
   "nbconvert_exporter": "python",
   "pygments_lexer": "ipython3",
   "version": "3.12.4"
  }
 },
 "nbformat": 4,
 "nbformat_minor": 5
}
