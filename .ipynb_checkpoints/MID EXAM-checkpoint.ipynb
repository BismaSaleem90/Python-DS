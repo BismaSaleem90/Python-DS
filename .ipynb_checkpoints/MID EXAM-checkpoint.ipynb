{
 "cells": [
  {
   "cell_type": "code",
   "execution_count": null,
   "id": "489bde50-bc78-4d5a-8bad-2234dc14382b",
   "metadata": {},
   "outputs": [],
   "source": [
    "# Name: BISMA SALEEM\n",
    "# Profession: BANKER\n",
    "# Organization: MBL\n",
    "# Contact No: 03111255069\n",
    "# Email: bismey90@gmail.com"
   ]
  },
  {
   "cell_type": "code",
   "execution_count": 1,
   "id": "0dad3b54-a250-4b4b-806c-7d67fdd7a779",
   "metadata": {},
   "outputs": [],
   "source": [
    "#QUESTION-1:\n",
    "fruits = ['Apple','Banana','Cherry','Date']\n"
   ]
  },
  {
   "cell_type": "code",
   "execution_count": 3,
   "id": "446da9ff-a293-4d9a-b39e-82407a09a921",
   "metadata": {},
   "outputs": [
    {
     "name": "stdout",
     "output_type": "stream",
     "text": [
      "['Apple', 'Banana', 'Cherry', 'Date', 'elderberry']\n"
     ]
    }
   ],
   "source": [
    "#a)What does the method fruits.append(elderberry) do to the list?\n",
    "#it add items in the end of list\n",
    "fruits.append('elderberry')\n",
    "print(fruits)"
   ]
  },
  {
   "cell_type": "code",
   "execution_count": 5,
   "id": "a3a7d2dd-f524-48dd-a5fc-141241c230a2",
   "metadata": {},
   "outputs": [
    {
     "name": "stdout",
     "output_type": "stream",
     "text": [
      "['Apple', 'Cherry', 'Date', 'elderberry']\n"
     ]
    }
   ],
   "source": [
    "#b)What does the method fruits.remove(banana) do to the list?\n",
    "#it removes banana from list\n",
    "fruits.remove('Banana')\n",
    "print(fruits)"
   ]
  },
  {
   "cell_type": "code",
   "execution_count": 7,
   "id": "733719af-649e-4c1a-9026-1dc7823d4942",
   "metadata": {},
   "outputs": [
    {
     "name": "stdout",
     "output_type": "stream",
     "text": [
      "['Apple', 'Cherry', 'elderberry']\n"
     ]
    }
   ],
   "source": [
    "#(c)What is the output of fruits.pop(2)? What will the list look like after this operation?\n",
    "#it removes the item on index 2 from the list fruits\n",
    "\n",
    "fruits.pop(2)\n",
    "print(fruits)"
   ]
  },
  {
   "cell_type": "code",
   "execution_count": 17,
   "id": "5b4571f6-75a2-4141-8213-879cf2cabb51",
   "metadata": {},
   "outputs": [
    {
     "name": "stdin",
     "output_type": "stream",
     "text": [
      "Enter your Name: BISMA\n",
      "Enter your age: 23\n"
     ]
    },
    {
     "name": "stdout",
     "output_type": "stream",
     "text": [
      "Hello: BISMA You are: 23.0 years old:\n"
     ]
    }
   ],
   "source": [
    "# #QUESTION 2: Write a Python script that asks the user for their name and age, stores them in variables,\n",
    "# and then prints a message saying Hello [name], you are [age] years oLD\n",
    "\n",
    "name= input('Enter your Name:')\n",
    "age = float(input ('Enter your age:'))\n",
    "print(\"Hello:\" ,name, \"You are:\" ,age, \"years old:\")"
   ]
  },
  {
   "cell_type": "code",
   "execution_count": 19,
   "id": "9f1daef4-c6c3-4385-8866-dadb20bf2f70",
   "metadata": {},
   "outputs": [
    {
     "name": "stdin",
     "output_type": "stream",
     "text": [
      "Enter a number:  3\n"
     ]
    },
    {
     "name": "stdout",
     "output_type": "stream",
     "text": [
      "The number is positive.\n"
     ]
    }
   ],
   "source": [
    "# #QUESTION 3: 3- Write a Python script that checks if a number entered in a variable num by a user is\n",
    "# positive, negative, or zero,or check if a user enter any invalid character and prints an\n",
    "# appropriate message for each case.\n",
    "\n",
    "\n",
    "user_input = input(\"Enter a number: \")\n",
    "\n",
    "if user_input.replace(\".\",\"\").replace(\"-\",\"\").replace(\"+\",\"\").isdigit():\n",
    "\n",
    "    num = float(user_input)\n",
    "    if num > 0:\n",
    "        print(\"The number is positive.\")\n",
    "    elif num == 0:\n",
    "        print(\"The number is zero.\")\n",
    "    else:\n",
    "        print(\"The number is negative.\")\n",
    "else:\n",
    "    print(\"Enter a valid number.\")\n",
    "\n"
   ]
  },
  {
   "cell_type": "code",
   "execution_count": 23,
   "id": "6ee2db6f-6282-4814-bbbd-b27c1ce27898",
   "metadata": {},
   "outputs": [],
   "source": [
    "# #QUESTION 05:The diameter of a circle is 15 meters.\n",
    "# i-Calculate the area of a circle and assign the value to a variable name of area_of_circle\n",
    "# ii- Calculate the circumference of a circle and assign the value to a variable name of\n",
    "# circum_of_circle\n",
    "# iii- Take diameter as user input and calculate the area.\n",
    "\n",
    "import math\n"
   ]
  },
  {
   "cell_type": "code",
   "execution_count": 29,
   "id": "229197b5-8693-4556-aeeb-59d8c4724a9e",
   "metadata": {},
   "outputs": [
    {
     "name": "stdout",
     "output_type": "stream",
     "text": [
      "176.71458676442586\n"
     ]
    }
   ],
   "source": [
    "diameter= 15\n",
    "radius=diameter/2\n",
    "area_of_circle=math.pi*(radius**2)\n",
    "print(area_of_circle)"
   ]
  },
  {
   "cell_type": "code",
   "execution_count": 31,
   "id": "12553746-a807-45fc-b439-c1c149d720df",
   "metadata": {},
   "outputs": [
    {
     "name": "stdout",
     "output_type": "stream",
     "text": [
      "47.12388980384689\n"
     ]
    }
   ],
   "source": [
    "circumference_of_circle= 2*math.pi*radius\n",
    "print(circumference_of_circle)"
   ]
  },
  {
   "cell_type": "code",
   "execution_count": 35,
   "id": "513cfce1-c663-4b54-8af7-0e666758232b",
   "metadata": {},
   "outputs": [
    {
     "name": "stdin",
     "output_type": "stream",
     "text": [
      "Enter your Diameter: 10\n"
     ]
    },
    {
     "name": "stdout",
     "output_type": "stream",
     "text": [
      "78.53981633974483\n",
      "31.41592653589793\n"
     ]
    }
   ],
   "source": [
    "user_diameter= float(input('Enter your Diameter:'))\n",
    "user_radius=user_diameter/2\n",
    "user_area_of_circle=math.pi*(user_radius**2)\n",
    "print(user_area_of_circle)\n",
    "user_circumference_of_circle= 2*math.pi*user_radius\n",
    "print(user_circumference_of_circle)"
   ]
  },
  {
   "cell_type": "code",
   "execution_count": 41,
   "id": "432aa42b-dce7-4edc-ad55-01759c3696bb",
   "metadata": {},
   "outputs": [
    {
     "name": "stdout",
     "output_type": "stream",
     "text": [
      "Profit made by company: 800 Dollars:\n"
     ]
    }
   ],
   "source": [
    "# QUESTION 6: A travel company wants to fly a plane to the Bahamas. Flying the plane costs 5000\n",
    "# dollars. So far, 29 people have signed up for the trip. If the company charges 200 dollars\n",
    "# per ticket, what is the profit made by the company? Create variables for each numeric\n",
    "# quantity and use appropriate arithmetic operations.\n",
    "\n",
    "\n",
    "cost_of_flying_ = 5000 \n",
    "num_of_people_flying = 29  \n",
    "price_of_ticket_per_person = 200 \n",
    "\n",
    "\n",
    "profit = num_of_people_flying * price_of_ticket_per_person\n",
    "\n",
    "profit_of_company = profit - cost_of_flying_\n",
    "\n",
    "print('Profit made by company:' ,profit_of_company, \"Dollars:\")"
   ]
  },
  {
   "cell_type": "code",
   "execution_count": 56,
   "id": "442fa443-8f31-455a-8df0-8711ac092e43",
   "metadata": {},
   "outputs": [
    {
     "name": "stdin",
     "output_type": "stream",
     "text": [
      "\n",
      "1- Addition \n",
      "2- Subtraction\n",
      "3- Multiplication\n",
      "4- Factorial\n",
      "5- Division\n",
      "6- Exponentiation (Power)\n",
      "7- Square Root\n",
      "8- Exit\n",
      " 1\n",
      "Enter your Number 10\n",
      "Enter your Number 10\n"
     ]
    },
    {
     "name": "stdout",
     "output_type": "stream",
     "text": [
      "Addition of 10.0 and 10.0 is: 20.0\n"
     ]
    }
   ],
   "source": [
    "#QUESTION 07:\n",
    "\n",
    "option = input('''\n",
    "1- Addition \n",
    "2- Subtraction\n",
    "3- Multiplication\n",
    "4- Factorial\n",
    "5- Division\n",
    "6- Exponentiation (Power)\n",
    "7- Square Root\n",
    "8- Exit\n",
    "''')\n",
    "\n",
    "if option == '1':\n",
    "    number1 = float(input(\"Enter your Number\"))\n",
    "    number2 = float(input(\"Enter your Number\"))\n",
    "    print(\"Addition of\",number1,'and',number2,'is:',number1+number2)\n",
    "elif option =='2':\n",
    "    number1 = float(input(\"Enter your Number\"))\n",
    "    number2 = float(input(\"Enter your Number\"))\n",
    "    print(\"Difference of\",number1,'and',number2,'is:',number1-number2)\n",
    "elif option =='3':\n",
    "    number1 = float(input(\"Enter your Number\"))\n",
    "    number2 = float(input(\"Enter your Number\"))\n",
    "    print(\"Product of\",number1,'and',number2,'is:',number1*number2)\n",
    "elif option =='4':\n",
    "    number = int(input(\"Enter a non negative integer:\"))\n",
    "    if number < 0:\n",
    "        print(\"Error: Factorial is not defined for negative numbers.\")\n",
    "    else:\n",
    "        print(\"Result:\", math.factorial(number))\n",
    "elif option =='5':\n",
    "    number1=float(input(\"Enter the numerator: \"))\n",
    "    numner2=float(input(\"Enter the denominator: \"))\n",
    "    if number2 == 0:\n",
    "        print(\"Error: Division by zero is not allowed.\")\n",
    "    else:\n",
    "        print(\"Result:\", number1 / number2)\n",
    "elif option =='6':\n",
    "    base = float(input(\"Enter the base number: \"))\n",
    "    exponent = float(input(\"Enter the exponent: \"))\n",
    "    print(\"Result:\", math.pow(base, exponent))\n",
    "elif option =='7':\n",
    "   number = float(input(\"Enter a non-negative number: \"))\n",
    "   if number < 0:\n",
    "        print(\"Error: Square root of a negative number is not allowed.\")\n",
    "   else:\n",
    "        print(\"Result:\", math.sqrt(number))\n",
    "elif option=='8':\n",
    "    print(\"Exit\")\n",
    "else:\n",
    "    print(\"Select valid Number\")"
   ]
  },
  {
   "cell_type": "code",
   "execution_count": 72,
   "id": "c2813158-f56e-414b-b894-4a5d47ada7d1",
   "metadata": {},
   "outputs": [],
   "source": [
    "#QUESTION 8:"
   ]
  },
  {
   "cell_type": "code",
   "execution_count": 70,
   "id": "9eb2db11-3c83-4991-b3c5-db417af86045",
   "metadata": {},
   "outputs": [
    {
     "name": "stdin",
     "output_type": "stream",
     "text": [
      "Enter your email address:  ahmed@gmail.com\n",
      "Enter your password:  ahmed@321\n"
     ]
    },
    {
     "name": "stdout",
     "output_type": "stream",
     "text": [
      "Welcome, you have successfully logged in!\n"
     ]
    }
   ],
   "source": [
    "import re\n",
    "\n",
    "\n",
    "stored_email = \"ahmed@gmail.com\"\n",
    "stored_password = \"ahmed@321\"\n",
    "\n",
    "# Step 1: Email format validation using regex\n",
    "def is_valid_email(email):\n",
    "    # Regular expression for validating an email address\n",
    "    pattern = r'^[\\w\\.-]+@[a-zA-Z\\d\\.-]+\\.[a-zA-Z]{2,}$'\n",
    "    return re.match(pattern, email)\n",
    "\n",
    "# Main program\n",
    "def main():\n",
    "    email = input(\"Enter your email address: \")\n",
    "\n",
    "    # Validate email format\n",
    "    if is_valid_email(email):\n",
    "        if email == stored_email:\n",
    "            for attempt in range(2):  # Allow up to 2 attempts for password entry\n",
    "                password = input(\"Enter your password: \")\n",
    "                if password == stored_password:\n",
    "                    print(\"Welcome, you have successfully logged in!\")\n",
    "                    break\n",
    "                else:\n",
    "                    print(\"Incorrect password. Try again.\")\n",
    "            else:\n",
    "                print(\"Login failed. You have used all attempts.\")\n",
    "        else:\n",
    "            print(\"Email not recognized.\")\n",
    "    else:\n",
    "        print(\"Invalid email format. Please enter a valid email address.\")\n",
    "\n",
    "# Run the program\n",
    "if __name__ == \"__main__\":\n",
    "    main()"
   ]
  },
  {
   "cell_type": "code",
   "execution_count": 58,
   "id": "387dfd5e-b206-4883-95fe-8454f0baa875",
   "metadata": {},
   "outputs": [],
   "source": [
    "#QUESTION 09:\n",
    "\n",
    "coordinates = (12.5, 45.8, 33.1)\n",
    "x, y, z = coordinates\n",
    "\n",
    "#TUPLES ARE IMMUTABLE WHILE LIST CAN BE CHANGED TO STORE FIXED DATA TUPLES ARE MOST PREFERRED."
   ]
  },
  {
   "cell_type": "code",
   "execution_count": 60,
   "id": "76c13dca-486d-46df-a4e1-c24b16e26ac8",
   "metadata": {},
   "outputs": [
    {
     "name": "stdout",
     "output_type": "stream",
     "text": [
      "{'Ali': 85, 'Saima': 90, 'Kabeer': 78, 'Ahmed': 92}\n"
     ]
    }
   ],
   "source": [
    "student_scores = {'Ali':85,'Saima':90,'Kabeer':78}\n",
    "student_scores['Ahmed']=92\n",
    "print(student_scores)"
   ]
  },
  {
   "cell_type": "code",
   "execution_count": 62,
   "id": "f781aaad-c750-4ed7-a60a-32032afbfe0e",
   "metadata": {},
   "outputs": [
    {
     "name": "stdout",
     "output_type": "stream",
     "text": [
      "{'Ali': 85, 'Saima': 90, 'Kabeer': 82, 'Ahmed': 92}\n"
     ]
    }
   ],
   "source": [
    "student_scores.update({'Kabeer':82,})\n",
    "print(student_scores)"
   ]
  }
 ],
 "metadata": {
  "kernelspec": {
   "display_name": "Python 3 (ipykernel)",
   "language": "python",
   "name": "python3"
  },
  "language_info": {
   "codemirror_mode": {
    "name": "ipython",
    "version": 3
   },
   "file_extension": ".py",
   "mimetype": "text/x-python",
   "name": "python",
   "nbconvert_exporter": "python",
   "pygments_lexer": "ipython3",
   "version": "3.12.4"
  }
 },
 "nbformat": 4,
 "nbformat_minor": 5
}
