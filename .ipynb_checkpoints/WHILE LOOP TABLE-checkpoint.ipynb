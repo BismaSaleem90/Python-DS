{
 "cells": [
  {
   "cell_type": "code",
   "execution_count": 3,
   "id": "2bb537d5-4092-4856-b67f-42bbfeaa6919",
   "metadata": {},
   "outputs": [
    {
     "name": "stdin",
     "output_type": "stream",
     "text": [
      "Enter your num: 12\n"
     ]
    },
    {
     "name": "stdout",
     "output_type": "stream",
     "text": [
      "12 * 1 = 12\n",
      "12 * 2 = 24\n",
      "12 * 3 = 36\n",
      "12 * 4 = 48\n",
      "12 * 5 = 60\n",
      "12 * 6 = 72\n",
      "12 * 7 = 84\n",
      "12 * 8 = 96\n",
      "12 * 9 = 108\n",
      "12 * 10 = 120\n"
     ]
    }
   ],
   "source": [
    "num= int(input('Enter your num:'))\n",
    "i=1\n",
    "while i<11:\n",
    "    print(num,'*',i,'=',num*i)\n",
    "    i+=1   "
   ]
  },
  {
   "cell_type": "code",
   "execution_count": null,
   "id": "9bb22f28-a935-4bc4-9077-2ffe891cc10b",
   "metadata": {},
   "outputs": [],
   "source": [
    "i=1\n",
    "while i<10:\n",
    "    print(i)\n",
    "if i ==7:\n",
    "    break\n",
    "else:\n",
    "    print('limit crosses')"
   ]
  },
  {
   "cell_type": "code",
   "execution_count": null,
   "id": "2dde345b-e1f0-4653-aeb6-4d7d65051a7d",
   "metadata": {},
   "outputs": [],
   "source": [
    "#guess_game\n",
    "\n",
    "import random\n",
    "jackpot=random.randint(1,100)\n",
    "\n",
    "guess_num=int(input('Guess your Number:'))\n",
    "while guess_num!=jackpot:\n",
    "    if guess_num<jackpot:\n",
    "        print('Guess Higher')\n",
    "    else:\n",
    "        print('Guess Lower')\n",
    "    guess_num=int(input('Guess your Number:'))\n",
    "else:\n",
    "    print('Correct Guess')\n",
    "    "
   ]
  },
  {
   "cell_type": "code",
   "execution_count": null,
   "id": "8bbc6680-bdbb-4af4-a57a-e39e2beb0ec6",
   "metadata": {},
   "outputs": [],
   "source": [
    "#program ek dafa chalane k bad band hogaya"
   ]
  },
  {
   "cell_type": "markdown",
   "id": "23e9d917-0cfa-4e70-bc67-62395a06e248",
   "metadata": {},
   "source": [
    "### FOR LOOP:"
   ]
  },
  {
   "cell_type": "code",
   "execution_count": null,
   "id": "6f1ff33c-e620-4845-82f0-b722f6b90dda",
   "metadata": {},
   "outputs": [],
   "source": [
    "# FOR K BAD ITERATOR"
   ]
  },
  {
   "cell_type": "code",
   "execution_count": null,
   "id": "023945db-6f9b-4743-9e4c-b924a7ee30cb",
   "metadata": {},
   "outputs": [],
   "source": [
    "for num in range(1,10)\n",
    "    print (num):"
   ]
  },
  {
   "cell_type": "code",
   "execution_count": 44,
   "id": "3219a23a-ef00-4440-9573-46468d917136",
   "metadata": {},
   "outputs": [
    {
     "name": "stdin",
     "output_type": "stream",
     "text": [
      "Enter no of rows for pattern 4\n"
     ]
    },
    {
     "name": "stdout",
     "output_type": "stream",
     "text": [
      "*\n",
      "**\n",
      "***\n",
      "****\n"
     ]
    }
   ],
   "source": [
    "# pattern\n",
    "# *\n",
    "# **\n",
    "# ***\n",
    "# ****\n",
    "\n",
    "\n",
    "rows=int(input('Enter no of rows for pattern'))\n",
    "for i in range(1,rows+1):\n",
    "    for j in range(1,i+1):\n",
    "        print('*',end='')\n",
    "    print()\n",
    "\n",
    "\n",
    "#start with no of rows\n",
    "#1 included rows+\n",
    "#jab naya i mily tou new line banjae isliye end use kiya hai\n",
    "#next line jab he aegi jab last wala khali print dein gey or for ki hierarchy me ho.\n"
   ]
  },
  {
   "cell_type": "code",
   "execution_count": 30,
   "id": "2906c522-5766-4a77-b962-920b75c5a896",
   "metadata": {},
   "outputs": [
    {
     "name": "stdout",
     "output_type": "stream",
     "text": [
      "*\n",
      "**\n",
      "***\n"
     ]
    }
   ],
   "source": [
    "print('*')\n",
    "print('*',end='')\n",
    "print('*')\n",
    "print('*',end='')\n",
    "print('*',end='')\n",
    "print('*')\n"
   ]
  },
  {
   "cell_type": "code",
   "execution_count": 60,
   "id": "db6ff99f-76df-447d-93bd-277caa5b3137",
   "metadata": {},
   "outputs": [
    {
     "name": "stdin",
     "output_type": "stream",
     "text": [
      "Enter no of rows for pattern 4\n"
     ]
    },
    {
     "name": "stdout",
     "output_type": "stream",
     "text": [
      "*****\n",
      "****\n",
      "***\n",
      "**\n"
     ]
    }
   ],
   "source": [
    "rows=int(input('Enter no of rows for pattern'))\n",
    "for i in range(rows+1,1,-1):\n",
    "    for j in range(i+1,1,-1):\n",
    "        print('*',end='')\n",
    "    print()"
   ]
  },
  {
   "cell_type": "code",
   "execution_count": null,
   "id": "68204f11-510f-42c8-a9dc-f5b98cddec8b",
   "metadata": {},
   "outputs": [],
   "source": []
  },
  {
   "cell_type": "code",
   "execution_count": null,
   "id": "29e26621-32d6-46b7-a614-bde823ba185a",
   "metadata": {},
   "outputs": [],
   "source": []
  }
 ],
 "metadata": {
  "kernelspec": {
   "display_name": "Python 3 (ipykernel)",
   "language": "python",
   "name": "python3"
  },
  "language_info": {
   "codemirror_mode": {
    "name": "ipython",
    "version": 3
   },
   "file_extension": ".py",
   "mimetype": "text/x-python",
   "name": "python",
   "nbconvert_exporter": "python",
   "pygments_lexer": "ipython3",
   "version": "3.12.4"
  }
 },
 "nbformat": 4,
 "nbformat_minor": 5
}
