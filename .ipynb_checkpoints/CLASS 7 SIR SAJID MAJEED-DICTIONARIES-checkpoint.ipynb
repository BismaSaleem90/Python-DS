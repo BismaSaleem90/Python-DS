{
 "cells": [
  {
   "cell_type": "code",
   "execution_count": null,
   "id": "23419999-806d-4142-8d0c-68a50ec0f4db",
   "metadata": {},
   "outputs": [],
   "source": [
    "#DICTINARIES are used to store data values in key: value pairs\n",
    "#keys are unique and not repeated e.d cnic no\n",
    "# collection which is ordered\n",
    "#mutable\n",
    "#"
   ]
  },
  {
   "cell_type": "code",
   "execution_count": 9,
   "id": "6b4bcbab-4415-4302-9c59-ce684ba39db9",
   "metadata": {},
   "outputs": [
    {
     "name": "stdout",
     "output_type": "stream",
     "text": [
      "<class 'dict'>\n"
     ]
    }
   ],
   "source": [
    "emp_dictionary={}\n",
    "print(type(emp_dictionary))"
   ]
  },
  {
   "cell_type": "code",
   "execution_count": 15,
   "id": "1ee0eb0e-8c85-4317-a695-d56bde1842ff",
   "metadata": {},
   "outputs": [
    {
     "name": "stdout",
     "output_type": "stream",
     "text": [
      "<class 'set'>\n"
     ]
    }
   ],
   "source": [
    "emp_dictionary=set({})\n",
    "print(type(emp_dictionary))"
   ]
  },
  {
   "cell_type": "code",
   "execution_count": 7,
   "id": "c690bf13-40fe-4e56-a817-fb8a950c8539",
   "metadata": {},
   "outputs": [
    {
     "name": "stdout",
     "output_type": "stream",
     "text": [
      "<class 'dict'>\n"
     ]
    }
   ],
   "source": [
    "person= {'NAME':'Sajid', 'GENDER':'Male', 'Skills':['Data Science','ML','AI'],'Age':31}\n",
    "print(type(person))"
   ]
  },
  {
   "cell_type": "code",
   "execution_count": null,
   "id": "6b691fcf-1bc2-4c19-8313-98f93777dbcf",
   "metadata": {},
   "outputs": [],
   "source": [
    "#key:value of key"
   ]
  },
  {
   "cell_type": "code",
   "execution_count": 11,
   "id": "a767d354-e5fe-4ea0-847a-ef9409c11ff1",
   "metadata": {},
   "outputs": [
    {
     "data": {
      "text/plain": [
       "dict_keys(['NAME', 'GENDER', 'Skills', 'Age'])"
      ]
     },
     "execution_count": 11,
     "metadata": {},
     "output_type": "execute_result"
    }
   ],
   "source": [
    "person.keys()"
   ]
  },
  {
   "cell_type": "code",
   "execution_count": null,
   "id": "8e6d21f8-cafd-4718-87dc-9e36664eeb76",
   "metadata": {},
   "outputs": [],
   "source": [
    "#all keys associated with dictionary will popup\n",
    "#values function with popup values associated with keys\n",
    "#left pe key right pe values"
   ]
  },
  {
   "cell_type": "code",
   "execution_count": 13,
   "id": "ae41e993-9c77-41a5-904d-3adc65ea3902",
   "metadata": {},
   "outputs": [
    {
     "data": {
      "text/plain": [
       "dict_values(['Sajid', 'Male', ['Data Science', 'ML', 'AI'], 31])"
      ]
     },
     "execution_count": 13,
     "metadata": {},
     "output_type": "execute_result"
    }
   ],
   "source": [
    "person.values()"
   ]
  },
  {
   "cell_type": "code",
   "execution_count": 17,
   "id": "eecb4cf8-14d1-4731-9d48-9db24f699059",
   "metadata": {},
   "outputs": [
    {
     "data": {
      "text/plain": [
       "dict_items([('NAME', 'Sajid'), ('GENDER', 'Male'), ('Skills', ['Data Science', 'ML', 'AI']), ('Age', 31)])"
      ]
     },
     "execution_count": 17,
     "metadata": {},
     "output_type": "execute_result"
    }
   ],
   "source": [
    "#values and keys both ek sath chahyen\n",
    "person.items()"
   ]
  },
  {
   "cell_type": "code",
   "execution_count": 19,
   "id": "466b163a-1290-4f75-891d-a9a2b7d65e3e",
   "metadata": {},
   "outputs": [
    {
     "data": {
      "text/plain": [
       "['Data Science', 'ML', 'AI']"
      ]
     },
     "execution_count": 19,
     "metadata": {},
     "output_type": "execute_result"
    }
   ],
   "source": [
    "# us specific key ki values laake dedin\n",
    "person.get('Skills')"
   ]
  },
  {
   "cell_type": "code",
   "execution_count": 25,
   "id": "3af96ff3-0069-432b-8ad1-fb9f30980cac",
   "metadata": {},
   "outputs": [
    {
     "data": {
      "text/plain": [
       "{'NAME': 'Sajid',\n",
       " 'GENDER': 'Male',\n",
       " 'Skills': ['Data Science', 'ML', 'AI'],\n",
       " 'Age': 31}"
      ]
     },
     "execution_count": 25,
     "metadata": {},
     "output_type": "execute_result"
    }
   ],
   "source": [
    "person"
   ]
  },
  {
   "cell_type": "code",
   "execution_count": 32,
   "id": "4547931c-182d-45b0-b3a0-cbf8703d06a9",
   "metadata": {},
   "outputs": [],
   "source": [
    "person1= {'NAME':'Sajid', 'GENDER':'Male', 'Marks':\n",
    "         {'Python':70,'JS':75,'JAVA':89},'Age':31}"
   ]
  },
  {
   "cell_type": "code",
   "execution_count": 36,
   "id": "1e4077e8-4bf5-4c60-a38f-dc657f9754a5",
   "metadata": {},
   "outputs": [
    {
     "data": {
      "text/plain": [
       "89"
      ]
     },
     "execution_count": 36,
     "metadata": {},
     "output_type": "execute_result"
    }
   ],
   "source": [
    "person1.get('Marks')['JAVA']"
   ]
  },
  {
   "cell_type": "code",
   "execution_count": 40,
   "id": "5b2a3702-f102-4b63-a8e9-37e7478fb777",
   "metadata": {},
   "outputs": [
    {
     "name": "stdout",
     "output_type": "stream",
     "text": [
      "4\n",
      "4\n"
     ]
    }
   ],
   "source": [
    "print(len(person))\n",
    "print(len(person1))"
   ]
  },
  {
   "cell_type": "code",
   "execution_count": 42,
   "id": "06a7c044-1b21-4cf1-897c-df18f155dc68",
   "metadata": {},
   "outputs": [
    {
     "ename": "TypeError",
     "evalue": "unsupported operand type(s) for +: 'dict' and 'dict'",
     "output_type": "error",
     "traceback": [
      "\u001b[1;31m---------------------------------------------------------------------------\u001b[0m",
      "\u001b[1;31mTypeError\u001b[0m                                 Traceback (most recent call last)",
      "Cell \u001b[1;32mIn[42], line 1\u001b[0m\n\u001b[1;32m----> 1\u001b[0m person1\u001b[38;5;241m+\u001b[39mperson\n",
      "\u001b[1;31mTypeError\u001b[0m: unsupported operand type(s) for +: 'dict' and 'dict'"
     ]
    }
   ],
   "source": [
    "person1+person"
   ]
  },
  {
   "cell_type": "code",
   "execution_count": null,
   "id": "ded95c50-7903-4714-abcb-8a3fe8cdaaf5",
   "metadata": {},
   "outputs": [],
   "source": [
    "#unsupported ek dict ko dusri me add nahi karsakte\n",
    "#uske liye update dictionary\n",
    "#jisko update karna hota hai woh left pe\n",
    "#jis se update karna hota h woh right pe"
   ]
  },
  {
   "cell_type": "code",
   "execution_count": 44,
   "id": "fea97561-edd4-442f-8fe7-0430ad2c3225",
   "metadata": {},
   "outputs": [
    {
     "name": "stdout",
     "output_type": "stream",
     "text": [
      "{'NAME': 'Sajid', 'GENDER': 'Male', 'Skills': ['Data Science', 'ML', 'AI'], 'Age': 31, 'Marks': {'Python': 70, 'JS': 75, 'JAVA': 89}}\n"
     ]
    }
   ],
   "source": [
    "person.update(person1)\n",
    "print(person)"
   ]
  },
  {
   "cell_type": "code",
   "execution_count": null,
   "id": "f04e1de5-59a9-4c70-9fac-ae3eb255e1a6",
   "metadata": {},
   "outputs": [],
   "source": [
    "#unique values are alligned and duplicates are not repeated"
   ]
  },
  {
   "cell_type": "code",
   "execution_count": 46,
   "id": "5cfac6f6-1a7f-4c55-b5c7-af84646d1f5d",
   "metadata": {},
   "outputs": [
    {
     "ename": "AttributeError",
     "evalue": "'dict' object has no attribute 'append'",
     "output_type": "error",
     "traceback": [
      "\u001b[1;31m---------------------------------------------------------------------------\u001b[0m",
      "\u001b[1;31mAttributeError\u001b[0m                            Traceback (most recent call last)",
      "Cell \u001b[1;32mIn[46], line 1\u001b[0m\n\u001b[1;32m----> 1\u001b[0m person\u001b[38;5;241m.\u001b[39mappend(person1)\n",
      "\u001b[1;31mAttributeError\u001b[0m: 'dict' object has no attribute 'append'"
     ]
    }
   ],
   "source": [
    "person.append(person1)"
   ]
  },
  {
   "cell_type": "code",
   "execution_count": 48,
   "id": "f560d136-f020-4a7e-a3ee-0782437c8d4a",
   "metadata": {},
   "outputs": [
    {
     "data": {
      "text/plain": [
       "{'Python': 70, 'JS': 75, 'JAVA': 89}"
      ]
     },
     "execution_count": 48,
     "metadata": {},
     "output_type": "execute_result"
    }
   ],
   "source": [
    "person.get('Marks')"
   ]
  },
  {
   "cell_type": "code",
   "execution_count": null,
   "id": "da209e8a-1285-44d3-ae1c-60f68cf2c141",
   "metadata": {},
   "outputs": [],
   "source": [
    "#update me permanent changes ate hain data ko update kardiya"
   ]
  },
  {
   "cell_type": "code",
   "execution_count": 53,
   "id": "ff34e61d-4959-48fd-a75f-9151cb83cf02",
   "metadata": {},
   "outputs": [
    {
     "name": "stdout",
     "output_type": "stream",
     "text": [
      "{'NAME': 'Sajid', 'GENDER': 'Male', 'Skills': ['Data Science', 'ML', 'AI'], 'Age': 31, 'Marks': {'Python': 70, 'JS': 75, 'JAVA': 89}, 'Organization': 'Institute of space technology'}\n"
     ]
    }
   ],
   "source": [
    "person['Organization']='Institute of space technology'\n",
    "print(person)"
   ]
  },
  {
   "cell_type": "code",
   "execution_count": 55,
   "id": "a862d552-7eca-4aac-8fe3-148a37f0110a",
   "metadata": {},
   "outputs": [],
   "source": [
    "# jab ek chez update karni ho tou uper wala method otherwise update function for multiple things\n",
    "person.update({'Roll No':32,'Address':'Pakistan'})"
   ]
  },
  {
   "cell_type": "code",
   "execution_count": 57,
   "id": "628d462d-bef7-4d37-95cb-a0825ad875f0",
   "metadata": {},
   "outputs": [
    {
     "name": "stdout",
     "output_type": "stream",
     "text": [
      "{'NAME': 'Sajid', 'GENDER': 'Male', 'Skills': ['Data Science', 'ML', 'AI'], 'Age': 31, 'Marks': {'Python': 70, 'JS': 75, 'JAVA': 89}, 'Organization': 'Institute of space technology', 'Roll No': 32, 'Address': 'Pakistan'}\n"
     ]
    }
   ],
   "source": [
    "print(person)"
   ]
  },
  {
   "cell_type": "code",
   "execution_count": 71,
   "id": "e44eaf6e-8e34-4316-bf6f-6f0ae3dafd88",
   "metadata": {},
   "outputs": [
    {
     "ename": "ValueError",
     "evalue": "dictionary update sequence element #0 has length 6; 2 is required",
     "output_type": "error",
     "traceback": [
      "\u001b[1;31m---------------------------------------------------------------------------\u001b[0m",
      "\u001b[1;31mValueError\u001b[0m                                Traceback (most recent call last)",
      "Cell \u001b[1;32mIn[71], line 2\u001b[0m\n\u001b[0;32m      1\u001b[0m list1\u001b[38;5;241m=\u001b[39m[\u001b[38;5;124m'\u001b[39m\u001b[38;5;124mAreeba\u001b[39m\u001b[38;5;124m'\u001b[39m,\u001b[38;5;124m'\u001b[39m\u001b[38;5;124mBisma\u001b[39m\u001b[38;5;124m'\u001b[39m]\n\u001b[1;32m----> 2\u001b[0m person\u001b[38;5;241m.\u001b[39mupdate([\u001b[38;5;124m'\u001b[39m\u001b[38;5;124mAreeba\u001b[39m\u001b[38;5;124m'\u001b[39m,\u001b[38;5;124m'\u001b[39m\u001b[38;5;124mBisma\u001b[39m\u001b[38;5;124m'\u001b[39m])\n",
      "\u001b[1;31mValueError\u001b[0m: dictionary update sequence element #0 has length 6; 2 is required"
     ]
    }
   ],
   "source": [
    "list1=['Areeba','Bisma']\n",
    "person.update(['Areeba','Bisma'])"
   ]
  },
  {
   "cell_type": "code",
   "execution_count": 65,
   "id": "90944148-33e5-4314-9fba-6aacefbd2e07",
   "metadata": {},
   "outputs": [
    {
     "data": {
      "text/plain": [
       "{'NAME': 'Sajid',\n",
       " 'GENDER': 'Male',\n",
       " 'Skills': ['Data Science', 'ML', 'AI'],\n",
       " 'Age': 31,\n",
       " 'Marks': {'Python': 70, 'JS': 75, 'JAVA': 89},\n",
       " 'Organization': 'Institute of space technology',\n",
       " 'Roll No': 32,\n",
       " 'Address': 'Pakistan',\n",
       " 'Areeba': 'Bisma'}"
      ]
     },
     "execution_count": 65,
     "metadata": {},
     "output_type": "execute_result"
    }
   ],
   "source": [
    "person"
   ]
  },
  {
   "cell_type": "code",
   "execution_count": 73,
   "id": "a8f3e5db-97f3-44c7-9bd1-8b17373d03cd",
   "metadata": {},
   "outputs": [
    {
     "data": {
      "text/plain": [
       "['Address',\n",
       " 'Age',\n",
       " 'Areeba',\n",
       " 'GENDER',\n",
       " 'Marks',\n",
       " 'NAME',\n",
       " 'Organization',\n",
       " 'Roll No',\n",
       " 'Skills']"
      ]
     },
     "execution_count": 73,
     "metadata": {},
     "output_type": "execute_result"
    }
   ],
   "source": [
    "sorted(person)"
   ]
  },
  {
   "cell_type": "code",
   "execution_count": 75,
   "id": "81bfe8cd-be96-445b-a7e5-3e3ac79d1a80",
   "metadata": {},
   "outputs": [
    {
     "data": {
      "text/plain": [
       "'Bisma'"
      ]
     },
     "execution_count": 75,
     "metadata": {},
     "output_type": "execute_result"
    }
   ],
   "source": [
    "person.pop('Areeba')"
   ]
  },
  {
   "cell_type": "code",
   "execution_count": 77,
   "id": "cdbaeb3a-b5a4-414d-b14e-c31ef8ecec65",
   "metadata": {},
   "outputs": [
    {
     "data": {
      "text/plain": [
       "{'NAME': 'Sajid',\n",
       " 'GENDER': 'Male',\n",
       " 'Skills': ['Data Science', 'ML', 'AI'],\n",
       " 'Age': 31,\n",
       " 'Marks': {'Python': 70, 'JS': 75, 'JAVA': 89},\n",
       " 'Organization': 'Institute of space technology',\n",
       " 'Roll No': 32,\n",
       " 'Address': 'Pakistan'}"
      ]
     },
     "execution_count": 77,
     "metadata": {},
     "output_type": "execute_result"
    }
   ],
   "source": [
    "person"
   ]
  },
  {
   "cell_type": "code",
   "execution_count": null,
   "id": "9ff745bf-a953-4f3f-bd23-e74774df86be",
   "metadata": {},
   "outputs": [],
   "source": [
    "#pop karta tou delete he hai but it will give value of thst key\n",
    "# when you run and print that dictionary name it will remove that key from backend\n",
    "#key lega as an input usko phir delete karega"
   ]
  },
  {
   "cell_type": "code",
   "execution_count": 79,
   "id": "baf04f75-5834-457c-bad0-19ef3410ff7e",
   "metadata": {},
   "outputs": [
    {
     "data": {
      "text/plain": [
       "('Address', 'Pakistan')"
      ]
     },
     "execution_count": 79,
     "metadata": {},
     "output_type": "execute_result"
    }
   ],
   "source": [
    "#agar specifically last item ko delete karna hai tou popitem use karengy\n",
    "#ye koe argument nahi leta bracket me\n",
    "person.popitem()"
   ]
  },
  {
   "cell_type": "code",
   "execution_count": 81,
   "id": "738c8679-344c-4af9-835c-8ff3d6a28683",
   "metadata": {},
   "outputs": [
    {
     "data": {
      "text/plain": [
       "{'NAME': 'Sajid',\n",
       " 'GENDER': 'Male',\n",
       " 'Skills': ['Data Science', 'ML', 'AI'],\n",
       " 'Age': 31,\n",
       " 'Marks': {'Python': 70, 'JS': 75, 'JAVA': 89},\n",
       " 'Organization': 'Institute of space technology',\n",
       " 'Roll No': 32}"
      ]
     },
     "execution_count": 81,
     "metadata": {},
     "output_type": "execute_result"
    }
   ],
   "source": [
    "person"
   ]
  },
  {
   "cell_type": "code",
   "execution_count": 83,
   "id": "1befe7df-9114-43b7-88ea-670f2043886c",
   "metadata": {},
   "outputs": [
    {
     "name": "stdout",
     "output_type": "stream",
     "text": [
      "dict_items([('NAME', 'Sajid'), ('GENDER', 'Male'), ('Skills', ['Data Science', 'ML', 'AI']), ('Age', 31), ('Marks', {'Python': 70, 'JS': 75, 'JAVA': 89}), ('Organization', 'Institute of space technology'), ('Roll No', 32)])\n"
     ]
    }
   ],
   "source": [
    "# For complete Dictionary\n",
    "print(person.items())"
   ]
  },
  {
   "cell_type": "code",
   "execution_count": 85,
   "id": "bbbda47b-da07-4686-98d8-b8110a4648d3",
   "metadata": {},
   "outputs": [
    {
     "data": {
      "text/plain": [
       "'Age'"
      ]
     },
     "execution_count": 85,
     "metadata": {},
     "output_type": "execute_result"
    }
   ],
   "source": [
    "min(person)"
   ]
  },
  {
   "cell_type": "code",
   "execution_count": 87,
   "id": "10a17355-a0e3-41bb-a960-ee851a117f8b",
   "metadata": {},
   "outputs": [],
   "source": [
    "person.clear()"
   ]
  },
  {
   "cell_type": "code",
   "execution_count": 89,
   "id": "558c4c96-2908-4861-be40-d2981538bbf3",
   "metadata": {},
   "outputs": [
    {
     "data": {
      "text/plain": [
       "{}"
      ]
     },
     "execution_count": 89,
     "metadata": {},
     "output_type": "execute_result"
    }
   ],
   "source": [
    "person"
   ]
  },
  {
   "cell_type": "code",
   "execution_count": 121,
   "id": "ccc22c0f-3293-413d-8ffd-779a2773d368",
   "metadata": {},
   "outputs": [],
   "source": [
    "person={'NAME': 'Sajid', 'GENDER': 'Male', 'Skills': ['Data Science', 'ML', 'AI'], 'Age': 31, 'Marks': {'Python': 70, 'JS': 75, 'JAVA': 89}, 'Organization': 'Institute of space technology', 'Roll No': 32, 'Address': 'Pakistan'}"
   ]
  },
  {
   "cell_type": "code",
   "execution_count": 123,
   "id": "3a9a1869-351e-4fbd-8fb5-b33d22f4c5f6",
   "metadata": {},
   "outputs": [
    {
     "name": "stdout",
     "output_type": "stream",
     "text": [
      "{'NAME': 'Sajid', 'GENDER': 'Male', 'Skills': ['Data Science', 'ML', 'AI'], 'Age': 31, 'Marks': {'Python': 70, 'JS': 75, 'JAVA': 89}, 'Organization': 'Institute of space technology', 'Roll No': 32, 'Address': 'Pakistan'}\n"
     ]
    }
   ],
   "source": [
    "print(person)"
   ]
  },
  {
   "cell_type": "code",
   "execution_count": 115,
   "id": "2b04c468-5aec-499b-80ad-9c995a50b34b",
   "metadata": {},
   "outputs": [],
   "source": [
    "del person"
   ]
  },
  {
   "cell_type": "code",
   "execution_count": 117,
   "id": "cec02be4-91bd-4857-9fbe-2a03fc6a4002",
   "metadata": {},
   "outputs": [
    {
     "ename": "NameError",
     "evalue": "name 'person' is not defined",
     "output_type": "error",
     "traceback": [
      "\u001b[1;31m---------------------------------------------------------------------------\u001b[0m",
      "\u001b[1;31mNameError\u001b[0m                                 Traceback (most recent call last)",
      "Cell \u001b[1;32mIn[117], line 1\u001b[0m\n\u001b[1;32m----> 1\u001b[0m person\n",
      "\u001b[1;31mNameError\u001b[0m: name 'person' is not defined"
     ]
    }
   ],
   "source": [
    "person"
   ]
  },
  {
   "cell_type": "code",
   "execution_count": 119,
   "id": "2353fbde-47f6-40da-acef-802756618e36",
   "metadata": {},
   "outputs": [],
   "source": [
    "#memory se wipe out hogae"
   ]
  },
  {
   "cell_type": "code",
   "execution_count": 153,
   "id": "17d74477-37f7-48f8-b67a-bbaddc8b5a36",
   "metadata": {},
   "outputs": [
    {
     "name": "stdout",
     "output_type": "stream",
     "text": [
      "Farooq\n"
     ]
    }
   ],
   "source": [
    "python={'Brand':'Ford','Teacher':'Farooq','Year':'2024'}\n",
    "x= python.setdefault('Teacher','Sajid')\n",
    "print(x)\n",
    "#by default teacher farooq hain but unki absence me sajid will teach"
   ]
  },
  {
   "cell_type": "code",
   "execution_count": null,
   "id": "24ef996b-ecb8-4ee5-bda2-c8051a744c0f",
   "metadata": {},
   "outputs": [],
   "source": [
    "# keyname\tRequired. The keyname of the item you want to return the value from\n",
    "# value\tOptional.\n",
    "# If the key exist, this parameter has no effect.\n",
    "# If the key does not exist, this value becomes the key's value\n",
    "# # Default value None"
   ]
  },
  {
   "cell_type": "code",
   "execution_count": 129,
   "id": "c24e360a-6546-4312-9f0c-e3bdd87aaad3",
   "metadata": {},
   "outputs": [
    {
     "name": "stdout",
     "output_type": "stream",
     "text": [
      "['__doc__', '__loader__', '__name__', '__package__', '__spec__', 'acos', 'acosh', 'asin', 'asinh', 'atan', 'atan2', 'atanh', 'cbrt', 'ceil', 'comb', 'copysign', 'cos', 'cosh', 'degrees', 'dist', 'e', 'erf', 'erfc', 'exp', 'exp2', 'expm1', 'fabs', 'factorial', 'floor', 'fmod', 'frexp', 'fsum', 'gamma', 'gcd', 'hypot', 'inf', 'isclose', 'isfinite', 'isinf', 'isnan', 'isqrt', 'lcm', 'ldexp', 'lgamma', 'log', 'log10', 'log1p', 'log2', 'modf', 'nan', 'nextafter', 'perm', 'pi', 'pow', 'prod', 'radians', 'remainder', 'sin', 'sinh', 'sqrt', 'sumprod', 'tan', 'tanh', 'tau', 'trunc', 'ulp']\n"
     ]
    }
   ],
   "source": [
    "import math\n",
    "print(dir(math))"
   ]
  },
  {
   "cell_type": "code",
   "execution_count": 131,
   "id": "54c45554-7fb5-4bae-b973-f15ff99d92a0",
   "metadata": {},
   "outputs": [
    {
     "data": {
      "text/plain": [
       "3"
      ]
     },
     "execution_count": 131,
     "metadata": {},
     "output_type": "execute_result"
    }
   ],
   "source": [
    "math.floor(3.5)"
   ]
  },
  {
   "cell_type": "code",
   "execution_count": 133,
   "id": "c8911a4f-cee6-4c7a-aadd-d8a3037111a9",
   "metadata": {},
   "outputs": [
    {
     "data": {
      "text/plain": [
       "4"
      ]
     },
     "execution_count": 133,
     "metadata": {},
     "output_type": "execute_result"
    }
   ],
   "source": [
    "math.ceil(3.5)"
   ]
  },
  {
   "cell_type": "code",
   "execution_count": null,
   "id": "3bc59fe5-b431-4a7a-95ea-081b8ace3108",
   "metadata": {},
   "outputs": [],
   "source": []
  },
  {
   "cell_type": "code",
   "execution_count": null,
   "id": "73104992-a03d-4946-a6b3-21db6a3a4c4f",
   "metadata": {},
   "outputs": [],
   "source": []
  },
  {
   "cell_type": "code",
   "execution_count": 137,
   "id": "dee00ad6-e587-4aa0-a6fc-5153362ca77c",
   "metadata": {},
   "outputs": [],
   "source": [
    "import random"
   ]
  },
  {
   "cell_type": "code",
   "execution_count": 145,
   "id": "63a88ed5-fdd0-4007-83a7-40b61c505422",
   "metadata": {},
   "outputs": [
    {
     "data": {
      "text/plain": [
       "4"
      ]
     },
     "execution_count": 145,
     "metadata": {},
     "output_type": "execute_result"
    }
   ],
   "source": [
    "random.randint(0,15)"
   ]
  },
  {
   "cell_type": "code",
   "execution_count": 155,
   "id": "7583d799-7ee0-460a-b4ed-95e9b60c00c5",
   "metadata": {},
   "outputs": [
    {
     "data": {
      "text/plain": [
       "['AddPackagePath',\n",
       " 'Module',\n",
       " 'ModuleFinder',\n",
       " 'ReplacePackage',\n",
       " '_C_BUILTIN',\n",
       " '_C_EXTENSION',\n",
       " '_PKG_DIRECTORY',\n",
       " '_PY_COMPILED',\n",
       " '_PY_FROZEN',\n",
       " '_PY_SOURCE',\n",
       " '_SEARCH_ERROR',\n",
       " '__builtins__',\n",
       " '__cached__',\n",
       " '__doc__',\n",
       " '__file__',\n",
       " '__loader__',\n",
       " '__name__',\n",
       " '__package__',\n",
       " '__spec__',\n",
       " '_find_module',\n",
       " 'dis',\n",
       " 'importlib',\n",
       " 'io',\n",
       " 'marshal',\n",
       " 'os',\n",
       " 'packagePathMap',\n",
       " 'replacePackageMap',\n",
       " 'sys',\n",
       " 'test']"
      ]
     },
     "execution_count": 155,
     "metadata": {},
     "output_type": "execute_result"
    }
   ],
   "source": [
    "import modulefinder\n",
    "dir(modulefinder)"
   ]
  },
  {
   "cell_type": "code",
   "execution_count": null,
   "id": "f820d239-9d0e-4adb-8518-5148ed77281e",
   "metadata": {},
   "outputs": [],
   "source": []
  }
 ],
 "metadata": {
  "kernelspec": {
   "display_name": "Python 3 (ipykernel)",
   "language": "python",
   "name": "python3"
  },
  "language_info": {
   "codemirror_mode": {
    "name": "ipython",
    "version": 3
   },
   "file_extension": ".py",
   "mimetype": "text/x-python",
   "name": "python",
   "nbconvert_exporter": "python",
   "pygments_lexer": "ipython3",
   "version": "3.12.4"
  }
 },
 "nbformat": 4,
 "nbformat_minor": 5
}
