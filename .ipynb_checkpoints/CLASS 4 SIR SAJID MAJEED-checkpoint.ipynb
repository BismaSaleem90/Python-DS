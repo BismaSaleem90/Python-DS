{
 "cells": [
  {
   "cell_type": "code",
   "execution_count": 9,
   "id": "762066ee-34c5-4349-970f-6d64c98b2ff1",
   "metadata": {},
   "outputs": [
    {
     "name": "stdin",
     "output_type": "stream",
     "text": [
      "Enter num_1: BISMA SALEEM\n",
      "Enter num_2: AREEBA\n",
      "Enter num_3: SABA\n"
     ]
    },
    {
     "name": "stdout",
     "output_type": "stream",
     "text": [
      "True\n",
      "False\n"
     ]
    }
   ],
   "source": [
    "num_1= str(input('Enter num_1:'))\n",
    "num_2= str(input('Enter num_2:'))\n",
    "num_3= str(input('Enter num_3:'))\n",
    "print('BISMA' in num_1)\n",
    "print('AREEBA' not in num_2)"
   ]
  },
  {
   "cell_type": "markdown",
   "id": "d5d72d36-47a0-4819-85fb-4906045f3cac",
   "metadata": {},
   "source": [
    "###### OTHER DATA TYPES IN PYTHON:\n",
    "###### LIST: \n",
    "- hetrogenous (different) data types store karti hai\n",
    "- Store collection of data\n",
    "- [] square brackets\n",
    "- comma separated\n",
    "###### TUPLE\n",
    "###### SET:\n",
    "###### DICTIONARY:"
   ]
  },
  {
   "cell_type": "code",
   "execution_count": 11,
   "id": "8addfcb5-5ee4-4f19-8ea8-6b1e8c58f7de",
   "metadata": {},
   "outputs": [
    {
     "name": "stdout",
     "output_type": "stream",
     "text": [
      "<class 'list'>\n",
      "Declaring an empty list; []\n"
     ]
    }
   ],
   "source": [
    "fruit= []\n",
    "print(type(fruit))\n",
    "print(\"Declaring an empty list;\",fruit)"
   ]
  },
  {
   "cell_type": "code",
   "execution_count": 13,
   "id": "087e0a08-40c9-4bd2-ac2e-2e3d5e57acda",
   "metadata": {},
   "outputs": [],
   "source": [
    "#adding elements in a list\n",
    "#append and insert"
   ]
  },
  {
   "cell_type": "code",
   "execution_count": 17,
   "id": "aaa3bf58-0866-4fa4-8b07-bb57388a3d39",
   "metadata": {},
   "outputs": [
    {
     "name": "stdout",
     "output_type": "stream",
     "text": [
      "<class 'list'>\n"
     ]
    }
   ],
   "source": [
    "print(type(fruit))"
   ]
  },
  {
   "cell_type": "code",
   "execution_count": 19,
   "id": "bb53b95c-0101-4543-8e3e-d77e669cea78",
   "metadata": {},
   "outputs": [],
   "source": [
    "fruit= ['Mango', 'avocado']"
   ]
  },
  {
   "cell_type": "code",
   "execution_count": 21,
   "id": "5116fd0c-571a-4f4a-b4b8-923d010c4742",
   "metadata": {},
   "outputs": [
    {
     "name": "stdout",
     "output_type": "stream",
     "text": [
      "['Mango', 'avocado']\n"
     ]
    }
   ],
   "source": [
    "print(fruit)"
   ]
  },
  {
   "cell_type": "code",
   "execution_count": 25,
   "id": "ffb4ab79-a4f5-41b8-b500-cdf3f0d03de2",
   "metadata": {},
   "outputs": [
    {
     "name": "stdout",
     "output_type": "stream",
     "text": [
      "['Mango', 'avocado', 'Apple', 'Apple']\n"
     ]
    }
   ],
   "source": [
    "fruit.append('Apple') #es cell ko jitni bar run karen gey utni bar apple append hota rahega list me\n",
    "print(fruit)"
   ]
  },
  {
   "cell_type": "code",
   "execution_count": 27,
   "id": "b8cd268c-27b9-4a0d-be85-df0b52b2a4df",
   "metadata": {},
   "outputs": [
    {
     "name": "stdout",
     "output_type": "stream",
     "text": [
      "['Mango', 'avocado', 'Apple', 'Apple', 'Dragon Fruit']\n"
     ]
    }
   ],
   "source": [
    "fruit.append('Dragon Fruit') #append hamesha end me add karta hai new element ko\n",
    "print(fruit)"
   ]
  },
  {
   "cell_type": "markdown",
   "id": "3ab935ad-cffa-4f39-8cbc-a92e95430aa9",
   "metadata": {},
   "source": [
    "##### INDEXING:\n",
    "- Always start from zero\n",
    "- POSITIVE ----> \n",
    "- NEGATIVE <----"
   ]
  },
  {
   "cell_type": "code",
   "execution_count": 31,
   "id": "617695ef-06c2-4355-be91-0ed156525635",
   "metadata": {},
   "outputs": [
    {
     "name": "stdout",
     "output_type": "stream",
     "text": [
      "Mango\n",
      "Dragon Fruit\n"
     ]
    }
   ],
   "source": [
    "print(fruit[0])\n",
    "print(fruit[4])"
   ]
  },
  {
   "cell_type": "code",
   "execution_count": 37,
   "id": "96f2a113-0cc5-4562-a613-9548b58beaec",
   "metadata": {},
   "outputs": [
    {
     "ename": "SyntaxError",
     "evalue": "invalid syntax. Perhaps you forgot a comma? (2393468339.py, line 1)",
     "output_type": "error",
     "traceback": [
      "\u001b[1;36m  Cell \u001b[1;32mIn[37], line 1\u001b[1;36m\u001b[0m\n\u001b[1;33m    print(fruit[])\u001b[0m\n\u001b[1;37m          ^\u001b[0m\n\u001b[1;31mSyntaxError\u001b[0m\u001b[1;31m:\u001b[0m invalid syntax. Perhaps you forgot a comma?\n"
     ]
    }
   ],
   "source": [
    "print(fruit[]) #agar ap indexing nahi dein gey tou woh use invalid synatx me leke jaega\n",
    "#we give [] for addressing some element"
   ]
  },
  {
   "cell_type": "code",
   "execution_count": 39,
   "id": "e33cbe2a-ce98-49eb-9c64-cd451b4d82c3",
   "metadata": {},
   "outputs": [
    {
     "name": "stdout",
     "output_type": "stream",
     "text": [
      "['Mango', 'avocado', 'Apple', 'Apple', 'Dragon Fruit']\n"
     ]
    }
   ],
   "source": [
    "#inclusive: add hoga\n",
    "#exclusive: add nahi hoga\n",
    "# we write[:] to get full list printed\n",
    "print(fruit[:])"
   ]
  },
  {
   "cell_type": "code",
   "execution_count": 41,
   "id": "b06d03a4-e1c7-4be1-86a8-271a55ed3ef8",
   "metadata": {},
   "outputs": [
    {
     "name": "stdout",
     "output_type": "stream",
     "text": [
      "['Mango', 'avocado', 'Apple', 'Apple']\n"
     ]
    }
   ],
   "source": [
    "print(fruit[0:4]) # 0 se start hoga or 3 element takk show karega 4th exclude hojaega"
   ]
  },
  {
   "cell_type": "code",
   "execution_count": 45,
   "id": "9ab0118b-50f8-44e2-9ae3-58657ac2e0fc",
   "metadata": {},
   "outputs": [
    {
     "name": "stdout",
     "output_type": "stream",
     "text": [
      "['avocado', 'Apple']\n"
     ]
    }
   ],
   "source": [
    "print(fruit[1:3])"
   ]
  },
  {
   "cell_type": "code",
   "execution_count": 49,
   "id": "bcfd3e78-2029-4c05-ba00-f2588e37208c",
   "metadata": {},
   "outputs": [
    {
     "name": "stdout",
     "output_type": "stream",
     "text": [
      "['Mango']\n"
     ]
    }
   ],
   "source": [
    "#step jump karne hai agar 2 hai tou 2 pe jump hogi or 2 ka no print hoga \n",
    "print(fruit[0:2:3])"
   ]
  },
  {
   "cell_type": "code",
   "execution_count": null,
   "id": "1b7e09c3-eae8-4759-843b-33350f55b1d1",
   "metadata": {},
   "outputs": [],
   "source": [
    "#negative indexing:\n"
   ]
  },
  {
   "cell_type": "code",
   "execution_count": null,
   "id": "3dd63355-a3c0-46de-ad44-c8091622ac8b",
   "metadata": {},
   "outputs": [],
   "source": []
  },
  {
   "cell_type": "code",
   "execution_count": null,
   "id": "bc398281-91d0-411b-bc83-ebee78ce61e5",
   "metadata": {},
   "outputs": [],
   "source": []
  },
  {
   "cell_type": "code",
   "execution_count": null,
   "id": "de398d62-8b09-4811-ba37-b0643ec6b797",
   "metadata": {},
   "outputs": [],
   "source": []
  },
  {
   "cell_type": "code",
   "execution_count": null,
   "id": "39eac917-4b67-413b-8899-c8c25e6f968e",
   "metadata": {},
   "outputs": [],
   "source": []
  },
  {
   "cell_type": "code",
   "execution_count": null,
   "id": "c93d3b7e-b2d1-4471-816a-5ecade330f81",
   "metadata": {},
   "outputs": [],
   "source": []
  },
  {
   "cell_type": "code",
   "execution_count": null,
   "id": "dbacfd53-9d99-4e17-aa0e-5c01ca39bdfa",
   "metadata": {},
   "outputs": [],
   "source": []
  },
  {
   "cell_type": "code",
   "execution_count": null,
   "id": "aea9ed5b-5bbd-46ac-99b5-dedc1f72000a",
   "metadata": {},
   "outputs": [],
   "source": [
    "#INSERT: to add in a list in your desired position"
   ]
  },
  {
   "cell_type": "code",
   "execution_count": 55,
   "id": "2d24644e-937c-4032-90ef-861080e0b02a",
   "metadata": {},
   "outputs": [
    {
     "name": "stdout",
     "output_type": "stream",
     "text": [
      "['Mango', 'Apricot', 'Apricot', 'avocado', 'Apple', 'Apple', 'Dragon Fruit']\n"
     ]
    }
   ],
   "source": [
    "fruit.insert(1,'Apricot')\n",
    "print(fruit)"
   ]
  },
  {
   "cell_type": "code",
   "execution_count": 59,
   "id": "3624d105-92a8-43e4-bf18-4f1c736abbf5",
   "metadata": {},
   "outputs": [
    {
     "name": "stdout",
     "output_type": "stream",
     "text": [
      "['Mango', 'Apricot', 'Apricot', 'avocado', 'water melon', 'Apple', 'water melon', 'Apple', 'Dragon Fruit']\n"
     ]
    }
   ],
   "source": [
    "fruit.insert(-2,'water melon')\n",
    "print(fruit)"
   ]
  },
  {
   "cell_type": "code",
   "execution_count": 61,
   "id": "dcc3fe8b-7a11-4ae8-ad4d-fe4cbbb44358",
   "metadata": {},
   "outputs": [
    {
     "data": {
      "text/plain": [
       "9"
      ]
     },
     "execution_count": 61,
     "metadata": {},
     "output_type": "execute_result"
    }
   ],
   "source": [
    "len(fruit)"
   ]
  },
  {
   "cell_type": "code",
   "execution_count": 63,
   "id": "f2ce3341-367f-41e0-9147-19ec39ca61f0",
   "metadata": {},
   "outputs": [
    {
     "ename": "IndexError",
     "evalue": "list index out of range",
     "output_type": "error",
     "traceback": [
      "\u001b[1;31m---------------------------------------------------------------------------\u001b[0m",
      "\u001b[1;31mIndexError\u001b[0m                                Traceback (most recent call last)",
      "Cell \u001b[1;32mIn[63], line 1\u001b[0m\n\u001b[1;32m----> 1\u001b[0m fruit[\u001b[38;5;241m10\u001b[39m]\n",
      "\u001b[1;31mIndexError\u001b[0m: list index out of range"
     ]
    }
   ],
   "source": [
    "fruit[10] #MCQ: list only consist of 9 elements TO INDEX OUT OF RANGE KA ERROR AEGA"
   ]
  },
  {
   "cell_type": "code",
   "execution_count": 65,
   "id": "607a99d0-1b92-4299-afcb-c9043f9d2cc7",
   "metadata": {},
   "outputs": [
    {
     "name": "stdout",
     "output_type": "stream",
     "text": [
      "['Mango', 'Apricot', 'Apricot', 'avocado', 'water melon', 'Apple', 'water melon', 'Apple']\n"
     ]
    }
   ],
   "source": [
    "fruit.pop() #always delete an element from the end\n",
    "print(fruit)"
   ]
  },
  {
   "cell_type": "code",
   "execution_count": 67,
   "id": "b86a89fa-06fb-4c1f-9b55-b807a9ce0a29",
   "metadata": {},
   "outputs": [
    {
     "name": "stdout",
     "output_type": "stream",
     "text": [
      "['Apricot', 'Apricot', 'avocado', 'water melon', 'Apple', 'water melon', 'Apple']\n"
     ]
    }
   ],
   "source": [
    "fruit.pop(0)\n",
    "print(fruit)"
   ]
  },
  {
   "cell_type": "code",
   "execution_count": 69,
   "id": "228ef2b2-4c80-48c8-9c81-c0ab8fb06186",
   "metadata": {},
   "outputs": [],
   "source": [
    "#remove me speciifc element delete karte hain while pop delete element through index\n",
    "fruit.remove('Apple')"
   ]
  },
  {
   "cell_type": "code",
   "execution_count": 71,
   "id": "060fabc4-99a8-4309-806d-edbca8439c78",
   "metadata": {},
   "outputs": [
    {
     "name": "stdout",
     "output_type": "stream",
     "text": [
      "['Apricot', 'Apricot', 'avocado', 'water melon', 'water melon', 'Apple']\n"
     ]
    }
   ],
   "source": [
    "print(fruit)"
   ]
  },
  {
   "cell_type": "code",
   "execution_count": 75,
   "id": "ff9e9c8a-0c71-491d-9a10-5fc099cdc50d",
   "metadata": {},
   "outputs": [
    {
     "name": "stdout",
     "output_type": "stream",
     "text": [
      "['Apricot', 'Apricot', 'avocado', 'water melon', 'water melon', 'Apple', ['mango', 'kiwi', 'melon']]\n"
     ]
    }
   ],
   "source": [
    "fruits_in_summer= ['mango','kiwi','melon']\n",
    "fruit.append(fruits_in_summer)\n",
    "print(fruit)"
   ]
  },
  {
   "cell_type": "code",
   "execution_count": 79,
   "id": "3e276097-87c8-4b6d-89e9-19456e06185d",
   "metadata": {},
   "outputs": [
    {
     "name": "stdout",
     "output_type": "stream",
     "text": [
      "['kiwi', 'melon']\n"
     ]
    }
   ],
   "source": [
    "print(fruit[6][1:]) #fruits_in summer is at 6 and kiwi is at 6-1 and melon till last"
   ]
  },
  {
   "cell_type": "code",
   "execution_count": 85,
   "id": "6286d155-f332-4283-be27-4bc5f38ae6f4",
   "metadata": {},
   "outputs": [
    {
     "data": {
      "text/plain": [
       "1"
      ]
     },
     "execution_count": 85,
     "metadata": {},
     "output_type": "execute_result"
    }
   ],
   "source": [
    "#count function: ye wala element kitni bar aya hai\n",
    "fruit.count('Apple')"
   ]
  },
  {
   "cell_type": "code",
   "execution_count": 1,
   "id": "2af4bf2f-20f7-4eb1-a0dd-ee05c349ebc6",
   "metadata": {},
   "outputs": [],
   "source": [
    "fruits = ['Mango','Banana','Grapes','Avocado','Berry']"
   ]
  },
  {
   "cell_type": "code",
   "execution_count": 3,
   "id": "9d383f41-0201-442f-8257-7eb28140c926",
   "metadata": {},
   "outputs": [
    {
     "name": "stdout",
     "output_type": "stream",
     "text": [
      "['Mango', 'Banana', 'Grapes', 'Avocado', 'Berry']\n"
     ]
    }
   ],
   "source": [
    "print(fruits)"
   ]
  },
  {
   "cell_type": "code",
   "execution_count": 5,
   "id": "1421c65d-d28f-4078-81c2-6a9bdfdd04ec",
   "metadata": {},
   "outputs": [
    {
     "name": "stdout",
     "output_type": "stream",
     "text": [
      "<class 'list'>\n"
     ]
    }
   ],
   "source": [
    "print(type(fruits))"
   ]
  },
  {
   "cell_type": "code",
   "execution_count": 7,
   "id": "ac9da95e-be8b-4537-8140-717d6b7cdd08",
   "metadata": {},
   "outputs": [],
   "source": [
    "# Append: list ke andar ek or list bana ke add karta hai or hamesha end me jaake element ko add karta hai.\n",
    "#Insert: list me apni desired position pe add karta hai"
   ]
  },
  {
   "cell_type": "code",
   "execution_count": 9,
   "id": "42e56bee-7d0f-4519-a615-c4120135090e",
   "metadata": {},
   "outputs": [
    {
     "name": "stdout",
     "output_type": "stream",
     "text": [
      "['Mango', 'Banana', 'Grapes', 'Avocado', 'Berry', 'Apple']\n"
     ]
    }
   ],
   "source": [
    "fruits.append('Apple')\n",
    "print(fruits)"
   ]
  },
  {
   "cell_type": "code",
   "execution_count": 11,
   "id": "30f112fb-6748-4b44-b34b-22f44f038f2a",
   "metadata": {},
   "outputs": [
    {
     "name": "stdout",
     "output_type": "stream",
     "text": [
      "['Mango', 'Banana', 'Grapes', 'Avocado', 'Berry', 'Apple', 'Dragon Fruit']\n"
     ]
    }
   ],
   "source": [
    "fruits.append('Dragon Fruit')\n",
    "print(fruits)"
   ]
  },
  {
   "cell_type": "code",
   "execution_count": 13,
   "id": "9f11b974-f9b2-40c6-8f1a-6f767a59b57f",
   "metadata": {},
   "outputs": [
    {
     "name": "stdout",
     "output_type": "stream",
     "text": [
      "Mango\n"
     ]
    }
   ],
   "source": [
    "#INDEXING: ALWAYS START FROM ZERO\n",
    "#positive indexing\n",
    "#negative indexing\n",
    "print(fruits[0])"
   ]
  },
  {
   "cell_type": "code",
   "execution_count": 15,
   "id": "6fcbcbe9-9144-4124-9ac6-08c49d32e429",
   "metadata": {},
   "outputs": [
    {
     "ename": "SyntaxError",
     "evalue": "invalid syntax. Perhaps you forgot a comma? (3998772136.py, line 3)",
     "output_type": "error",
     "traceback": [
      "\u001b[1;36m  Cell \u001b[1;32mIn[15], line 3\u001b[1;36m\u001b[0m\n\u001b[1;33m    print(fruits[])\u001b[0m\n\u001b[1;37m          ^\u001b[0m\n\u001b[1;31mSyntaxError\u001b[0m\u001b[1;31m:\u001b[0m invalid syntax. Perhaps you forgot a comma?\n"
     ]
    }
   ],
   "source": [
    "# MCQ: whenever you print a list you provide [] for indexing but those [] never be left empty\n",
    "#you must give a number in that [] indexing otherwise syntax error ajaega.\n",
    "print(fruits[])"
   ]
  },
  {
   "cell_type": "code",
   "execution_count": 19,
   "id": "820c216a-826f-4863-ba50-5a525c5ff64a",
   "metadata": {},
   "outputs": [
    {
     "name": "stdout",
     "output_type": "stream",
     "text": [
      "['Mango', 'Banana', 'Grapes', 'Avocado', 'Berry', 'Apple', 'Dragon Fruit']\n",
      "['Mango', 'Banana', 'Grapes', 'Avocado']\n"
     ]
    }
   ],
   "source": [
    "#list[inclusive:exclusive]\n",
    "#to print full list\n",
    "print(fruits[:])\n",
    "\n",
    "print(fruits[0:4])"
   ]
  },
  {
   "cell_type": "code",
   "execution_count": 21,
   "id": "8e4d1988-922d-492d-a37d-4bb3dd7db793",
   "metadata": {},
   "outputs": [
    {
     "name": "stdout",
     "output_type": "stream",
     "text": [
      "['Mango', 'Banana', 'Grapes', 'Avocado', 'Berry', 'Apple', 'Dragon Fruit']\n"
     ]
    }
   ],
   "source": [
    "print(fruits)"
   ]
  },
  {
   "cell_type": "code",
   "execution_count": 25,
   "id": "a58df697-5e49-4020-b80e-3a6c90bd6120",
   "metadata": {},
   "outputs": [
    {
     "name": "stdout",
     "output_type": "stream",
     "text": [
      "['Mango', 'Grapes', 'Berry', 'Dragon Fruit']\n"
     ]
    }
   ],
   "source": [
    "# we are at mango we want mango grapes berry dragon fruits\n",
    "#conside mango at (inclusive) then dragon fruit at 7(exclusive)\n",
    "#we movve 2 steps to get grapes then 2 steps we get berry then 2 steps we get dragon fruit\n",
    "#[inclusive:exclusive:step]\n",
    "#we use step when we want specific elements in a list by indexing\n",
    "#yahan se (inclusive) yahan tak (exclusive) tak jao or 2 step count karo or 2nd step pe jo\n",
    "#value aegi usko print karo\n",
    "print(fruits[0:7:2])"
   ]
  },
  {
   "cell_type": "code",
   "execution_count": 31,
   "id": "2e7e4ed5-cd4a-4f95-bc10-904ae324c61d",
   "metadata": {},
   "outputs": [
    {
     "name": "stdout",
     "output_type": "stream",
     "text": [
      "['Grapes', 'Berry', 'Dragon Fruit']\n"
     ]
    }
   ],
   "source": [
    "print(fruits[2:7:2])"
   ]
  },
  {
   "cell_type": "code",
   "execution_count": 33,
   "id": "844346e7-2347-45e6-af65-6d2d89898bed",
   "metadata": {},
   "outputs": [
    {
     "name": "stdout",
     "output_type": "stream",
     "text": [
      "['Banana', 'Avocado', 'Apple']\n"
     ]
    }
   ],
   "source": [
    "print(fruits[1:6:2])"
   ]
  },
  {
   "cell_type": "code",
   "execution_count": 35,
   "id": "69fcda27-8c33-476d-92f6-3b7356815ba0",
   "metadata": {},
   "outputs": [
    {
     "name": "stdout",
     "output_type": "stream",
     "text": [
      "['Mango', 'Banana', 'Grapes', 'Avocado', 'Berry', 'Apple', 'Dragon Fruit']\n"
     ]
    }
   ],
   "source": [
    "print(fruits)"
   ]
  },
  {
   "cell_type": "code",
   "execution_count": 39,
   "id": "d90c56a1-b149-4ec0-9cf2-2d487d8d3e93",
   "metadata": {},
   "outputs": [
    {
     "name": "stdout",
     "output_type": "stream",
     "text": [
      "['Grapes', 'Avocado', 'Berry', 'Apple']\n"
     ]
    }
   ],
   "source": [
    "# start from -5(inclsive) end at -1(exclusive)\n",
    "#list ulti chalegi lekin inclusive or exclusive ka concept same rahega\n",
    "\n",
    "print(fruits[-5:-1])"
   ]
  },
  {
   "cell_type": "code",
   "execution_count": 41,
   "id": "04cdb1c3-d9da-4358-a2c5-07cca2878907",
   "metadata": {},
   "outputs": [
    {
     "name": "stdout",
     "output_type": "stream",
     "text": [
      "['Banana', 'Avocado', 'Apple']\n"
     ]
    }
   ],
   "source": [
    "print(fruits[-6:-1:2])"
   ]
  },
  {
   "cell_type": "code",
   "execution_count": null,
   "id": "88730930-9085-41b9-a09d-8cb620779040",
   "metadata": {},
   "outputs": [],
   "source": []
  }
 ],
 "metadata": {
  "kernelspec": {
   "display_name": "Python 3 (ipykernel)",
   "language": "python",
   "name": "python3"
  },
  "language_info": {
   "codemirror_mode": {
    "name": "ipython",
    "version": 3
   },
   "file_extension": ".py",
   "mimetype": "text/x-python",
   "name": "python",
   "nbconvert_exporter": "python",
   "pygments_lexer": "ipython3",
   "version": "3.12.4"
  }
 },
 "nbformat": 4,
 "nbformat_minor": 5
}
