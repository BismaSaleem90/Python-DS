{
 "cells": [
  {
   "cell_type": "code",
   "execution_count": 1,
   "id": "2e699bfc-6d44-44ff-bab0-bba739f53fc6",
   "metadata": {},
   "outputs": [
    {
     "name": "stdout",
     "output_type": "stream",
     "text": [
      "5\n"
     ]
    }
   ],
   "source": [
    "#1\n",
    "my_list = [1, 2, 3, 4]\n",
    "my_list.append([5, 6])\n",
    "print(len(my_list))"
   ]
  },
  {
   "cell_type": "code",
   "execution_count": null,
   "id": "ea1431ad-c578-4f6b-9b6a-0a195189b1fa",
   "metadata": {},
   "outputs": [],
   "source": [
    "#2-\n",
    "tuples can contain duplicate elements"
   ]
  },
  {
   "cell_type": "code",
   "execution_count": 57,
   "id": "f2cf72b9-1d93-4e95-b929-cdcbb3a9eba0",
   "metadata": {},
   "outputs": [
    {
     "name": "stdout",
     "output_type": "stream",
     "text": [
      "4\n"
     ]
    }
   ],
   "source": [
    "#3\n",
    "my_set = {1, 2, 2, 3, 4}\n",
    "print(len(my_set))"
   ]
  },
  {
   "cell_type": "code",
   "execution_count": 59,
   "id": "4cb33984-79d6-4df7-8509-023acad29331",
   "metadata": {},
   "outputs": [
    {
     "name": "stdout",
     "output_type": "stream",
     "text": [
      "Hello\n"
     ]
    }
   ],
   "source": [
    "#4\n",
    "x = \"Hello\"\n",
    "y = x\n",
    "y += \" World\"\n",
    "print(x)"
   ]
  },
  {
   "cell_type": "code",
   "execution_count": null,
   "id": "a7d1ef14-8001-4026-82df-8286a06404f6",
   "metadata": {},
   "outputs": [],
   "source": [
    "5- Lists are faster than tuples."
   ]
  },
  {
   "cell_type": "code",
   "execution_count": null,
   "id": "f972dfbf-5fd1-424e-93d5-62e50827b952",
   "metadata": {},
   "outputs": [],
   "source": [
    "6-"
   ]
  },
  {
   "cell_type": "code",
   "execution_count": null,
   "id": "746441ad-c927-49d2-9f1e-0165780cbff0",
   "metadata": {},
   "outputs": [],
   "source": [
    "7- Mutable data type: the data type that can be changed e.g list\n",
    " - Immutable data type: that cannot be changed e.g set"
   ]
  },
  {
   "cell_type": "code",
   "execution_count": 9,
   "id": "ec7bcd8e-c60c-46a2-a18a-d0b9d4c52284",
   "metadata": {},
   "outputs": [
    {
     "name": "stdout",
     "output_type": "stream",
     "text": [
      "26\n",
      "19\n"
     ]
    }
   ],
   "source": [
    "#8\n",
    "ages = [19, 22, 19, 24, 20, 25, 26, 24, 25, 24]\n",
    "ages.sort()\n",
    "print(max(ages))\n",
    "print(min(ages))\n"
   ]
  },
  {
   "cell_type": "code",
   "execution_count": 19,
   "id": "8f290ddd-8762-48f3-bfc8-5a791c15af60",
   "metadata": {},
   "outputs": [],
   "source": [
    "#8\n",
    "ages = [19, 22, 19, 24, 20, 25, 26, 24, 25, 24]"
   ]
  },
  {
   "cell_type": "code",
   "execution_count": 21,
   "id": "9d66231e-dd79-4823-b3f6-aa745cc4deaf",
   "metadata": {},
   "outputs": [],
   "source": [
    "#8-1\n",
    "ages.sort()"
   ]
  },
  {
   "cell_type": "code",
   "execution_count": 23,
   "id": "b0210706-2956-43a0-a1df-a22f82969c11",
   "metadata": {},
   "outputs": [
    {
     "name": "stdout",
     "output_type": "stream",
     "text": [
      "[19, 19, 20, 22, 24, 24, 24, 25, 25, 26]\n"
     ]
    }
   ],
   "source": [
    "print(ages)"
   ]
  },
  {
   "cell_type": "code",
   "execution_count": 25,
   "id": "0a05a225-f03c-499b-b62c-b80d7ca9accc",
   "metadata": {},
   "outputs": [
    {
     "data": {
      "text/plain": [
       "[19, 19, 20, 22, 24, 24, 24, 25, 25, 26]"
      ]
     },
     "execution_count": 25,
     "metadata": {},
     "output_type": "execute_result"
    }
   ],
   "source": [
    "ages"
   ]
  },
  {
   "cell_type": "code",
   "execution_count": 29,
   "id": "359c6e04-c536-423a-91a3-be4030fafab7",
   "metadata": {},
   "outputs": [
    {
     "name": "stdout",
     "output_type": "stream",
     "text": [
      "[19, 19, 20, 22, 24, 24, 24, 25, 25, 26, 19]\n"
     ]
    }
   ],
   "source": [
    "ages.append(19)\n",
    "print(ages)"
   ]
  },
  {
   "cell_type": "code",
   "execution_count": 31,
   "id": "0fb18b8c-7a2b-45d6-a096-df909835c7a5",
   "metadata": {},
   "outputs": [
    {
     "name": "stdout",
     "output_type": "stream",
     "text": [
      "[19, 19, 20, 22, 24, 24, 24, 25, 25, 26, 19, 26]\n"
     ]
    }
   ],
   "source": [
    "ages.append(26)\n",
    "print(ages)"
   ]
  },
  {
   "cell_type": "code",
   "execution_count": null,
   "id": "f3ce503d-4792-453e-bf1a-42c4be01e602",
   "metadata": {},
   "outputs": [],
   "source": []
  },
  {
   "cell_type": "code",
   "execution_count": 33,
   "id": "f119e349-68cb-4993-921b-8f21da07de81",
   "metadata": {},
   "outputs": [
    {
     "name": "stdout",
     "output_type": "stream",
     "text": [
      "<class 'tuple'>\n"
     ]
    }
   ],
   "source": [
    "#9\n",
    "#1\n",
    "tuple_=()\n",
    "print(type(tuple_))"
   ]
  },
  {
   "cell_type": "code",
   "execution_count": 39,
   "id": "8c731781-b96c-4ea7-bdb0-758dbd67f8e4",
   "metadata": {},
   "outputs": [
    {
     "name": "stdout",
     "output_type": "stream",
     "text": [
      "('Bilal', 'Hasan')\n",
      "('Areeba', 'Bisma')\n"
     ]
    }
   ],
   "source": [
    "#9-2\n",
    "sisters =('Areeba','Bisma')\n",
    "brothers=('Bilal','Hasan')\n",
    "print(brothers)\n",
    "print(sisters)"
   ]
  },
  {
   "cell_type": "code",
   "execution_count": 41,
   "id": "41f9b2f8-088f-4e80-906b-a9efed2a36ad",
   "metadata": {},
   "outputs": [
    {
     "name": "stdout",
     "output_type": "stream",
     "text": [
      "('Areeba', 'Bisma', 'Bilal', 'Hasan')\n"
     ]
    }
   ],
   "source": [
    "#9-3\n",
    "siblings= sisters+brothers\n",
    "print(siblings)"
   ]
  },
  {
   "cell_type": "code",
   "execution_count": 47,
   "id": "c2d12b63-f335-4ebb-bfd6-c2a96564ecd2",
   "metadata": {},
   "outputs": [
    {
     "data": {
      "text/plain": [
       "4"
      ]
     },
     "execution_count": 47,
     "metadata": {},
     "output_type": "execute_result"
    }
   ],
   "source": [
    "#9-4\n",
    "len(siblings)"
   ]
  },
  {
   "cell_type": "code",
   "execution_count": 53,
   "id": "4a59af78-69d8-4c9a-9a43-7c529e96d07e",
   "metadata": {},
   "outputs": [
    {
     "name": "stdout",
     "output_type": "stream",
     "text": [
      "('Mother', 'father')\n",
      "('Areeba', 'Bisma', 'Bilal', 'Hasan', 'Mother', 'father')\n"
     ]
    }
   ],
   "source": [
    "#9-5\n",
    "parents = ('Mother','father')\n",
    "print(parents)\n",
    "family_members=siblings+parents\n",
    "print(family_members)"
   ]
  },
  {
   "cell_type": "code",
   "execution_count": 55,
   "id": "8a7753fd-cbe8-4188-bd5d-ed5a2ad4833f",
   "metadata": {},
   "outputs": [
    {
     "name": "stdout",
     "output_type": "stream",
     "text": [
      "('Areeba', 'Bisma', 'Bilal', 'Hasan')\n",
      "('Areeba', 'Bisma', 'Bilal', 'Hasan', 'Mother', 'father')\n"
     ]
    }
   ],
   "source": [
    "#9-6\n",
    "\n",
    "print(siblings)\n",
    "print(family_members)"
   ]
  },
  {
   "cell_type": "code",
   "execution_count": null,
   "id": "2a283c15-55e3-42f0-a68e-f963db4b7238",
   "metadata": {},
   "outputs": [],
   "source": []
  }
 ],
 "metadata": {
  "kernelspec": {
   "display_name": "Python 3 (ipykernel)",
   "language": "python",
   "name": "python3"
  },
  "language_info": {
   "codemirror_mode": {
    "name": "ipython",
    "version": 3
   },
   "file_extension": ".py",
   "mimetype": "text/x-python",
   "name": "python",
   "nbconvert_exporter": "python",
   "pygments_lexer": "ipython3",
   "version": "3.12.4"
  }
 },
 "nbformat": 4,
 "nbformat_minor": 5
}
