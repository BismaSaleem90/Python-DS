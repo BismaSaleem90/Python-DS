{
 "cells": [
  {
   "cell_type": "markdown",
   "id": "32ca027a-34ef-4cd6-8622-a388592c02e8",
   "metadata": {},
   "source": [
    "### SET:\n",
    "- distinct items no duplication\n",
    "- immmutable na add hogi na delete hogi \n",
    "- unordered\n",
    "- set itself is mutable\n",
    "- cant contain mutable data types\n",
    "- "
   ]
  },
  {
   "cell_type": "code",
   "execution_count": 1,
   "id": "aa23ef6a-083b-407d-93fd-6784f2a87de1",
   "metadata": {},
   "outputs": [
    {
     "data": {
      "text/plain": [
       "dict"
      ]
     },
     "execution_count": 1,
     "metadata": {},
     "output_type": "execute_result"
    }
   ],
   "source": [
    "name = {}\n",
    "type(name)"
   ]
  },
  {
   "cell_type": "code",
   "execution_count": null,
   "id": "89115754-25ea-4d99-8b36-a22c547ef77f",
   "metadata": {},
   "outputs": [],
   "source": [
    "#empty ko python dict consider krta hai\n",
    "#python me set or dict dono {} se represent hote hain"
   ]
  },
  {
   "cell_type": "code",
   "execution_count": 5,
   "id": "b94c5da6-00a9-42d6-aed6-ce6a068419b9",
   "metadata": {},
   "outputs": [
    {
     "data": {
      "text/plain": [
       "set"
      ]
     },
     "execution_count": 5,
     "metadata": {},
     "output_type": "execute_result"
    }
   ],
   "source": [
    "#now it will consider it set\n",
    "name=set()\n",
    "type(name)"
   ]
  },
  {
   "cell_type": "code",
   "execution_count": 7,
   "id": "dd21fcea-3922-4c02-9901-78bb60d2c834",
   "metadata": {},
   "outputs": [
    {
     "name": "stdout",
     "output_type": "stream",
     "text": [
      "{1, 2, 3, 4}\n"
     ]
    }
   ],
   "source": [
    "s={1,2,3,4,}\n",
    "print(s)"
   ]
  },
  {
   "cell_type": "code",
   "execution_count": 9,
   "id": "d2330167-a067-46b3-909c-17b63d62a1eb",
   "metadata": {},
   "outputs": [
    {
     "name": "stdout",
     "output_type": "stream",
     "text": [
      "{3, 4, 5}\n"
     ]
    }
   ],
   "source": [
    "s={5,3,3,4}\n",
    "print(s)"
   ]
  },
  {
   "cell_type": "code",
   "execution_count": null,
   "id": "f350ab6c-41c0-4306-aa2f-88bcc3257a72",
   "metadata": {},
   "outputs": [],
   "source": [
    "#ap jis sequence me item ko declare karlen gey woh usi seq me wapis nahi dega.\n"
   ]
  },
  {
   "cell_type": "code",
   "execution_count": 11,
   "id": "400e3ebb-4174-46a3-bc14-535b8a04ad78",
   "metadata": {},
   "outputs": [
    {
     "ename": "TypeError",
     "evalue": "unhashable type: 'set'",
     "output_type": "error",
     "traceback": [
      "\u001b[1;31m---------------------------------------------------------------------------\u001b[0m",
      "\u001b[1;31mTypeError\u001b[0m                                 Traceback (most recent call last)",
      "Cell \u001b[1;32mIn[11], line 2\u001b[0m\n\u001b[0;32m      1\u001b[0m \u001b[38;5;66;03m# mutable data types set k elements ka part nahi bnty\u001b[39;00m\n\u001b[1;32m----> 2\u001b[0m s\u001b[38;5;241m=\u001b[39m {\u001b[38;5;241m1\u001b[39m,\u001b[38;5;241m2\u001b[39m,\u001b[38;5;241m3\u001b[39m,{\u001b[38;5;241m4\u001b[39m,\u001b[38;5;241m5\u001b[39m}}\n\u001b[0;32m      3\u001b[0m \u001b[38;5;28mprint\u001b[39m(s)\n",
      "\u001b[1;31mTypeError\u001b[0m: unhashable type: 'set'"
     ]
    }
   ],
   "source": [
    "# mutable data types set k elements ka part nahi bnty\n",
    "s= {1,2,3,{4,5}}\n",
    "print(s)"
   ]
  },
  {
   "cell_type": "code",
   "execution_count": 13,
   "id": "ee8ec9d8-e01d-4034-adb2-1d946bb3e4e7",
   "metadata": {},
   "outputs": [
    {
     "name": "stdout",
     "output_type": "stream",
     "text": [
      "{3, 1, (4, 5), 2}\n"
     ]
    }
   ],
   "source": [
    "s= {1,2,3,(4,5)}\n",
    "print(s)"
   ]
  },
  {
   "cell_type": "code",
   "execution_count": null,
   "id": "e39a51cb-05b1-4dfd-97ac-eb51da58c233",
   "metadata": {},
   "outputs": [],
   "source": [
    "#set k andar only typle chalegi cz woh immutable hai\n",
    "#list nahi chalegi or set me set nahi chalega.\n"
   ]
  },
  {
   "cell_type": "code",
   "execution_count": 15,
   "id": "9d1ea851-05ae-4614-a8bb-eae2094625f6",
   "metadata": {},
   "outputs": [
    {
     "name": "stdout",
     "output_type": "stream",
     "text": [
      "{1, 'sajid', 2.5}\n"
     ]
    }
   ],
   "source": [
    "#set k andar homogenous items lete hain\n",
    "\n",
    "s={1,'sajid',2.5,True}\n",
    "print(s)"
   ]
  },
  {
   "cell_type": "code",
   "execution_count": 17,
   "id": "189af126-ef33-4673-ad21-25cfea718457",
   "metadata": {},
   "outputs": [
    {
     "name": "stdout",
     "output_type": "stream",
     "text": [
      "{False, 1, 'sajid'}\n"
     ]
    }
   ],
   "source": [
    "#1 aur true ek he consider hota hai cz woh immutable hai\n",
    "\n",
    "s={False,1,'sajid',True}\n",
    "print(s)"
   ]
  },
  {
   "cell_type": "code",
   "execution_count": 21,
   "id": "f426a47f-15ee-4fef-a624-bf882f29a472",
   "metadata": {},
   "outputs": [
    {
     "name": "stdout",
     "output_type": "stream",
     "text": [
      "<class 'set'>\n"
     ]
    }
   ],
   "source": [
    "#type casting:\n",
    "\n",
    "fruits = set(['apple','banana','cherry'])\n",
    "print(type(fruits))"
   ]
  },
  {
   "cell_type": "code",
   "execution_count": 23,
   "id": "439aa874-e5a3-4022-b16b-0a28585b3f39",
   "metadata": {},
   "outputs": [
    {
     "data": {
      "text/plain": [
       "True"
      ]
     },
     "execution_count": 23,
     "metadata": {},
     "output_type": "execute_result"
    }
   ],
   "source": [
    "s1={1,2,3,4}\n",
    "s2={4,3,2,1}\n",
    "s1==s2"
   ]
  },
  {
   "cell_type": "code",
   "execution_count": null,
   "id": "4aae39db-27de-46f9-a88a-1c62103a2a74",
   "metadata": {},
   "outputs": [],
   "source": [
    "# all elemnts should be same\n",
    "#sequence matter nahi karti\n",
    "\n"
   ]
  },
  {
   "cell_type": "code",
   "execution_count": 25,
   "id": "5b63dd91-fd26-4007-9877-09296ea0a11d",
   "metadata": {},
   "outputs": [
    {
     "data": {
      "text/plain": [
       "{1, False, 'sajid'}"
      ]
     },
     "execution_count": 25,
     "metadata": {},
     "output_type": "execute_result"
    }
   ],
   "source": [
    "s"
   ]
  },
  {
   "cell_type": "code",
   "execution_count": 27,
   "id": "ec7415ad-f4bd-4e36-8cf7-eb022d515ff3",
   "metadata": {},
   "outputs": [
    {
     "ename": "TypeError",
     "evalue": "'set' object is not subscriptable",
     "output_type": "error",
     "traceback": [
      "\u001b[1;31m---------------------------------------------------------------------------\u001b[0m",
      "\u001b[1;31mTypeError\u001b[0m                                 Traceback (most recent call last)",
      "Cell \u001b[1;32mIn[27], line 2\u001b[0m\n\u001b[0;32m      1\u001b[0m \u001b[38;5;66;03m#while accessing elemts we use index or index function.\u001b[39;00m\n\u001b[1;32m----> 2\u001b[0m \u001b[38;5;28mprint\u001b[39m(s[\u001b[38;5;241m0\u001b[39m])\n",
      "\u001b[1;31mTypeError\u001b[0m: 'set' object is not subscriptable"
     ]
    }
   ],
   "source": [
    "#while accessing elemts we use index or index function.\n",
    "print(s[0])"
   ]
  },
  {
   "cell_type": "code",
   "execution_count": null,
   "id": "d1ff2a64-5627-4e5f-a464-c610a3409616",
   "metadata": {},
   "outputs": [],
   "source": [
    "#jab koe cheez unordered hai ap uske sath index associate kardein gey tou kya aega."
   ]
  },
  {
   "cell_type": "code",
   "execution_count": 29,
   "id": "0a0dd894-a1cc-4963-ba7d-6131a8213683",
   "metadata": {},
   "outputs": [
    {
     "ename": "TypeError",
     "evalue": "'set' object is not subscriptable",
     "output_type": "error",
     "traceback": [
      "\u001b[1;31m---------------------------------------------------------------------------\u001b[0m",
      "\u001b[1;31mTypeError\u001b[0m                                 Traceback (most recent call last)",
      "Cell \u001b[1;32mIn[29], line 1\u001b[0m\n\u001b[1;32m----> 1\u001b[0m \u001b[38;5;28mprint\u001b[39m(s[\u001b[38;5;241m0\u001b[39m])\n\u001b[0;32m      2\u001b[0m s[\u001b[38;5;241m0\u001b[39m]\u001b[38;5;241m=\u001b[39m\u001b[38;5;124m'\u001b[39m\u001b[38;5;124mBanana\u001b[39m\u001b[38;5;124m'\u001b[39m\n",
      "\u001b[1;31mTypeError\u001b[0m: 'set' object is not subscriptable"
     ]
    }
   ],
   "source": [
    "print(s[0])\n",
    "s[0]='Banana'"
   ]
  },
  {
   "cell_type": "code",
   "execution_count": null,
   "id": "93622962-e47a-4bd0-a059-8520de203fe8",
   "metadata": {},
   "outputs": [],
   "source": [
    "#insert nahi hosakta add bhi nahi hosakta"
   ]
  },
  {
   "cell_type": "code",
   "execution_count": 31,
   "id": "e633caa5-354a-46bf-bafd-ab2c740c25cb",
   "metadata": {},
   "outputs": [
    {
     "ename": "TypeError",
     "evalue": "'set' object does not support item assignment",
     "output_type": "error",
     "traceback": [
      "\u001b[1;31m---------------------------------------------------------------------------\u001b[0m",
      "\u001b[1;31mTypeError\u001b[0m                                 Traceback (most recent call last)",
      "Cell \u001b[1;32mIn[31], line 1\u001b[0m\n\u001b[1;32m----> 1\u001b[0m s[\u001b[38;5;241m0\u001b[39m]\u001b[38;5;241m=\u001b[39m\u001b[38;5;124m'\u001b[39m\u001b[38;5;124mBanana\u001b[39m\u001b[38;5;124m'\u001b[39m\n",
      "\u001b[1;31mTypeError\u001b[0m: 'set' object does not support item assignment"
     ]
    }
   ],
   "source": [
    "s[0]='Banana'"
   ]
  },
  {
   "cell_type": "code",
   "execution_count": 33,
   "id": "85a5322e-6513-4ec4-8f8c-81f5f5d4dc88",
   "metadata": {},
   "outputs": [
    {
     "name": "stdout",
     "output_type": "stream",
     "text": [
      "{False, 1, 'sajid', 5}\n"
     ]
    }
   ],
   "source": [
    "# s.tab give list of methods that can be used in set\n",
    "s.add(5)\n",
    "print(s)"
   ]
  },
  {
   "cell_type": "code",
   "execution_count": 35,
   "id": "60e23394-0560-4a61-90a4-607d99013b20",
   "metadata": {},
   "outputs": [
    {
     "ename": "TypeError",
     "evalue": "set.add() takes exactly one argument (2 given)",
     "output_type": "error",
     "traceback": [
      "\u001b[1;31m---------------------------------------------------------------------------\u001b[0m",
      "\u001b[1;31mTypeError\u001b[0m                                 Traceback (most recent call last)",
      "Cell \u001b[1;32mIn[35], line 1\u001b[0m\n\u001b[1;32m----> 1\u001b[0m s\u001b[38;5;241m.\u001b[39madd(\u001b[38;5;241m6\u001b[39m,\u001b[38;5;241m7\u001b[39m)\n\u001b[0;32m      2\u001b[0m \u001b[38;5;28mprint\u001b[39m(s)\n",
      "\u001b[1;31mTypeError\u001b[0m: set.add() takes exactly one argument (2 given)"
     ]
    }
   ],
   "source": [
    "s.add(6,7)\n",
    "print(s)"
   ]
  },
  {
   "cell_type": "code",
   "execution_count": 39,
   "id": "41cece9f-4882-4caa-93f1-c8b66e3de2a7",
   "metadata": {},
   "outputs": [
    {
     "name": "stdout",
     "output_type": "stream",
     "text": [
      "{False, 1, 5, 6, 7, 8, 9, 'sajid'}\n"
     ]
    }
   ],
   "source": [
    "#ek waqt me ek he item lesakta hai add function\n",
    "#to add multiple items use update function\n",
    "\n",
    "s.update([6,7,8,9])\n",
    "print(s)"
   ]
  },
  {
   "cell_type": "code",
   "execution_count": 41,
   "id": "b5f5b32f-d2c3-441a-b2ca-2a9d5d42822e",
   "metadata": {},
   "outputs": [],
   "source": [
    "#multiple times ek cell ko chalaein gey toou set me bar bar add nahi hoga qh k woh duplicate allow nahi karta\n",
    "#list bana k update kara but add set me hua list form me nahi hoa\n",
    "#qh k set mutable items ko aane nahi deta apne andar\n",
    "#transform kiya immutable bana k liya"
   ]
  },
  {
   "cell_type": "code",
   "execution_count": 43,
   "id": "2e55ab74-7170-4c1c-bfd7-386b0b20186d",
   "metadata": {},
   "outputs": [
    {
     "name": "stdout",
     "output_type": "stream",
     "text": [
      "{3, 1, (4, 5), 2}\n"
     ]
    }
   ],
   "source": [
    "s= {1,2,3,(4,5)}\n",
    "print(s)"
   ]
  },
  {
   "cell_type": "code",
   "execution_count": null,
   "id": "88e2dd84-5cff-4dc5-82e5-37904d12f8ea",
   "metadata": {},
   "outputs": [],
   "source": [
    "#set me tuple asakti hai lekin woh () me aegi.\n",
    "\n"
   ]
  },
  {
   "cell_type": "code",
   "execution_count": 45,
   "id": "08ee61bf-8e35-49e5-8ac1-be80ed873e78",
   "metadata": {},
   "outputs": [
    {
     "ename": "TypeError",
     "evalue": "unhashable type: 'set'",
     "output_type": "error",
     "traceback": [
      "\u001b[1;31m---------------------------------------------------------------------------\u001b[0m",
      "\u001b[1;31mTypeError\u001b[0m                                 Traceback (most recent call last)",
      "Cell \u001b[1;32mIn[45], line 1\u001b[0m\n\u001b[1;32m----> 1\u001b[0m s\u001b[38;5;241m=\u001b[39m {\u001b[38;5;241m1\u001b[39m,\u001b[38;5;241m2\u001b[39m,\u001b[38;5;241m3\u001b[39m,{\u001b[38;5;241m4\u001b[39m,\u001b[38;5;241m5\u001b[39m}}\n\u001b[0;32m      2\u001b[0m \u001b[38;5;28mprint\u001b[39m(s)\n",
      "\u001b[1;31mTypeError\u001b[0m: unhashable type: 'set'"
     ]
    }
   ],
   "source": [
    "s= {1,2,3,{4,5}}\n",
    "print(s)"
   ]
  },
  {
   "cell_type": "code",
   "execution_count": 49,
   "id": "0336fb4c-4413-4542-b2a0-1cca8a1f7dea",
   "metadata": {},
   "outputs": [
    {
     "name": "stdout",
     "output_type": "stream",
     "text": [
      "{1, 2, 3, 'N', 'M', (4, 5), 'R', 'A', 'I'}\n"
     ]
    }
   ],
   "source": [
    "s.update('IMRAN')\n",
    "print(s)"
   ]
  },
  {
   "cell_type": "code",
   "execution_count": 51,
   "id": "1d064f3e-32c9-4aae-b29b-680d75df8f53",
   "metadata": {},
   "outputs": [
    {
     "name": "stdout",
     "output_type": "stream",
     "text": [
      "{1, 2, 3, 'N', 'M', (4, 5), 'R', 'A', 'I', 'IMRAN'}\n"
     ]
    }
   ],
   "source": [
    "s.update(['IMRAN'])\n",
    "print(s)"
   ]
  },
  {
   "cell_type": "code",
   "execution_count": 53,
   "id": "7e757176-baab-4da5-bd3d-07f97cca9a1d",
   "metadata": {},
   "outputs": [
    {
     "name": "stdout",
     "output_type": "stream",
     "text": [
      "{1, 2, 3, 'N', 'S', 'M', (4, 5), 'R', 'A', 'B', 'I', 'IMRAN'}\n"
     ]
    }
   ],
   "source": [
    "s.update(('BISMA'))\n",
    "print(s)"
   ]
  },
  {
   "cell_type": "code",
   "execution_count": null,
   "id": "b7dcb8e0-e360-4372-8754-7ff5dddbaabc",
   "metadata": {},
   "outputs": [],
   "source": [
    "#LIST ME EK SATH PASS KAREGA- WITH []\n",
    "#'' ME STRNG ME TOR TOR K PASS KAREGA APNI MARZI SE KAHIN BHI"
   ]
  },
  {
   "cell_type": "code",
   "execution_count": 55,
   "id": "7c5f6ed4-64aa-4f80-8391-f75d737b87a9",
   "metadata": {},
   "outputs": [
    {
     "name": "stdout",
     "output_type": "stream",
     "text": [
      "{'Imran'}\n"
     ]
    }
   ],
   "source": [
    "name={'Imran'}\n",
    "print(name)"
   ]
  },
  {
   "cell_type": "code",
   "execution_count": null,
   "id": "980c8dfb-0a18-40f0-8211-b392f7db46f8",
   "metadata": {},
   "outputs": [],
   "source": [
    "#ye wala problem serf update use krne k time aega create krne k waqt nahi aega"
   ]
  },
  {
   "cell_type": "code",
   "execution_count": 57,
   "id": "14420170-f841-48dc-b50b-a8fb91037342",
   "metadata": {},
   "outputs": [
    {
     "ename": "TypeError",
     "evalue": "'int' object is not iterable",
     "output_type": "error",
     "traceback": [
      "\u001b[1;31m---------------------------------------------------------------------------\u001b[0m",
      "\u001b[1;31mTypeError\u001b[0m                                 Traceback (most recent call last)",
      "Cell \u001b[1;32mIn[57], line 1\u001b[0m\n\u001b[1;32m----> 1\u001b[0m s\u001b[38;5;241m.\u001b[39mupdate(\u001b[38;5;241m6\u001b[39m,\u001b[38;5;241m7\u001b[39m,\u001b[38;5;241m8\u001b[39m,\u001b[38;5;241m9\u001b[39m)\n\u001b[0;32m      2\u001b[0m \u001b[38;5;28mprint\u001b[39m(s)\n",
      "\u001b[1;31mTypeError\u001b[0m: 'int' object is not iterable"
     ]
    }
   ],
   "source": [
    "s.update(6,7,8,9)\n",
    "print(s)"
   ]
  },
  {
   "cell_type": "code",
   "execution_count": 59,
   "id": "15a2054b-6bfe-402e-a508-dec4b2aabd51",
   "metadata": {},
   "outputs": [
    {
     "name": "stdout",
     "output_type": "stream",
     "text": [
      "{1, 2, 3, 'N', 6, 7, 8, 9, 'S', 'M', (4, 5), 'R', 'A', 'B', 'I', 'IMRAN'}\n"
     ]
    }
   ],
   "source": [
    "s.update([6,7,8,9])\n",
    "print(s)"
   ]
  },
  {
   "cell_type": "code",
   "execution_count": 61,
   "id": "a851769f-b525-47a4-a9d1-0c80ed4f2d38",
   "metadata": {},
   "outputs": [
    {
     "name": "stdout",
     "output_type": "stream",
     "text": [
      "{2, 3, 'N', 6, 7, 8, 9, 'S', 'M', (4, 5), 'R', 'A', 'B', 'I', 'IMRAN'}\n"
     ]
    }
   ],
   "source": [
    "s.pop()\n",
    "print(s)"
   ]
  },
  {
   "cell_type": "code",
   "execution_count": null,
   "id": "9e60bcbc-91c5-4d3c-b0e2-05afe5894152",
   "metadata": {},
   "outputs": [],
   "source": [
    "#pop apni marzi se kuch bhi dlete krdeta hai in sets kabji start se kabhi marzi se"
   ]
  },
  {
   "cell_type": "code",
   "execution_count": 65,
   "id": "05776951-3ded-4b66-b9a9-bd35c95edade",
   "metadata": {},
   "outputs": [
    {
     "name": "stdout",
     "output_type": "stream",
     "text": [
      "{2, 3, 'N', 7, 8, 9, 'S', 'M', (4, 5), 'R', 'A', 'B', 'I', 'IMRAN'}\n"
     ]
    }
   ],
   "source": [
    "s.remove(6)\n",
    "print(s)"
   ]
  },
  {
   "cell_type": "code",
   "execution_count": 67,
   "id": "590669f7-d5dc-442f-9ec1-e7c9db12dccb",
   "metadata": {},
   "outputs": [
    {
     "name": "stdout",
     "output_type": "stream",
     "text": [
      "{2, 'N', 7, 8, 9, 'S', 'M', (4, 5), 'R', 'A', 'B', 'I', 'IMRAN'}\n"
     ]
    }
   ],
   "source": [
    "s.discard(3)\n",
    "print(s)"
   ]
  },
  {
   "cell_type": "code",
   "execution_count": 88,
   "id": "9a964399-85ee-417c-88d0-668c5e81346e",
   "metadata": {},
   "outputs": [],
   "source": [
    "# discard koe sa bhi element hata deta hai even if it exist in set or not\n",
    "# # while remove thinks if this element exist in set then remove otherwise give key error\n",
    "# # k apka item set me moujood nahi hai while discard dont bother to tell you about that"
   ]
  },
  {
   "cell_type": "code",
   "execution_count": 69,
   "id": "47b3d660-25df-416c-90e5-075f401e7c38",
   "metadata": {},
   "outputs": [
    {
     "ename": "SyntaxError",
     "evalue": "invalid syntax (565264035.py, line 1)",
     "output_type": "error",
     "traceback": [
      "\u001b[1;36m  Cell \u001b[1;32mIn[69], line 1\u001b[1;36m\u001b[0m\n\u001b[1;33m    del.s[5]\u001b[0m\n\u001b[1;37m       ^\u001b[0m\n\u001b[1;31mSyntaxError\u001b[0m\u001b[1;31m:\u001b[0m invalid syntax\n"
     ]
    }
   ],
   "source": [
    "del.s[5]\n",
    "print(s)"
   ]
  },
  {
   "cell_type": "code",
   "execution_count": 71,
   "id": "e25069a3-b128-498c-92f6-832246cebf6b",
   "metadata": {},
   "outputs": [
    {
     "ename": "SyntaxError",
     "evalue": "invalid syntax (4179876608.py, line 1)",
     "output_type": "error",
     "traceback": [
      "\u001b[1;36m  Cell \u001b[1;32mIn[71], line 1\u001b[1;36m\u001b[0m\n\u001b[1;33m    del.s(5)\u001b[0m\n\u001b[1;37m       ^\u001b[0m\n\u001b[1;31mSyntaxError\u001b[0m\u001b[1;31m:\u001b[0m invalid syntax\n"
     ]
    }
   ],
   "source": [
    "del.s(5)\n",
    "print(s)"
   ]
  },
  {
   "cell_type": "code",
   "execution_count": null,
   "id": "1985c04b-9efb-44b6-9868-00547ec427c6",
   "metadata": {},
   "outputs": [],
   "source": [
    "#index follow nahi karta tou indexing pe delete nahi karta.\n"
   ]
  },
  {
   "cell_type": "code",
   "execution_count": 73,
   "id": "cadc2c5d-d47c-472a-a193-7d586c883f98",
   "metadata": {},
   "outputs": [
    {
     "name": "stdout",
     "output_type": "stream",
     "text": [
      "{2, 3, 4, 5, 6, 10, 12, 13}\n"
     ]
    }
   ],
   "source": [
    "s3= {2,3,4,5,6}\n",
    "s4= {3,4,5,10,12,13}\n",
    "#union | symbol\n",
    "print(s3|s4)"
   ]
  },
  {
   "cell_type": "code",
   "execution_count": 77,
   "id": "6a87d9ea-24af-419f-97ab-4a42fc5a3a47",
   "metadata": {},
   "outputs": [
    {
     "name": "stdout",
     "output_type": "stream",
     "text": [
      "{3, 4, 5}\n"
     ]
    }
   ],
   "source": [
    "#intersection symbol &\n",
    "print(s3&s4)"
   ]
  },
  {
   "cell_type": "code",
   "execution_count": 80,
   "id": "833d008c-4479-495b-9868-4ce943497a93",
   "metadata": {},
   "outputs": [
    {
     "name": "stdout",
     "output_type": "stream",
     "text": [
      "{2, 6}\n"
     ]
    }
   ],
   "source": [
    "# difference -\n",
    "print(s3-s4)"
   ]
  },
  {
   "cell_type": "code",
   "execution_count": 82,
   "id": "9a2c7760-81cd-423d-a06f-0ab032487908",
   "metadata": {},
   "outputs": [
    {
     "name": "stdout",
     "output_type": "stream",
     "text": [
      "{3, 4, 5}\n"
     ]
    }
   ],
   "source": [
    "print(s4&s3)"
   ]
  },
  {
   "cell_type": "code",
   "execution_count": null,
   "id": "b9cb7b11-c974-4728-bd01-a1134e23e9f9",
   "metadata": {},
   "outputs": [],
   "source": [
    "#lhs pe remaminin items aein gey"
   ]
  },
  {
   "cell_type": "code",
   "execution_count": 84,
   "id": "121b5317-2282-4045-9af3-a5e6bc81c20e",
   "metadata": {},
   "outputs": [
    {
     "name": "stdout",
     "output_type": "stream",
     "text": [
      "{2, 6, 10, 12, 13}\n",
      "{2, 6, 10, 12, 13}\n"
     ]
    }
   ],
   "source": [
    "#symmetric difference\n",
    "print(s3^s4)\n",
    "print(s4^s3)"
   ]
  },
  {
   "cell_type": "code",
   "execution_count": 86,
   "id": "7f0b659b-ddfd-4760-b899-d8372e65d38b",
   "metadata": {},
   "outputs": [
    {
     "data": {
      "text/plain": [
       "True"
      ]
     },
     "execution_count": 86,
     "metadata": {},
     "output_type": "execute_result"
    }
   ],
   "source": [
    "#membership operator:\n",
    "3 in s3"
   ]
  },
  {
   "cell_type": "code",
   "execution_count": 92,
   "id": "7b506ade-7e75-468b-a885-9a5af76d2abd",
   "metadata": {},
   "outputs": [
    {
     "name": "stdout",
     "output_type": "stream",
     "text": [
      "6\n",
      "22\n",
      "1\n",
      "7\n",
      "[7, 5, 4, 3, 2, 1]\n"
     ]
    }
   ],
   "source": [
    "#len/sum/min/max/sorted\n",
    "s={3,1,4,5,7,2}\n",
    "print(len(s))\n",
    "print(sum(s))\n",
    "print(min(s))\n",
    "print(max(s))\n",
    "print(sorted(s,reverse=True))"
   ]
  },
  {
   "cell_type": "code",
   "execution_count": 94,
   "id": "fce3b66a-3410-4916-af17-51ef6e8bed78",
   "metadata": {},
   "outputs": [
    {
     "name": "stdout",
     "output_type": "stream",
     "text": [
      "{2, 3, 4, 5, 6, 10, 12, 13}\n"
     ]
    }
   ],
   "source": [
    "s3= {2,3,4,5,6}\n",
    "s4= {3,4,5,10,12,13}\n",
    "#union | symbol\n",
    "print(s3|s4) #s3.union(s4)\n",
    "\n"
   ]
  },
  {
   "cell_type": "code",
   "execution_count": 96,
   "id": "e8f31827-6757-44fc-a46c-e3d5ed7e6123",
   "metadata": {},
   "outputs": [
    {
     "data": {
      "text/plain": [
       "{2, 3, 4, 5, 6}"
      ]
     },
     "execution_count": 96,
     "metadata": {},
     "output_type": "execute_result"
    }
   ],
   "source": [
    "s3"
   ]
  },
  {
   "cell_type": "code",
   "execution_count": 100,
   "id": "45ed4be2-de90-4c6b-a30e-2b5f7469b91d",
   "metadata": {},
   "outputs": [
    {
     "name": "stdout",
     "output_type": "stream",
     "text": [
      "{2, 3, 4, 5, 6, 10, 12, 13}\n"
     ]
    }
   ],
   "source": [
    "s3.update(s4)\n",
    "print(s3)"
   ]
  },
  {
   "cell_type": "code",
   "execution_count": null,
   "id": "d4f9d72f-8498-4944-ab75-d595505549d6",
   "metadata": {},
   "outputs": [],
   "source": [
    "#union me s3 update nahi hua tha\n",
    "#update k function se s3 update hogaya"
   ]
  },
  {
   "cell_type": "code",
   "execution_count": 104,
   "id": "9813811d-3ec2-4a4e-9803-934fdb73689b",
   "metadata": {},
   "outputs": [
    {
     "data": {
      "text/plain": [
       "False"
      ]
     },
     "execution_count": 104,
     "metadata": {},
     "output_type": "execute_result"
    }
   ],
   "source": [
    "#disjoint: each every element is diff from eachother\n",
    "\n",
    "s3.isdisjoint(s4)"
   ]
  },
  {
   "cell_type": "code",
   "execution_count": 106,
   "id": "010d9966-a7a0-410a-8001-ce2b3134d193",
   "metadata": {},
   "outputs": [
    {
     "data": {
      "text/plain": [
       "False"
      ]
     },
     "execution_count": 106,
     "metadata": {},
     "output_type": "execute_result"
    }
   ],
   "source": [
    "# subset: parent set ka chota set and parent set (lhs) contain elements of subset\n",
    "\n",
    "s3.issubset(s4)"
   ]
  },
  {
   "cell_type": "markdown",
   "id": "49325eb8-cac1-413c-9eca-78f24ad622fb",
   "metadata": {},
   "source": [
    "## FROZEN SET:\n",
    "- TO MAKE SET IMMUTABLE\n",
    "- cant update cant add cant change\n",
    "- frozen ka union or intersection frozen k sath he niklta hai only\n",
    "- result bhi frozen he rehta hai\n",
    "- all read function chalte hain view, print, 2d set bana sakte hain write waly functions nahi chalte."
   ]
  },
  {
   "cell_type": "code",
   "execution_count": 108,
   "id": "06a95192-a0a2-4280-b462-92d6791e7502",
   "metadata": {},
   "outputs": [
    {
     "ename": "AttributeError",
     "evalue": "'frozenset' object has no attribute 'update'",
     "output_type": "error",
     "traceback": [
      "\u001b[1;31m---------------------------------------------------------------------------\u001b[0m",
      "\u001b[1;31mAttributeError\u001b[0m                            Traceback (most recent call last)",
      "Cell \u001b[1;32mIn[108], line 2\u001b[0m\n\u001b[0;32m      1\u001b[0m fs1\u001b[38;5;241m=\u001b[39m \u001b[38;5;28mfrozenset\u001b[39m([\u001b[38;5;241m1\u001b[39m,\u001b[38;5;241m2\u001b[39m,\u001b[38;5;241m3\u001b[39m,\u001b[38;5;241m4\u001b[39m])\n\u001b[1;32m----> 2\u001b[0m fs1\u001b[38;5;241m.\u001b[39mupdate([\u001b[38;5;241m5\u001b[39m,\u001b[38;5;241m6\u001b[39m,\u001b[38;5;241m7\u001b[39m,\u001b[38;5;241m8\u001b[39m])\n\u001b[0;32m      3\u001b[0m \u001b[38;5;28mprint\u001b[39m(fs1)\n",
      "\u001b[1;31mAttributeError\u001b[0m: 'frozenset' object has no attribute 'update'"
     ]
    }
   ],
   "source": [
    "fs1= frozenset([1,2,3,4])\n",
    "fs1.update([5,6,7,8])\n",
    "print(fs1)"
   ]
  },
  {
   "cell_type": "code",
   "execution_count": null,
   "id": "3aaa8ba9-0a65-48e4-ba8f-9815cb32f561",
   "metadata": {},
   "outputs": [],
   "source": [
    "#when to use 2D sets\n"
   ]
  }
 ],
 "metadata": {
  "kernelspec": {
   "display_name": "Python 3 (ipykernel)",
   "language": "python",
   "name": "python3"
  },
  "language_info": {
   "codemirror_mode": {
    "name": "ipython",
    "version": 3
   },
   "file_extension": ".py",
   "mimetype": "text/x-python",
   "name": "python",
   "nbconvert_exporter": "python",
   "pygments_lexer": "ipython3",
   "version": "3.12.4"
  }
 },
 "nbformat": 4,
 "nbformat_minor": 5
}
