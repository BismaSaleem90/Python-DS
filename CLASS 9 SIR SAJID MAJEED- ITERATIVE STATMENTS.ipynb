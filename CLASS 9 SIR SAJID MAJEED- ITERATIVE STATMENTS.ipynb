{
 "cells": [
  {
   "cell_type": "code",
   "execution_count": null,
   "id": "72bb2155-1d17-4bde-b8a3-191ca11dc283",
   "metadata": {},
   "outputs": [],
   "source": [
    "# #WHY WE USE LOOPS\n",
    "# ESI POSSIBLE SITUATIONS JAHAN PE EK HE KAAM BAR BAR KARNA HAI WAHAN PE HUM LOOPS USE KARTE HAIN"
   ]
  },
  {
   "cell_type": "code",
   "execution_count": null,
   "id": "307567a6-616e-42f8-b118-978c133073d3",
   "metadata": {},
   "outputs": [],
   "source": []
  },
  {
   "cell_type": "code",
   "execution_count": null,
   "id": "cc5a57dd-acd9-4d23-97ea-71dbed6cb843",
   "metadata": {},
   "outputs": [],
   "source": [
    "import random"
   ]
  },
  {
   "cell_type": "code",
   "execution_count": null,
   "id": "2fd1d814-d5e2-4d1a-b15f-b1f609a5e47a",
   "metadata": {},
   "outputs": [],
   "source": [
    "jackpot = random.randint(1,100)\n",
    "print(jackpot)\n",
    "guess_num= int(input('Guesss the Num'))\n",
    "while guess_num!=jackpot:\n",
    "    if guess_num< jackpot:\n",
    "        print('Guess Higher')\n",
    "    else: \n",
    "        print('Guess Lower')\n",
    "    guess_num= int(input('Guesss the Num'))\n",
    "    counter=counter+1\n",
    "else:\n",
    "    print('Correct Guess')"
   ]
  },
  {
   "cell_type": "code",
   "execution_count": null,
   "id": "ecbca92f-2d53-4221-80aa-47e2bb9a6f48",
   "metadata": {},
   "outputs": [],
   "source": [
    "jackpot = random.randint(1,100)\n",
    "print(jackpot)\n",
    "guess_num= int(input('Guesss the Num'))\n",
    "while guess_num!=jackpot:\n",
    "    if guess_num< jackpot:\n",
    "        print('Guess Higher')\n",
    "    else: \n",
    "        print('Guess Lower')\n",
    "    guess_num= int(input('Guesss the Num'))\n",
    "    counter=counter+1\n",
    "else:\n",
    "    print('Correct Guess')"
   ]
  },
  {
   "cell_type": "code",
   "execution_count": null,
   "id": "578feeb1-6e2e-44da-aec3-964dcd32c2ac",
   "metadata": {},
   "outputs": [],
   "source": []
  }
 ],
 "metadata": {
  "kernelspec": {
   "display_name": "Python 3 (ipykernel)",
   "language": "python",
   "name": "python3"
  },
  "language_info": {
   "codemirror_mode": {
    "name": "ipython",
    "version": 3
   },
   "file_extension": ".py",
   "mimetype": "text/x-python",
   "name": "python",
   "nbconvert_exporter": "python",
   "pygments_lexer": "ipython3",
   "version": "3.12.4"
  }
 },
 "nbformat": 4,
 "nbformat_minor": 5
}
