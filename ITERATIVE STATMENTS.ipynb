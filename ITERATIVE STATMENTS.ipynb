{
 "cells": [
  {
   "cell_type": "code",
   "execution_count": 1,
   "id": "9d8a7888-b0ca-4c43-accc-e11156c528d3",
   "metadata": {},
   "outputs": [
    {
     "name": "stdout",
     "output_type": "stream",
     "text": [
      "you cannot cast a vote\n"
     ]
    }
   ],
   "source": [
    "#CONDITIONAL STATMENTS:\n",
    "# IF, ELSE\n",
    "age=18\n",
    "if age>18:\n",
    "    print('you can cast a vote')\n",
    "else:\n",
    "    print('you cannot cast a vote')"
   ]
  },
  {
   "cell_type": "code",
   "execution_count": 3,
   "id": "8d0cd90c-9187-4e49-8547-03dea310560a",
   "metadata": {},
   "outputs": [
    {
     "name": "stdin",
     "output_type": "stream",
     "text": [
      "Enter your age: 20\n"
     ]
    },
    {
     "name": "stdout",
     "output_type": "stream",
     "text": [
      "you can cast a vote\n"
     ]
    }
   ],
   "source": [
    "age = float(input(\"Enter your age:\"))\n",
    "if age>18:\n",
    "    print('you can cast a vote')\n",
    "else:\n",
    "    print('you cannot cast a vote')"
   ]
  },
  {
   "cell_type": "code",
   "execution_count": 5,
   "id": "35a154e6-81c2-4711-b04f-5f8edac801a2",
   "metadata": {},
   "outputs": [
    {
     "name": "stdin",
     "output_type": "stream",
     "text": [
      "Enter your age: 20\n"
     ]
    },
    {
     "name": "stdout",
     "output_type": "stream",
     "text": [
      "you can cast a vote\n"
     ]
    }
   ],
   "source": [
    "age = float(input(\"Enter your age:\"))\n",
    "if age>18:\n",
    "    print('you can cast a vote')\n",
    "elif age==18:\n",
    "    print('You are 18 year old')\n",
    "else:\n",
    "    print('you cannot cast a vote')"
   ]
  },
  {
   "cell_type": "code",
   "execution_count": 11,
   "id": "5e2b2255-7627-4be4-b56f-878b8086c16f",
   "metadata": {},
   "outputs": [
    {
     "name": "stdin",
     "output_type": "stream",
     "text": [
      "Enter your Name: BISMA\n"
     ]
    },
    {
     "ename": "TypeError",
     "evalue": "'>' not supported between instances of 'str' and 'int'",
     "output_type": "error",
     "traceback": [
      "\u001b[1;31m---------------------------------------------------------------------------\u001b[0m",
      "\u001b[1;31mTypeError\u001b[0m                                 Traceback (most recent call last)",
      "Cell \u001b[1;32mIn[11], line 2\u001b[0m\n\u001b[0;32m      1\u001b[0m name\u001b[38;5;241m=\u001b[39m \u001b[38;5;28minput\u001b[39m(\u001b[38;5;124m'\u001b[39m\u001b[38;5;124mEnter your Name:\u001b[39m\u001b[38;5;124m'\u001b[39m)\n\u001b[1;32m----> 2\u001b[0m \u001b[38;5;28;01mif\u001b[39;00m name\u001b[38;5;241m>\u001b[39m\u001b[38;5;241m10\u001b[39m:\n\u001b[0;32m      3\u001b[0m     \u001b[38;5;28mprint\u001b[39m(\u001b[38;5;124m'\u001b[39m\u001b[38;5;124mToo Big\u001b[39m\u001b[38;5;124m'\u001b[39m)\n\u001b[0;32m      4\u001b[0m \u001b[38;5;28;01melif\u001b[39;00m age\u001b[38;5;241m==\u001b[39m\u001b[38;5;241m8\u001b[39m:\n",
      "\u001b[1;31mTypeError\u001b[0m: '>' not supported between instances of 'str' and 'int'"
     ]
    }
   ],
   "source": [
    "name= input('Enter your Name:')\n",
    "if name>10:\n",
    "    print('Too Big')\n",
    "elif age==8:\n",
    "    print('Moderate')\n",
    "else:\n",
    "    print('Fine')"
   ]
  },
  {
   "cell_type": "code",
   "execution_count": 5,
   "id": "3265071c-ed1b-4cdf-af1a-8f0d4fe69cb3",
   "metadata": {},
   "outputs": [
    {
     "name": "stdin",
     "output_type": "stream",
     "text": [
      "Enter your Name: BISMA SALEEM\n"
     ]
    },
    {
     "name": "stdout",
     "output_type": "stream",
     "text": [
      "Too Big\n"
     ]
    }
   ],
   "source": [
    "name= input('Enter your Name:')\n",
    "if len(name)>10:\n",
    "    print('Too Big')\n",
    "elif len(name)==8:\n",
    "    print('Moderate')\n",
    "else:\n",
    "    print('Fine')"
   ]
  },
  {
   "cell_type": "code",
   "execution_count": null,
   "id": "4f09ad02-b392-4183-ab24-90fefd7c8bd1",
   "metadata": {},
   "outputs": [],
   "source": [
    "num1= int(input('Enter your num1:')\n",
    "num2= int(input('Enter your num2:')\n",
    "num3= int(input('Enter your num3:')\n",
    "if "
   ]
  },
  {
   "cell_type": "code",
   "execution_count": 7,
   "id": "ad7cbded-23be-4b91-aa9c-cc445532d51d",
   "metadata": {},
   "outputs": [
    {
     "name": "stdin",
     "output_type": "stream",
     "text": [
      "Enter Number1 : 60\n",
      "Enter Number2 : 40\n",
      "Enter Number3 : 70\n"
     ]
    },
    {
     "name": "stdout",
     "output_type": "stream",
     "text": [
      "Number2 is Smallest 40\n"
     ]
    }
   ],
   "source": [
    "\n",
    "number1 = int(input(\"Enter Number1 :\"))\n",
    "number2 = int(input(\"Enter Number2 :\"))\n",
    "number3 = int(input(\"Enter Number3 :\"))\n",
    "\n",
    "if number1<number2 and number1<number3:\n",
    "    print(\"Number1 is Smallest \",number1)\n",
    "elif number2< number3:\n",
    "    print(\"Number2 is Smallest\",number2)\n",
    "else:\n",
    "    print(\"Number3 is Smallest\",number3)"
   ]
  },
  {
   "cell_type": "code",
   "execution_count": 19,
   "id": "30c36e71-3655-4082-a322-43eea3bd14e0",
   "metadata": {},
   "outputs": [
    {
     "name": "stdin",
     "output_type": "stream",
     "text": [
      "Enter your Number -3\n"
     ]
    },
    {
     "name": "stdout",
     "output_type": "stream",
     "text": [
      "Number Entered by user is Negative\n"
     ]
    }
   ],
   "source": [
    "# identify a nature of a number is +ve , zero , _ve entered by user\n",
    "number = int(input(\"Enter your Number\"))\n",
    "\n",
    "if number>0:\n",
    "    print(\"Number Entered by user is Positive\")\n",
    "elif number<0:\n",
    "    print(\"Number Entered by user is Negative\")\n",
    "else:\n",
    "    print(\"Number is Zero\")"
   ]
  },
  {
   "cell_type": "code",
   "execution_count": 9,
   "id": "437eb0ee-4d20-4ad0-8a9c-fecfbbeecf1f",
   "metadata": {},
   "outputs": [
    {
     "name": "stdin",
     "output_type": "stream",
     "text": [
      "Enter a number:  h\n"
     ]
    },
    {
     "name": "stdout",
     "output_type": "stream",
     "text": [
      "Enter a valid number.\n"
     ]
    }
   ],
   "source": [
    "# what if user enter some alphabet or anything else\n",
    "user_input = input(\"Enter a number: \")\n",
    "\n",
    "if user_input.replace(\".\",\"\").replace(\"-\",\"\").replace(\"+\",\"\").isdigit():\n",
    "  # Check if input is a digit\n",
    "    num = float(user_input)\n",
    "    if num > 0:\n",
    "        print(\"The number is positive.\")\n",
    "    elif num == 0:\n",
    "        print(\"The number is zero.\")\n",
    "    else:\n",
    "        print(\"The number is negative.\")\n",
    "else:\n",
    "    print(\"Enter a valid number.\")"
   ]
  },
  {
   "cell_type": "code",
   "execution_count": 25,
   "id": "bcd03c31-345b-43ad-b407-8bfe0725b114",
   "metadata": {},
   "outputs": [
    {
     "name": "stdin",
     "output_type": "stream",
     "text": [
      "Enter your username: bismey90@abc.com\n",
      "Enter your password; abc123\n"
     ]
    },
    {
     "name": "stdout",
     "output_type": "stream",
     "text": [
      "Welcome to gmail\n"
     ]
    }
   ],
   "source": [
    "username= input('Enter your username:')\n",
    "password = input('Enter your password;')\n",
    "if username == 'bismey90@abc.com' and password== 'abc123':\n",
    "    print('Welcome to gmail')\n",
    "else:\n",
    "    print( 'username and password incorrect')\n",
    "\n"
   ]
  },
  {
   "cell_type": "code",
   "execution_count": null,
   "id": "b715c332-fc14-42d5-b8c8-14dcccbbcc4b",
   "metadata": {},
   "outputs": [],
   "source": [
    "# # if password is wrong then give user a chance to enter password again and give if statment again\n",
    "# otherwise block"
   ]
  },
  {
   "cell_type": "code",
   "execution_count": 15,
   "id": "87b46259-749d-463c-89b1-533094ff5655",
   "metadata": {},
   "outputs": [
    {
     "name": "stdin",
     "output_type": "stream",
     "text": [
      "Enter your username: bis34\n",
      "Enter your password: BCE34\n"
     ]
    },
    {
     "name": "stdout",
     "output_type": "stream",
     "text": [
      "Incorrect Username & Password Try Again\n"
     ]
    }
   ],
   "source": [
    "username= input('Enter your username:')\n",
    "password = input('Enter your password:')\n",
    "if username=='bisma99' and password=='abc12345':\n",
    "    print('Welcome Bisma')\n",
    "elif username=='bisma99' and password != 'abc12345':\n",
    "    print('Incorrect Password')\n",
    "    password = input('Enter your password 2nd attempt:')\n",
    "    if password == 'abc12345':\n",
    "        print(\"Welcome to Gmail after 2nd Attempt\")\n",
    "    else:\n",
    "        print('Incorrect Password Account Blocked')\n",
    "else:\n",
    "   if username!='bisma99' and password!='abc12345':\n",
    "    print('Incorrect Username & Password Try Again')"
   ]
  }
 ],
 "metadata": {
  "kernelspec": {
   "display_name": "Python 3 (ipykernel)",
   "language": "python",
   "name": "python3"
  },
  "language_info": {
   "codemirror_mode": {
    "name": "ipython",
    "version": 3
   },
   "file_extension": ".py",
   "mimetype": "text/x-python",
   "name": "python",
   "nbconvert_exporter": "python",
   "pygments_lexer": "ipython3",
   "version": "3.12.4"
  }
 },
 "nbformat": 4,
 "nbformat_minor": 5
}
