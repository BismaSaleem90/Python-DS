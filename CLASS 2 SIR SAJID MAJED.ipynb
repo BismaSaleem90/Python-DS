{
 "cells": [
  {
   "cell_type": "code",
   "execution_count": 9,
   "id": "0aecd35a-e2aa-4504-814a-903c84c9bb4c",
   "metadata": {},
   "outputs": [
    {
     "name": "stdin",
     "output_type": "stream",
     "text": [
      "Enter your number1: 2\n",
      "Enter your number2: 4\n"
     ]
    },
    {
     "name": "stdout",
     "output_type": "stream",
     "text": [
      "The sum of number1 and number2 is: 6.0\n"
     ]
    }
   ],
   "source": [
    "number1 = float(input(\"Enter your number1:\"))\n",
    "number2 = float(input(\"Enter your number2:\"))\n",
    "sum= number1+number2\n",
    "print(\"The sum of number1 and number2 is:\" ,sum)"
   ]
  },
  {
   "cell_type": "code",
   "execution_count": 37,
   "id": "df6b4468-8302-4137-89be-4ef21104f199",
   "metadata": {},
   "outputs": [
    {
     "name": "stdin",
     "output_type": "stream",
     "text": [
      "Enter your number3: 3\n"
     ]
    },
    {
     "name": "stdout",
     "output_type": "stream",
     "text": [
      "The power of number3 is: 9.0\n"
     ]
    }
   ],
   "source": [
    "number3= float(input(\"Enter your number3:\"))\n",
    "power= number3**2\n",
    "print(\"The power of number3 is:\",power)"
   ]
  },
  {
   "cell_type": "code",
   "execution_count": 19,
   "id": "84dbd6d5-c665-4f4c-85b2-eb42af54cf2e",
   "metadata": {},
   "outputs": [
    {
     "name": "stdout",
     "output_type": "stream",
     "text": [
      "Bisma Female 25 MBL True\n",
      "<class 'str'> <class 'str'> <class 'int'> <class 'str'> <class 'bool'>\n"
     ]
    }
   ],
   "source": [
    "name,gender,age,organization,is_job= \"Bisma\",\"Female\",25,\"MBL\",True\n",
    "print(name,gender,age,organization,is_job)\n",
    "print(type(name),type(gender),type(age),type(organization),type(is_job))\n"
   ]
  },
  {
   "cell_type": "code",
   "execution_count": 33,
   "id": "b6d5c31a-d67f-433b-9b5d-3f882356bfd1",
   "metadata": {},
   "outputs": [
    {
     "name": "stdin",
     "output_type": "stream",
     "text": [
      "Enter your subject1: 90\n",
      "Enter your subject2: 90\n",
      "Enter your subject3: 90\n",
      "Enter your subject4: 90\n",
      "Enter your subject5: 90\n",
      "Enter your total_marks: 500\n"
     ]
    },
    {
     "name": "stdout",
     "output_type": "stream",
     "text": [
      "the total marks obtained is 450.0\n",
      "the percentage is 90.0\n"
     ]
    }
   ],
   "source": [
    "subject1= float(input(\"Enter your subject1:\"))\n",
    "subject2= float(input(\"Enter your subject2:\"))\n",
    "subject3= float(input(\"Enter your subject3:\"))\n",
    "subject4= float(input(\"Enter your subject4:\"))\n",
    "subject5= float(input(\"Enter your subject5:\"))\n",
    "total_marks =float(input(\"Enter your total_marks:\"))\n",
    "marks_obtained = subject1+subject2+subject3+subject4+subject5\n",
    "percentage= marks_obtained/total_marks*100\n",
    "print(\"the total marks obtained is\", marks_obtained)\n",
    "print(\"the percentage is\", percentage)"
   ]
  },
  {
   "cell_type": "code",
   "execution_count": null,
   "id": "c5b41df7-7662-40bd-9f2c-5787a0956a66",
   "metadata": {},
   "outputs": [],
   "source": []
  }
 ],
 "metadata": {
  "kernelspec": {
   "display_name": "Python 3 (ipykernel)",
   "language": "python",
   "name": "python3"
  },
  "language_info": {
   "codemirror_mode": {
    "name": "ipython",
    "version": 3
   },
   "file_extension": ".py",
   "mimetype": "text/x-python",
   "name": "python",
   "nbconvert_exporter": "python",
   "pygments_lexer": "ipython3",
   "version": "3.12.4"
  }
 },
 "nbformat": 4,
 "nbformat_minor": 5
}
