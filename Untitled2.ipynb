{
 "cells": [
  {
   "cell_type": "code",
   "execution_count": 1,
   "id": "5d432080-245a-471f-9ef5-08bed5f57252",
   "metadata": {},
   "outputs": [
    {
     "name": "stdout",
     "output_type": "stream",
     "text": [
      "[4, 3, 4, 5]\n"
     ]
    },
    {
     "data": {
      "text/plain": [
       "[4, 3, 4, 5]"
      ]
     },
     "execution_count": 1,
     "metadata": {},
     "output_type": "execute_result"
    }
   ],
   "source": [
    "def list_square(num_list):\n",
    "    for i in range(len(num_list)):\n",
    "        num_list[i]=num_list[i]**2\n",
    "        print(num_list)\n",
    "        return num_list\n",
    "\n",
    "num_list=[2,3,4,5]\n",
    "list_square(num_list)"
   ]
  },
  {
   "cell_type": "code",
   "execution_count": 3,
   "id": "006a756e-6f63-49bd-ba0a-32a62134a1ca",
   "metadata": {},
   "outputs": [
    {
     "name": "stdout",
     "output_type": "stream",
     "text": [
      "[4, 9, 16, 25, 36]\n"
     ]
    }
   ],
   "source": [
    "def square_numbers(numbers_list):\n",
    "    list_squares = []\n",
    "    for x in numbers_list:\n",
    "        list_squares.append(x*x)\n",
    "    return list_squares\n",
    "\n",
    "numbers_list = [2,3,4,5,6]\n",
    "print(square_numbers(numbers_list))"
   ]
  }
 ],
 "metadata": {
  "kernelspec": {
   "display_name": "Python 3 (ipykernel)",
   "language": "python",
   "name": "python3"
  },
  "language_info": {
   "codemirror_mode": {
    "name": "ipython",
    "version": 3
   },
   "file_extension": ".py",
   "mimetype": "text/x-python",
   "name": "python",
   "nbconvert_exporter": "python",
   "pygments_lexer": "ipython3",
   "version": "3.12.4"
  }
 },
 "nbformat": 4,
 "nbformat_minor": 5
}
